{
  "nbformat": 4,
  "nbformat_minor": 0,
  "metadata": {
    "colab": {
      "provenance": []
    },
    "kernelspec": {
      "name": "python3",
      "display_name": "Python 3"
    },
    "language_info": {
      "name": "python"
    }
  },
  "cells": [
    {
      "cell_type": "code",
      "execution_count": 1,
      "metadata": {
        "colab": {
          "base_uri": "https://localhost:8080/"
        },
        "id": "y4t99zwOxgxf",
        "outputId": "ee39a4a8-f123-4baa-f420-fa1ce8e5787e"
      },
      "outputs": [
        {
          "output_type": "stream",
          "name": "stdout",
          "text": [
            "Collecting kaggle==1.5.12\n",
            "  Downloading kaggle-1.5.12.tar.gz (58 kB)\n",
            "\u001b[?25l     \u001b[90m━━━━━━━━━━━━━━━━━━━━━━━━━━━━━━━━━━━━━━━━\u001b[0m \u001b[32m0.0/59.0 kB\u001b[0m \u001b[31m?\u001b[0m eta \u001b[36m-:--:--\u001b[0m\r\u001b[2K     \u001b[90m━━━━━━━━━━━━━━━━━━━━━━━━━━━━━━━━━━━━━━━━\u001b[0m \u001b[32m59.0/59.0 kB\u001b[0m \u001b[31m2.4 MB/s\u001b[0m eta \u001b[36m0:00:00\u001b[0m\n",
            "\u001b[?25h  Preparing metadata (setup.py) ... \u001b[?25l\u001b[?25hdone\n",
            "Requirement already satisfied: six>=1.10 in /usr/local/lib/python3.10/dist-packages (from kaggle==1.5.12) (1.16.0)\n",
            "Requirement already satisfied: certifi in /usr/local/lib/python3.10/dist-packages (from kaggle==1.5.12) (2024.7.4)\n",
            "Requirement already satisfied: python-dateutil in /usr/local/lib/python3.10/dist-packages (from kaggle==1.5.12) (2.8.2)\n",
            "Requirement already satisfied: requests in /usr/local/lib/python3.10/dist-packages (from kaggle==1.5.12) (2.32.3)\n",
            "Requirement already satisfied: tqdm in /usr/local/lib/python3.10/dist-packages (from kaggle==1.5.12) (4.66.5)\n",
            "Requirement already satisfied: python-slugify in /usr/local/lib/python3.10/dist-packages (from kaggle==1.5.12) (8.0.4)\n",
            "Requirement already satisfied: urllib3 in /usr/local/lib/python3.10/dist-packages (from kaggle==1.5.12) (2.0.7)\n",
            "Requirement already satisfied: text-unidecode>=1.3 in /usr/local/lib/python3.10/dist-packages (from python-slugify->kaggle==1.5.12) (1.3)\n",
            "Requirement already satisfied: charset-normalizer<4,>=2 in /usr/local/lib/python3.10/dist-packages (from requests->kaggle==1.5.12) (3.3.2)\n",
            "Requirement already satisfied: idna<4,>=2.5 in /usr/local/lib/python3.10/dist-packages (from requests->kaggle==1.5.12) (3.7)\n",
            "Building wheels for collected packages: kaggle\n",
            "  Building wheel for kaggle (setup.py) ... \u001b[?25l\u001b[?25hdone\n",
            "  Created wheel for kaggle: filename=kaggle-1.5.12-py3-none-any.whl size=73027 sha256=6d6ad14034824d105137a8297c4b506e7c7ced7f310d96ca9eb0b9c14d903017\n",
            "  Stored in directory: /root/.cache/pip/wheels/70/0c/e6/79103212a102e78b8453691b905f48000219574ba7137e7207\n",
            "Successfully built kaggle\n",
            "Installing collected packages: kaggle\n",
            "  Attempting uninstall: kaggle\n",
            "    Found existing installation: kaggle 1.6.17\n",
            "    Uninstalling kaggle-1.6.17:\n",
            "      Successfully uninstalled kaggle-1.6.17\n",
            "Successfully installed kaggle-1.5.12\n"
          ]
        }
      ],
      "source": [
        "!pip install kaggle==1.5.12\n",
        "!mkdir -p ~/.kaggle\n"
      ]
    },
    {
      "cell_type": "code",
      "source": [
        "!cp kaggle.json ~/.kaggle/"
      ],
      "metadata": {
        "id": "jhmH2sBC0sPu"
      },
      "execution_count": 2,
      "outputs": []
    },
    {
      "cell_type": "code",
      "source": [
        "!chmod 600 /content/kaggle.json"
      ],
      "metadata": {
        "id": "k0GRR8CT08Cx"
      },
      "execution_count": 3,
      "outputs": []
    },
    {
      "cell_type": "code",
      "source": [
        "!kaggle datasets download -d rounakbanik/the-movies-dataset"
      ],
      "metadata": {
        "colab": {
          "base_uri": "https://localhost:8080/"
        },
        "id": "p2M3mo9O1AXg",
        "outputId": "25a1fd65-6b03-41f3-a4c9-8c61a7158228"
      },
      "execution_count": 4,
      "outputs": [
        {
          "output_type": "stream",
          "name": "stdout",
          "text": [
            "Warning: Your Kaggle API key is readable by other users on this system! To fix this, you can run 'chmod 600 /root/.kaggle/kaggle.json'\n",
            "Downloading the-movies-dataset.zip to /content\n",
            " 86% 197M/228M [00:00<00:00, 263MB/s]\n",
            "100% 228M/228M [00:00<00:00, 270MB/s]\n"
          ]
        }
      ]
    },
    {
      "cell_type": "code",
      "source": [
        "!unzip the-movies-dataset.zip\n"
      ],
      "metadata": {
        "colab": {
          "base_uri": "https://localhost:8080/"
        },
        "id": "SHyHtKF41ate",
        "outputId": "e9ce8ac9-4281-4a47-eb2e-7b7db796c3de"
      },
      "execution_count": 5,
      "outputs": [
        {
          "output_type": "stream",
          "name": "stdout",
          "text": [
            "Archive:  the-movies-dataset.zip\n",
            "  inflating: credits.csv             \n",
            "  inflating: keywords.csv            \n",
            "  inflating: links.csv               \n",
            "  inflating: links_small.csv         \n",
            "  inflating: movies_metadata.csv     \n",
            "  inflating: ratings.csv             \n",
            "  inflating: ratings_small.csv       \n"
          ]
        }
      ]
    },
    {
      "cell_type": "code",
      "source": [
        "import pandas as pd\n",
        "import numpy as np"
      ],
      "metadata": {
        "id": "NoyIeVgL1dFj"
      },
      "execution_count": 6,
      "outputs": []
    },
    {
      "cell_type": "code",
      "source": [
        "ratings_df = pd.read_csv('/content/ratings.csv')\n",
        "# drop time stamp\n",
        "ratings_df.drop('timestamp', axis=1, inplace=True)\n",
        "\n",
        "print(f\"Ratings_df shape : {ratings_df.shape}\")\n",
        "print(\"\\n\")\n",
        "print(\"-----------------------------------------\")\n",
        "print(\"\\n\")\n",
        "\n",
        "print(f\"describe : \\n {ratings_df.describe()} \")\n",
        "print(\"\\n\")\n",
        "\n",
        "print(\"-----------------------------------------\")\n",
        "print(\"\\n\")\n",
        "\n",
        "print(f\"info : \\n {ratings_df.info()}\")\n",
        "print(\"\\n\")\n",
        "\n",
        "print(\"-----------------------------------------\")\n",
        "print(\"\\n\")\n",
        "\n",
        "print(f\"Intitally unique user`s : {ratings_df['userId'].nunique()}\")\n",
        "print(\"\\n\")\n",
        "\n",
        "print(\"-----------------------------------------\")\n",
        "print(\"\\n\")\n",
        "\n",
        "# due to size, we are only going to use first 500 unique users\n",
        "\n",
        "# ratings_df = ratings_df[ratings_df[\"userId\"].isin(ratings_df[\"userId\"].unique()[:500])]\n",
        "# print(\"\\n\")\n",
        "\n",
        "# print(f\"After filtering, Ratings_df shape : {ratings_df.shape}\")\n",
        "# print(\"\\n\")\n",
        "\n",
        "# print(\"-----------------------------------------\")\n",
        "# print(\"\\n\")\n",
        "\n",
        "# print(f\"After filtering,  unique user`s : {ratings_df['userId'].nunique()}\")\n",
        "# print(\"\\n\")\n",
        "\n",
        "# print(\"-----------------------------------------\")\n"
      ],
      "metadata": {
        "id": "NcYXBEUc1heK",
        "colab": {
          "base_uri": "https://localhost:8080/"
        },
        "outputId": "78caeede-efc9-4d16-d04f-51d5602c8dc3"
      },
      "execution_count": 114,
      "outputs": [
        {
          "output_type": "stream",
          "name": "stdout",
          "text": [
            "Ratings_df shape : (26024289, 3)\n",
            "\n",
            "\n",
            "-----------------------------------------\n",
            "\n",
            "\n",
            "describe : \n",
            "              userId       movieId        rating\n",
            "count  2.602429e+07  2.602429e+07  2.602429e+07\n",
            "mean   1.350371e+05  1.584911e+04  3.528090e+00\n",
            "std    7.817620e+04  3.108526e+04  1.065443e+00\n",
            "min    1.000000e+00  1.000000e+00  5.000000e-01\n",
            "25%    6.716400e+04  1.073000e+03  3.000000e+00\n",
            "50%    1.351630e+05  2.583000e+03  3.500000e+00\n",
            "75%    2.026930e+05  6.503000e+03  4.000000e+00\n",
            "max    2.708960e+05  1.762750e+05  5.000000e+00 \n",
            "\n",
            "\n",
            "-----------------------------------------\n",
            "\n",
            "\n",
            "<class 'pandas.core.frame.DataFrame'>\n",
            "RangeIndex: 26024289 entries, 0 to 26024288\n",
            "Data columns (total 3 columns):\n",
            " #   Column   Dtype  \n",
            "---  ------   -----  \n",
            " 0   userId   int64  \n",
            " 1   movieId  int64  \n",
            " 2   rating   float64\n",
            "dtypes: float64(1), int64(2)\n",
            "memory usage: 595.6 MB\n",
            "info : \n",
            " None\n",
            "\n",
            "\n",
            "-----------------------------------------\n",
            "\n",
            "\n",
            "Intitally unique user`s : 270896\n",
            "\n",
            "\n",
            "-----------------------------------------\n",
            "\n",
            "\n"
          ]
        }
      ]
    },
    {
      "cell_type": "markdown",
      "source": [
        "# Creating an Interaction Matrix\n",
        "\n",
        "## Positive Interaction -> Will be labelled as 1\n",
        "    ### Hard Positives: rating >= 4\n",
        "    ### Soft positive: 4>rating>= 3\n",
        "## Negative Interaction -> will be labelled as 0\n",
        "    ### Soft Negative: 3>rating>=2\n",
        "    ### Hard Negative: 2>rating>=1 or less than 1\n",
        "\n",
        "\n",
        "---\n",
        "\n",
        "\n",
        "## Ratio of positive : negative for every user : 1:4\n",
        "\n",
        "\n",
        "---\n",
        "\n"
      ],
      "metadata": {
        "id": "FU93eylM2-PQ"
      }
    },
    {
      "cell_type": "code",
      "source": [
        "hardpositve = 4.0\n",
        "softpositive = 3.0\n",
        "softnegative = 2.0\n",
        "hardnegative = 1.\n",
        "\n",
        "ratings_df[\"interaction\"] = 0\n",
        "ratings_df.interaction[ratings_df[\"rating\"] >= softpositive] = 1\n",
        "\n",
        "\n",
        "positive_samples = ratings_df[ratings_df[\"interaction\"] == 1]\n",
        "negative_samples = ratings_df[ratings_df[\"interaction\"] == 0]\n",
        "print(f\"positive_samples shape : {positive_samples.shape}\")\n",
        "print(f\"negative_samples shape : {negative_samples.shape}\")"
      ],
      "metadata": {
        "colab": {
          "base_uri": "https://localhost:8080/"
        },
        "id": "EJUCP12J1_mO",
        "outputId": "8cbba709-33fb-4587-a13c-376e0dbf083b",
        "collapsed": true
      },
      "execution_count": 169,
      "outputs": [
        {
          "output_type": "stream",
          "name": "stderr",
          "text": [
            "<ipython-input-169-578d9c408abe>:7: SettingWithCopyWarning: \n",
            "A value is trying to be set on a copy of a slice from a DataFrame\n",
            "\n",
            "See the caveats in the documentation: https://pandas.pydata.org/pandas-docs/stable/user_guide/indexing.html#returning-a-view-versus-a-copy\n",
            "  ratings_df.interaction[ratings_df[\"rating\"] >= softpositive] = 1\n"
          ]
        },
        {
          "output_type": "stream",
          "name": "stdout",
          "text": [
            "positive_samples shape : (21354677, 4)\n",
            "negative_samples shape : (4669612, 4)\n"
          ]
        }
      ]
    },
    {
      "cell_type": "code",
      "source": [
        "negative_grouped = negative_samples.groupby('userId')\n",
        "count = 0\n",
        "for userId, group in negative_grouped:\n",
        "    if count >= 3:\n",
        "        break\n",
        "    print(f\"User ID: {userId}\")\n",
        "    print(group)\n",
        "    print(\"--------------------\")\n",
        "    count += 1"
      ],
      "metadata": {
        "colab": {
          "base_uri": "https://localhost:8080/"
        },
        "collapsed": true,
        "id": "_pzafB7cQDa2",
        "outputId": "05292809-a9da-41dd-a749-5449904bf4a3"
      },
      "execution_count": 118,
      "outputs": [
        {
          "output_type": "stream",
          "name": "stdout",
          "text": [
            "User ID: 1\n",
            "    userId  movieId  rating  interaction\n",
            "0        1      110     1.0            0\n",
            "20       1    91500     2.5            0\n",
            "24       1    98809     0.5            0\n",
            "--------------------\n",
            "User ID: 2\n",
            "    userId  movieId  rating  interaction\n",
            "29       2       32     2.0            0\n",
            "42       2      786     1.0            0\n",
            "43       2      788     1.0            0\n",
            "48       2     1552     2.0            0\n",
            "--------------------\n",
            "User ID: 3\n",
            "    userId  movieId  rating  interaction\n",
            "50       3      500     2.0            0\n",
            "--------------------\n"
          ]
        }
      ]
    },
    {
      "cell_type": "code",
      "source": [
        "\"\"\"\n",
        "Some groups have a length of fewer than 4. So we only include groups where len >= 4. only these user\n",
        "will be added to final balanced dataset .\n",
        "\"\"\"\n",
        "negative_grouped_with_size4 = negative_grouped.filter(lambda x: len(x) >= 4)\n",
        "# convert the negative_grouped_with_size4 df to group_by object\n",
        "negative_grouped = negative_grouped_with_size4.groupby('userId')\n",
        "count = 0\n",
        "for userId, group in negative_grouped:\n",
        "    if count >= 3:\n",
        "        break\n",
        "    print(f\"User ID: {userId}\")\n",
        "    print(group)\n",
        "    print(\"--------------------\")\n",
        "    count += 1\n"
      ],
      "metadata": {
        "colab": {
          "base_uri": "https://localhost:8080/"
        },
        "collapsed": true,
        "id": "ekH8X3c4ZnA6",
        "outputId": "102a658a-b797-4c0e-eaf8-ac606242b411"
      },
      "execution_count": 139,
      "outputs": [
        {
          "output_type": "stream",
          "name": "stdout",
          "text": [
            "User ID: 2\n",
            "    userId  movieId  rating  interaction\n",
            "29       2       32     2.0            0\n",
            "42       2      786     1.0            0\n",
            "43       2      788     1.0            0\n",
            "48       2     1552     2.0            0\n",
            "--------------------\n",
            "User ID: 4\n",
            "     userId  movieId  rating  interaction\n",
            "64        4     1210     2.0            0\n",
            "76        4     2338     2.0            0\n",
            "84        4     2694     1.0            0\n",
            "86        4     2710     2.0            0\n",
            "95        4     3004     1.0            0\n",
            "103       4     3409     2.0            0\n",
            "106       4     3623     2.0            0\n",
            "111       4     3908     2.0            0\n",
            "--------------------\n",
            "User ID: 7\n",
            "     userId  movieId  rating  interaction\n",
            "157       7     3948     1.5            0\n",
            "159       7     4306     2.5            0\n",
            "163       7     5810     2.0            0\n",
            "166       7     6934     2.0            0\n",
            "170       7     8961     2.5            0\n",
            "171       7    30793     2.5            0\n",
            "175       7    40815     2.5            0\n",
            "176       7    41566     2.0            0\n",
            "178       7    51255     2.5            0\n",
            "182       7    55247     2.0            0\n",
            "184       7    60074     1.0            0\n",
            "188       7    72378     2.5            0\n",
            "194       7    88744     1.5            0\n",
            "195       7    89745     2.5            0\n",
            "198       7    99114     2.0            0\n",
            "202       7   122904     1.0            0\n",
            "203       7   134853     2.5            0\n",
            "--------------------\n"
          ]
        }
      ]
    },
    {
      "cell_type": "code",
      "source": [
        "# number of unique user_id in neagtive grouped. we will only use first 5000 unique users.\n",
        "len(negative_grouped['userId'].unique())"
      ],
      "metadata": {
        "colab": {
          "base_uri": "https://localhost:8080/"
        },
        "id": "tSlVtKesdNQt",
        "outputId": "35f2df8d-0776-47e0-fc4d-0de0113da52c"
      },
      "execution_count": 149,
      "outputs": [
        {
          "output_type": "execute_result",
          "data": {
            "text/plain": [
              "141140"
            ]
          },
          "metadata": {},
          "execution_count": 149
        }
      ]
    },
    {
      "cell_type": "code",
      "source": [
        "# unique instance of positive interactin\n",
        "unique_positive_samples = positive_samples.drop_duplicates(subset=['userId'])\n",
        "print(f\"unique_positive_samples shape : {unique_positive_samples.shape}\")\n",
        "unique_positive_samples.head()"
      ],
      "metadata": {
        "colab": {
          "base_uri": "https://localhost:8080/",
          "height": 223
        },
        "id": "XoU3TqN6iqcO",
        "outputId": "8dfce65c-6096-4887-d2d4-c834d6543493"
      },
      "execution_count": 163,
      "outputs": [
        {
          "output_type": "stream",
          "name": "stdout",
          "text": [
            "unique_positive_samples shape : (269316, 4)\n"
          ]
        },
        {
          "output_type": "execute_result",
          "data": {
            "text/plain": [
              "     userId  movieId  rating  interaction\n",
              "1         1      147     4.5            1\n",
              "27        2        5     3.0            1\n",
              "49        3      480     3.0            1\n",
              "59        4      223     4.0            1\n",
              "121       5        7     3.0            1"
            ],
            "text/html": [
              "\n",
              "  <div id=\"df-3dc7b320-cb10-4e91-bf83-30e307632b29\" class=\"colab-df-container\">\n",
              "    <div>\n",
              "<style scoped>\n",
              "    .dataframe tbody tr th:only-of-type {\n",
              "        vertical-align: middle;\n",
              "    }\n",
              "\n",
              "    .dataframe tbody tr th {\n",
              "        vertical-align: top;\n",
              "    }\n",
              "\n",
              "    .dataframe thead th {\n",
              "        text-align: right;\n",
              "    }\n",
              "</style>\n",
              "<table border=\"1\" class=\"dataframe\">\n",
              "  <thead>\n",
              "    <tr style=\"text-align: right;\">\n",
              "      <th></th>\n",
              "      <th>userId</th>\n",
              "      <th>movieId</th>\n",
              "      <th>rating</th>\n",
              "      <th>interaction</th>\n",
              "    </tr>\n",
              "  </thead>\n",
              "  <tbody>\n",
              "    <tr>\n",
              "      <th>1</th>\n",
              "      <td>1</td>\n",
              "      <td>147</td>\n",
              "      <td>4.5</td>\n",
              "      <td>1</td>\n",
              "    </tr>\n",
              "    <tr>\n",
              "      <th>27</th>\n",
              "      <td>2</td>\n",
              "      <td>5</td>\n",
              "      <td>3.0</td>\n",
              "      <td>1</td>\n",
              "    </tr>\n",
              "    <tr>\n",
              "      <th>49</th>\n",
              "      <td>3</td>\n",
              "      <td>480</td>\n",
              "      <td>3.0</td>\n",
              "      <td>1</td>\n",
              "    </tr>\n",
              "    <tr>\n",
              "      <th>59</th>\n",
              "      <td>4</td>\n",
              "      <td>223</td>\n",
              "      <td>4.0</td>\n",
              "      <td>1</td>\n",
              "    </tr>\n",
              "    <tr>\n",
              "      <th>121</th>\n",
              "      <td>5</td>\n",
              "      <td>7</td>\n",
              "      <td>3.0</td>\n",
              "      <td>1</td>\n",
              "    </tr>\n",
              "  </tbody>\n",
              "</table>\n",
              "</div>\n",
              "    <div class=\"colab-df-buttons\">\n",
              "\n",
              "  <div class=\"colab-df-container\">\n",
              "    <button class=\"colab-df-convert\" onclick=\"convertToInteractive('df-3dc7b320-cb10-4e91-bf83-30e307632b29')\"\n",
              "            title=\"Convert this dataframe to an interactive table.\"\n",
              "            style=\"display:none;\">\n",
              "\n",
              "  <svg xmlns=\"http://www.w3.org/2000/svg\" height=\"24px\" viewBox=\"0 -960 960 960\">\n",
              "    <path d=\"M120-120v-720h720v720H120Zm60-500h600v-160H180v160Zm220 220h160v-160H400v160Zm0 220h160v-160H400v160ZM180-400h160v-160H180v160Zm440 0h160v-160H620v160ZM180-180h160v-160H180v160Zm440 0h160v-160H620v160Z\"/>\n",
              "  </svg>\n",
              "    </button>\n",
              "\n",
              "  <style>\n",
              "    .colab-df-container {\n",
              "      display:flex;\n",
              "      gap: 12px;\n",
              "    }\n",
              "\n",
              "    .colab-df-convert {\n",
              "      background-color: #E8F0FE;\n",
              "      border: none;\n",
              "      border-radius: 50%;\n",
              "      cursor: pointer;\n",
              "      display: none;\n",
              "      fill: #1967D2;\n",
              "      height: 32px;\n",
              "      padding: 0 0 0 0;\n",
              "      width: 32px;\n",
              "    }\n",
              "\n",
              "    .colab-df-convert:hover {\n",
              "      background-color: #E2EBFA;\n",
              "      box-shadow: 0px 1px 2px rgba(60, 64, 67, 0.3), 0px 1px 3px 1px rgba(60, 64, 67, 0.15);\n",
              "      fill: #174EA6;\n",
              "    }\n",
              "\n",
              "    .colab-df-buttons div {\n",
              "      margin-bottom: 4px;\n",
              "    }\n",
              "\n",
              "    [theme=dark] .colab-df-convert {\n",
              "      background-color: #3B4455;\n",
              "      fill: #D2E3FC;\n",
              "    }\n",
              "\n",
              "    [theme=dark] .colab-df-convert:hover {\n",
              "      background-color: #434B5C;\n",
              "      box-shadow: 0px 1px 3px 1px rgba(0, 0, 0, 0.15);\n",
              "      filter: drop-shadow(0px 1px 2px rgba(0, 0, 0, 0.3));\n",
              "      fill: #FFFFFF;\n",
              "    }\n",
              "  </style>\n",
              "\n",
              "    <script>\n",
              "      const buttonEl =\n",
              "        document.querySelector('#df-3dc7b320-cb10-4e91-bf83-30e307632b29 button.colab-df-convert');\n",
              "      buttonEl.style.display =\n",
              "        google.colab.kernel.accessAllowed ? 'block' : 'none';\n",
              "\n",
              "      async function convertToInteractive(key) {\n",
              "        const element = document.querySelector('#df-3dc7b320-cb10-4e91-bf83-30e307632b29');\n",
              "        const dataTable =\n",
              "          await google.colab.kernel.invokeFunction('convertToInteractive',\n",
              "                                                    [key], {});\n",
              "        if (!dataTable) return;\n",
              "\n",
              "        const docLinkHtml = 'Like what you see? Visit the ' +\n",
              "          '<a target=\"_blank\" href=https://colab.research.google.com/notebooks/data_table.ipynb>data table notebook</a>'\n",
              "          + ' to learn more about interactive tables.';\n",
              "        element.innerHTML = '';\n",
              "        dataTable['output_type'] = 'display_data';\n",
              "        await google.colab.output.renderOutput(dataTable, element);\n",
              "        const docLink = document.createElement('div');\n",
              "        docLink.innerHTML = docLinkHtml;\n",
              "        element.appendChild(docLink);\n",
              "      }\n",
              "    </script>\n",
              "  </div>\n",
              "\n",
              "\n",
              "<div id=\"df-7463ba1d-ab19-4273-9408-05165a4f7118\">\n",
              "  <button class=\"colab-df-quickchart\" onclick=\"quickchart('df-7463ba1d-ab19-4273-9408-05165a4f7118')\"\n",
              "            title=\"Suggest charts\"\n",
              "            style=\"display:none;\">\n",
              "\n",
              "<svg xmlns=\"http://www.w3.org/2000/svg\" height=\"24px\"viewBox=\"0 0 24 24\"\n",
              "     width=\"24px\">\n",
              "    <g>\n",
              "        <path d=\"M19 3H5c-1.1 0-2 .9-2 2v14c0 1.1.9 2 2 2h14c1.1 0 2-.9 2-2V5c0-1.1-.9-2-2-2zM9 17H7v-7h2v7zm4 0h-2V7h2v10zm4 0h-2v-4h2v4z\"/>\n",
              "    </g>\n",
              "</svg>\n",
              "  </button>\n",
              "\n",
              "<style>\n",
              "  .colab-df-quickchart {\n",
              "      --bg-color: #E8F0FE;\n",
              "      --fill-color: #1967D2;\n",
              "      --hover-bg-color: #E2EBFA;\n",
              "      --hover-fill-color: #174EA6;\n",
              "      --disabled-fill-color: #AAA;\n",
              "      --disabled-bg-color: #DDD;\n",
              "  }\n",
              "\n",
              "  [theme=dark] .colab-df-quickchart {\n",
              "      --bg-color: #3B4455;\n",
              "      --fill-color: #D2E3FC;\n",
              "      --hover-bg-color: #434B5C;\n",
              "      --hover-fill-color: #FFFFFF;\n",
              "      --disabled-bg-color: #3B4455;\n",
              "      --disabled-fill-color: #666;\n",
              "  }\n",
              "\n",
              "  .colab-df-quickchart {\n",
              "    background-color: var(--bg-color);\n",
              "    border: none;\n",
              "    border-radius: 50%;\n",
              "    cursor: pointer;\n",
              "    display: none;\n",
              "    fill: var(--fill-color);\n",
              "    height: 32px;\n",
              "    padding: 0;\n",
              "    width: 32px;\n",
              "  }\n",
              "\n",
              "  .colab-df-quickchart:hover {\n",
              "    background-color: var(--hover-bg-color);\n",
              "    box-shadow: 0 1px 2px rgba(60, 64, 67, 0.3), 0 1px 3px 1px rgba(60, 64, 67, 0.15);\n",
              "    fill: var(--button-hover-fill-color);\n",
              "  }\n",
              "\n",
              "  .colab-df-quickchart-complete:disabled,\n",
              "  .colab-df-quickchart-complete:disabled:hover {\n",
              "    background-color: var(--disabled-bg-color);\n",
              "    fill: var(--disabled-fill-color);\n",
              "    box-shadow: none;\n",
              "  }\n",
              "\n",
              "  .colab-df-spinner {\n",
              "    border: 2px solid var(--fill-color);\n",
              "    border-color: transparent;\n",
              "    border-bottom-color: var(--fill-color);\n",
              "    animation:\n",
              "      spin 1s steps(1) infinite;\n",
              "  }\n",
              "\n",
              "  @keyframes spin {\n",
              "    0% {\n",
              "      border-color: transparent;\n",
              "      border-bottom-color: var(--fill-color);\n",
              "      border-left-color: var(--fill-color);\n",
              "    }\n",
              "    20% {\n",
              "      border-color: transparent;\n",
              "      border-left-color: var(--fill-color);\n",
              "      border-top-color: var(--fill-color);\n",
              "    }\n",
              "    30% {\n",
              "      border-color: transparent;\n",
              "      border-left-color: var(--fill-color);\n",
              "      border-top-color: var(--fill-color);\n",
              "      border-right-color: var(--fill-color);\n",
              "    }\n",
              "    40% {\n",
              "      border-color: transparent;\n",
              "      border-right-color: var(--fill-color);\n",
              "      border-top-color: var(--fill-color);\n",
              "    }\n",
              "    60% {\n",
              "      border-color: transparent;\n",
              "      border-right-color: var(--fill-color);\n",
              "    }\n",
              "    80% {\n",
              "      border-color: transparent;\n",
              "      border-right-color: var(--fill-color);\n",
              "      border-bottom-color: var(--fill-color);\n",
              "    }\n",
              "    90% {\n",
              "      border-color: transparent;\n",
              "      border-bottom-color: var(--fill-color);\n",
              "    }\n",
              "  }\n",
              "</style>\n",
              "\n",
              "  <script>\n",
              "    async function quickchart(key) {\n",
              "      const quickchartButtonEl =\n",
              "        document.querySelector('#' + key + ' button');\n",
              "      quickchartButtonEl.disabled = true;  // To prevent multiple clicks.\n",
              "      quickchartButtonEl.classList.add('colab-df-spinner');\n",
              "      try {\n",
              "        const charts = await google.colab.kernel.invokeFunction(\n",
              "            'suggestCharts', [key], {});\n",
              "      } catch (error) {\n",
              "        console.error('Error during call to suggestCharts:', error);\n",
              "      }\n",
              "      quickchartButtonEl.classList.remove('colab-df-spinner');\n",
              "      quickchartButtonEl.classList.add('colab-df-quickchart-complete');\n",
              "    }\n",
              "    (() => {\n",
              "      let quickchartButtonEl =\n",
              "        document.querySelector('#df-7463ba1d-ab19-4273-9408-05165a4f7118 button');\n",
              "      quickchartButtonEl.style.display =\n",
              "        google.colab.kernel.accessAllowed ? 'block' : 'none';\n",
              "    })();\n",
              "  </script>\n",
              "</div>\n",
              "\n",
              "    </div>\n",
              "  </div>\n"
            ],
            "application/vnd.google.colaboratory.intrinsic+json": {
              "type": "dataframe",
              "variable_name": "unique_positive_samples"
            }
          },
          "metadata": {},
          "execution_count": 163
        }
      ]
    },
    {
      "cell_type": "code",
      "source": [
        "balanced_list = []\n",
        "\n",
        "for user_id in list(negative_grouped.groups.keys())[:5000]:\n",
        "      # Append the positive samples for the user\n",
        "    balanced_list.append(unique_positive_samples[unique_positive_samples['userId'] == user_id])\n",
        "    # Append the negative samples for the user\n",
        "    negative_samples_for_user = negative_grouped.get_group(user_id)\n",
        "    # Sample 4 negative samples for the user\n",
        "    balanced_list.append(negative_samples_for_user.sample(4, replace=False))\n",
        "\n",
        "# Concatenate all the samples into a single DataFrame\n",
        "balanced_df = pd.concat(balanced_list).reset_index(drop=True)\n",
        "\n",
        "print(balanced_df)"
      ],
      "metadata": {
        "colab": {
          "base_uri": "https://localhost:8080/"
        },
        "id": "5-rBndNdP-b0",
        "outputId": "5b2cc581-834a-4fc5-87cc-39d661f890e1"
      },
      "execution_count": 164,
      "outputs": [
        {
          "output_type": "stream",
          "name": "stdout",
          "text": [
            "       userId  movieId  rating  interaction\n",
            "0           2        5     3.0            1\n",
            "1           2       32     2.0            0\n",
            "2           2     1552     2.0            0\n",
            "3           2      788     1.0            0\n",
            "4           2      786     1.0            0\n",
            "...       ...      ...     ...          ...\n",
            "24984    9715        1     4.0            1\n",
            "24985    9715    38038     2.5            0\n",
            "24986    9715    30793     2.0            0\n",
            "24987    9715      364     2.0            0\n",
            "24988    9715    96079     0.5            0\n",
            "\n",
            "[24989 rows x 4 columns]\n"
          ]
        }
      ]
    },
    {
      "cell_type": "code",
      "source": [
        "positive_count = len(balanced_df[balanced_df[\"interaction\"] == 1])\n",
        "negative_count = len(balanced_df[balanced_df[\"interaction\"] == 0])\n",
        "\n",
        "print(f\"Number of positive samples: {positive_count}\")\n",
        "print(f\"Number of negative samples: {negative_count}\")\n",
        "\n",
        "ratio = positive_count / negative_count\n",
        "print(f\"Ratio of positive to negative samples: {ratio}\")"
      ],
      "metadata": {
        "colab": {
          "base_uri": "https://localhost:8080/"
        },
        "id": "5a5vzKQjQzBv",
        "outputId": "990a1972-f545-4022-b893-fdecf302e83f"
      },
      "execution_count": 170,
      "outputs": [
        {
          "output_type": "stream",
          "name": "stdout",
          "text": [
            "Number of positive samples: 4989\n",
            "Number of negative samples: 20000\n",
            "Ratio of positive to negative samples: 0.24945\n"
          ]
        }
      ]
    },
    {
      "cell_type": "code",
      "source": [
        "import csv\n",
        "balanced_df.to_csv('balanced_ratings_1:4.csv', index=False)"
      ],
      "metadata": {
        "id": "YYBJx3JMU8va"
      },
      "execution_count": 167,
      "outputs": []
    },
    {
      "cell_type": "code",
      "source": [
        "class nvf:\n",
        "  def __init__(self,df):\n",
        "    self.df = df\n",
        "    self.df.drop(\"ratings\", inplace = True)\n",
        "    self.embedding_size = 50\n",
        "    self.user_input = Input(shape=(1,), name='user_input')\n",
        "    self.movie_input = Input(shape=(1,), name='movie_input')\n",
        "\n",
        "  def gmf(self):\n",
        "    user_embedding_gmf = Embedding(input_dim=len(users), output_dim=embedding_size, name='user_embedding_gmf')(user_input)\n",
        "    movie_embedding_gmf = Embedding(input_dim=len(movies), output_dim=embedding_size, name='movie_embedding_gmf')(movie_input)\n",
        "    gmf_vector = Flatten()(user_embedding_gmf) * Flatten()(movie_embedding_gmf)\n",
        "    gmf_output = Dense(1, activation='sigmoid', name='gmf_output')(gmf_vector)\n",
        "    gmf_model = Model(inputs=[user_input, movie_input], outputs=gmf_output)\n"
      ],
      "metadata": {
        "id": "_-jTWeopjw7d"
      },
      "execution_count": 170,
      "outputs": []
    },
    {
      "cell_type": "markdown",
      "source": [
        "Generalized Matrix Factorization (GMF)\n",
        "Multi-Layer Perceptron (MLP)"
      ],
      "metadata": {
        "id": "N4aQOAm7dxCk"
      }
    },
    {
      "cell_type": "markdown",
      "source": [
        "![1_aP-Mx266ExwoWZPSdHtYpA.png](data:image/png;base64,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)"
      ],
      "metadata": {
        "id": "Oxg-euUVdceB"
      }
    },
    {
      "cell_type": "code",
      "source": [
        "\n",
        "balanced_df = pd.read_csv(\"/content/balanced_ratings_1_4.csv\")\n",
        "balanced_df.head()\n"
      ],
      "metadata": {
        "colab": {
          "base_uri": "https://localhost:8080/",
          "height": 206
        },
        "id": "HS3Mm1JhybBF",
        "outputId": "655b3081-c23d-4660-d286-df938c24908f"
      },
      "execution_count": 3,
      "outputs": [
        {
          "output_type": "execute_result",
          "data": {
            "text/plain": [
              "   userId  movieId  rating  interaction\n",
              "0       2        5     3.0            1\n",
              "1       2       32     2.0            0\n",
              "2       2     1552     2.0            0\n",
              "3       2      788     1.0            0\n",
              "4       2      786     1.0            0"
            ],
            "text/html": [
              "\n",
              "  <div id=\"df-b346dfd4-5f10-4d92-b06a-4f3fc3443db3\" class=\"colab-df-container\">\n",
              "    <div>\n",
              "<style scoped>\n",
              "    .dataframe tbody tr th:only-of-type {\n",
              "        vertical-align: middle;\n",
              "    }\n",
              "\n",
              "    .dataframe tbody tr th {\n",
              "        vertical-align: top;\n",
              "    }\n",
              "\n",
              "    .dataframe thead th {\n",
              "        text-align: right;\n",
              "    }\n",
              "</style>\n",
              "<table border=\"1\" class=\"dataframe\">\n",
              "  <thead>\n",
              "    <tr style=\"text-align: right;\">\n",
              "      <th></th>\n",
              "      <th>userId</th>\n",
              "      <th>movieId</th>\n",
              "      <th>rating</th>\n",
              "      <th>interaction</th>\n",
              "    </tr>\n",
              "  </thead>\n",
              "  <tbody>\n",
              "    <tr>\n",
              "      <th>0</th>\n",
              "      <td>2</td>\n",
              "      <td>5</td>\n",
              "      <td>3.0</td>\n",
              "      <td>1</td>\n",
              "    </tr>\n",
              "    <tr>\n",
              "      <th>1</th>\n",
              "      <td>2</td>\n",
              "      <td>32</td>\n",
              "      <td>2.0</td>\n",
              "      <td>0</td>\n",
              "    </tr>\n",
              "    <tr>\n",
              "      <th>2</th>\n",
              "      <td>2</td>\n",
              "      <td>1552</td>\n",
              "      <td>2.0</td>\n",
              "      <td>0</td>\n",
              "    </tr>\n",
              "    <tr>\n",
              "      <th>3</th>\n",
              "      <td>2</td>\n",
              "      <td>788</td>\n",
              "      <td>1.0</td>\n",
              "      <td>0</td>\n",
              "    </tr>\n",
              "    <tr>\n",
              "      <th>4</th>\n",
              "      <td>2</td>\n",
              "      <td>786</td>\n",
              "      <td>1.0</td>\n",
              "      <td>0</td>\n",
              "    </tr>\n",
              "  </tbody>\n",
              "</table>\n",
              "</div>\n",
              "    <div class=\"colab-df-buttons\">\n",
              "\n",
              "  <div class=\"colab-df-container\">\n",
              "    <button class=\"colab-df-convert\" onclick=\"convertToInteractive('df-b346dfd4-5f10-4d92-b06a-4f3fc3443db3')\"\n",
              "            title=\"Convert this dataframe to an interactive table.\"\n",
              "            style=\"display:none;\">\n",
              "\n",
              "  <svg xmlns=\"http://www.w3.org/2000/svg\" height=\"24px\" viewBox=\"0 -960 960 960\">\n",
              "    <path d=\"M120-120v-720h720v720H120Zm60-500h600v-160H180v160Zm220 220h160v-160H400v160Zm0 220h160v-160H400v160ZM180-400h160v-160H180v160Zm440 0h160v-160H620v160ZM180-180h160v-160H180v160Zm440 0h160v-160H620v160Z\"/>\n",
              "  </svg>\n",
              "    </button>\n",
              "\n",
              "  <style>\n",
              "    .colab-df-container {\n",
              "      display:flex;\n",
              "      gap: 12px;\n",
              "    }\n",
              "\n",
              "    .colab-df-convert {\n",
              "      background-color: #E8F0FE;\n",
              "      border: none;\n",
              "      border-radius: 50%;\n",
              "      cursor: pointer;\n",
              "      display: none;\n",
              "      fill: #1967D2;\n",
              "      height: 32px;\n",
              "      padding: 0 0 0 0;\n",
              "      width: 32px;\n",
              "    }\n",
              "\n",
              "    .colab-df-convert:hover {\n",
              "      background-color: #E2EBFA;\n",
              "      box-shadow: 0px 1px 2px rgba(60, 64, 67, 0.3), 0px 1px 3px 1px rgba(60, 64, 67, 0.15);\n",
              "      fill: #174EA6;\n",
              "    }\n",
              "\n",
              "    .colab-df-buttons div {\n",
              "      margin-bottom: 4px;\n",
              "    }\n",
              "\n",
              "    [theme=dark] .colab-df-convert {\n",
              "      background-color: #3B4455;\n",
              "      fill: #D2E3FC;\n",
              "    }\n",
              "\n",
              "    [theme=dark] .colab-df-convert:hover {\n",
              "      background-color: #434B5C;\n",
              "      box-shadow: 0px 1px 3px 1px rgba(0, 0, 0, 0.15);\n",
              "      filter: drop-shadow(0px 1px 2px rgba(0, 0, 0, 0.3));\n",
              "      fill: #FFFFFF;\n",
              "    }\n",
              "  </style>\n",
              "\n",
              "    <script>\n",
              "      const buttonEl =\n",
              "        document.querySelector('#df-b346dfd4-5f10-4d92-b06a-4f3fc3443db3 button.colab-df-convert');\n",
              "      buttonEl.style.display =\n",
              "        google.colab.kernel.accessAllowed ? 'block' : 'none';\n",
              "\n",
              "      async function convertToInteractive(key) {\n",
              "        const element = document.querySelector('#df-b346dfd4-5f10-4d92-b06a-4f3fc3443db3');\n",
              "        const dataTable =\n",
              "          await google.colab.kernel.invokeFunction('convertToInteractive',\n",
              "                                                    [key], {});\n",
              "        if (!dataTable) return;\n",
              "\n",
              "        const docLinkHtml = 'Like what you see? Visit the ' +\n",
              "          '<a target=\"_blank\" href=https://colab.research.google.com/notebooks/data_table.ipynb>data table notebook</a>'\n",
              "          + ' to learn more about interactive tables.';\n",
              "        element.innerHTML = '';\n",
              "        dataTable['output_type'] = 'display_data';\n",
              "        await google.colab.output.renderOutput(dataTable, element);\n",
              "        const docLink = document.createElement('div');\n",
              "        docLink.innerHTML = docLinkHtml;\n",
              "        element.appendChild(docLink);\n",
              "      }\n",
              "    </script>\n",
              "  </div>\n",
              "\n",
              "\n",
              "<div id=\"df-2f20e7ac-2904-4d8e-b024-e3830c866861\">\n",
              "  <button class=\"colab-df-quickchart\" onclick=\"quickchart('df-2f20e7ac-2904-4d8e-b024-e3830c866861')\"\n",
              "            title=\"Suggest charts\"\n",
              "            style=\"display:none;\">\n",
              "\n",
              "<svg xmlns=\"http://www.w3.org/2000/svg\" height=\"24px\"viewBox=\"0 0 24 24\"\n",
              "     width=\"24px\">\n",
              "    <g>\n",
              "        <path d=\"M19 3H5c-1.1 0-2 .9-2 2v14c0 1.1.9 2 2 2h14c1.1 0 2-.9 2-2V5c0-1.1-.9-2-2-2zM9 17H7v-7h2v7zm4 0h-2V7h2v10zm4 0h-2v-4h2v4z\"/>\n",
              "    </g>\n",
              "</svg>\n",
              "  </button>\n",
              "\n",
              "<style>\n",
              "  .colab-df-quickchart {\n",
              "      --bg-color: #E8F0FE;\n",
              "      --fill-color: #1967D2;\n",
              "      --hover-bg-color: #E2EBFA;\n",
              "      --hover-fill-color: #174EA6;\n",
              "      --disabled-fill-color: #AAA;\n",
              "      --disabled-bg-color: #DDD;\n",
              "  }\n",
              "\n",
              "  [theme=dark] .colab-df-quickchart {\n",
              "      --bg-color: #3B4455;\n",
              "      --fill-color: #D2E3FC;\n",
              "      --hover-bg-color: #434B5C;\n",
              "      --hover-fill-color: #FFFFFF;\n",
              "      --disabled-bg-color: #3B4455;\n",
              "      --disabled-fill-color: #666;\n",
              "  }\n",
              "\n",
              "  .colab-df-quickchart {\n",
              "    background-color: var(--bg-color);\n",
              "    border: none;\n",
              "    border-radius: 50%;\n",
              "    cursor: pointer;\n",
              "    display: none;\n",
              "    fill: var(--fill-color);\n",
              "    height: 32px;\n",
              "    padding: 0;\n",
              "    width: 32px;\n",
              "  }\n",
              "\n",
              "  .colab-df-quickchart:hover {\n",
              "    background-color: var(--hover-bg-color);\n",
              "    box-shadow: 0 1px 2px rgba(60, 64, 67, 0.3), 0 1px 3px 1px rgba(60, 64, 67, 0.15);\n",
              "    fill: var(--button-hover-fill-color);\n",
              "  }\n",
              "\n",
              "  .colab-df-quickchart-complete:disabled,\n",
              "  .colab-df-quickchart-complete:disabled:hover {\n",
              "    background-color: var(--disabled-bg-color);\n",
              "    fill: var(--disabled-fill-color);\n",
              "    box-shadow: none;\n",
              "  }\n",
              "\n",
              "  .colab-df-spinner {\n",
              "    border: 2px solid var(--fill-color);\n",
              "    border-color: transparent;\n",
              "    border-bottom-color: var(--fill-color);\n",
              "    animation:\n",
              "      spin 1s steps(1) infinite;\n",
              "  }\n",
              "\n",
              "  @keyframes spin {\n",
              "    0% {\n",
              "      border-color: transparent;\n",
              "      border-bottom-color: var(--fill-color);\n",
              "      border-left-color: var(--fill-color);\n",
              "    }\n",
              "    20% {\n",
              "      border-color: transparent;\n",
              "      border-left-color: var(--fill-color);\n",
              "      border-top-color: var(--fill-color);\n",
              "    }\n",
              "    30% {\n",
              "      border-color: transparent;\n",
              "      border-left-color: var(--fill-color);\n",
              "      border-top-color: var(--fill-color);\n",
              "      border-right-color: var(--fill-color);\n",
              "    }\n",
              "    40% {\n",
              "      border-color: transparent;\n",
              "      border-right-color: var(--fill-color);\n",
              "      border-top-color: var(--fill-color);\n",
              "    }\n",
              "    60% {\n",
              "      border-color: transparent;\n",
              "      border-right-color: var(--fill-color);\n",
              "    }\n",
              "    80% {\n",
              "      border-color: transparent;\n",
              "      border-right-color: var(--fill-color);\n",
              "      border-bottom-color: var(--fill-color);\n",
              "    }\n",
              "    90% {\n",
              "      border-color: transparent;\n",
              "      border-bottom-color: var(--fill-color);\n",
              "    }\n",
              "  }\n",
              "</style>\n",
              "\n",
              "  <script>\n",
              "    async function quickchart(key) {\n",
              "      const quickchartButtonEl =\n",
              "        document.querySelector('#' + key + ' button');\n",
              "      quickchartButtonEl.disabled = true;  // To prevent multiple clicks.\n",
              "      quickchartButtonEl.classList.add('colab-df-spinner');\n",
              "      try {\n",
              "        const charts = await google.colab.kernel.invokeFunction(\n",
              "            'suggestCharts', [key], {});\n",
              "      } catch (error) {\n",
              "        console.error('Error during call to suggestCharts:', error);\n",
              "      }\n",
              "      quickchartButtonEl.classList.remove('colab-df-spinner');\n",
              "      quickchartButtonEl.classList.add('colab-df-quickchart-complete');\n",
              "    }\n",
              "    (() => {\n",
              "      let quickchartButtonEl =\n",
              "        document.querySelector('#df-2f20e7ac-2904-4d8e-b024-e3830c866861 button');\n",
              "      quickchartButtonEl.style.display =\n",
              "        google.colab.kernel.accessAllowed ? 'block' : 'none';\n",
              "    })();\n",
              "  </script>\n",
              "</div>\n",
              "\n",
              "    </div>\n",
              "  </div>\n"
            ],
            "application/vnd.google.colaboratory.intrinsic+json": {
              "type": "dataframe",
              "variable_name": "balanced_df",
              "summary": "{\n  \"name\": \"balanced_df\",\n  \"rows\": 24989,\n  \"fields\": [\n    {\n      \"column\": \"userId\",\n      \"properties\": {\n        \"dtype\": \"number\",\n        \"std\": 2802,\n        \"min\": 2,\n        \"max\": 9715,\n        \"num_unique_values\": 5000,\n        \"samples\": [\n          2876,\n          4960,\n          5086\n        ],\n        \"semantic_type\": \"\",\n        \"description\": \"\"\n      }\n    },\n    {\n      \"column\": \"movieId\",\n      \"properties\": {\n        \"dtype\": \"number\",\n        \"std\": 24924,\n        \"min\": 1,\n        \"max\": 175475,\n        \"num_unique_values\": 4180,\n        \"samples\": [\n          731,\n          2599,\n          148238\n        ],\n        \"semantic_type\": \"\",\n        \"description\": \"\"\n      }\n    },\n    {\n      \"column\": \"rating\",\n      \"properties\": {\n        \"dtype\": \"number\",\n        \"std\": 1.0802631819121966,\n        \"min\": 0.5,\n        \"max\": 5.0,\n        \"num_unique_values\": 10,\n        \"samples\": [\n          1.5,\n          2.0,\n          2.5\n        ],\n        \"semantic_type\": \"\",\n        \"description\": \"\"\n      }\n    },\n    {\n      \"column\": \"interaction\",\n      \"properties\": {\n        \"dtype\": \"number\",\n        \"std\": 0,\n        \"min\": 0,\n        \"max\": 1,\n        \"num_unique_values\": 2,\n        \"samples\": [\n          0,\n          1\n        ],\n        \"semantic_type\": \"\",\n        \"description\": \"\"\n      }\n    }\n  ]\n}"
            }
          },
          "metadata": {},
          "execution_count": 3
        }
      ]
    },
    {
      "cell_type": "code",
      "source": [
        "X = balanced_df.iloc[:,:2]\n",
        "y = balanced_df.interaction\n",
        "X_train, X_test , y_train, y_test = train_test_split(X, y, test_size = 0.2, random_state = 42)"
      ],
      "metadata": {
        "id": "Cs_PlKa3rcOS"
      },
      "execution_count": 11,
      "outputs": []
    },
    {
      "cell_type": "code",
      "source": [
        "X_train.iloc[:,0]"
      ],
      "metadata": {
        "colab": {
          "base_uri": "https://localhost:8080/",
          "height": 458
        },
        "id": "xyRvmyDVslxE",
        "outputId": "260e1cf9-6dc6-4d07-fcbe-1b3df7a6f33a"
      },
      "execution_count": 16,
      "outputs": [
        {
          "output_type": "execute_result",
          "data": {
            "text/plain": [
              "18841    7283\n",
              "13154    5043\n",
              "2712     1036\n",
              "20011    7734\n",
              "11013    4220\n",
              "         ... \n",
              "21575    8363\n",
              "5390     2056\n",
              "860       331\n",
              "15795    6031\n",
              "23654    9207\n",
              "Name: userId, Length: 19991, dtype: int64"
            ],
            "text/html": [
              "<div>\n",
              "<style scoped>\n",
              "    .dataframe tbody tr th:only-of-type {\n",
              "        vertical-align: middle;\n",
              "    }\n",
              "\n",
              "    .dataframe tbody tr th {\n",
              "        vertical-align: top;\n",
              "    }\n",
              "\n",
              "    .dataframe thead th {\n",
              "        text-align: right;\n",
              "    }\n",
              "</style>\n",
              "<table border=\"1\" class=\"dataframe\">\n",
              "  <thead>\n",
              "    <tr style=\"text-align: right;\">\n",
              "      <th></th>\n",
              "      <th>userId</th>\n",
              "    </tr>\n",
              "  </thead>\n",
              "  <tbody>\n",
              "    <tr>\n",
              "      <th>18841</th>\n",
              "      <td>7283</td>\n",
              "    </tr>\n",
              "    <tr>\n",
              "      <th>13154</th>\n",
              "      <td>5043</td>\n",
              "    </tr>\n",
              "    <tr>\n",
              "      <th>2712</th>\n",
              "      <td>1036</td>\n",
              "    </tr>\n",
              "    <tr>\n",
              "      <th>20011</th>\n",
              "      <td>7734</td>\n",
              "    </tr>\n",
              "    <tr>\n",
              "      <th>11013</th>\n",
              "      <td>4220</td>\n",
              "    </tr>\n",
              "    <tr>\n",
              "      <th>...</th>\n",
              "      <td>...</td>\n",
              "    </tr>\n",
              "    <tr>\n",
              "      <th>21575</th>\n",
              "      <td>8363</td>\n",
              "    </tr>\n",
              "    <tr>\n",
              "      <th>5390</th>\n",
              "      <td>2056</td>\n",
              "    </tr>\n",
              "    <tr>\n",
              "      <th>860</th>\n",
              "      <td>331</td>\n",
              "    </tr>\n",
              "    <tr>\n",
              "      <th>15795</th>\n",
              "      <td>6031</td>\n",
              "    </tr>\n",
              "    <tr>\n",
              "      <th>23654</th>\n",
              "      <td>9207</td>\n",
              "    </tr>\n",
              "  </tbody>\n",
              "</table>\n",
              "<p>19991 rows × 1 columns</p>\n",
              "</div><br><label><b>dtype:</b> int64</label>"
            ]
          },
          "metadata": {},
          "execution_count": 16
        }
      ]
    },
    {
      "cell_type": "markdown",
      "source": [
        "# First try at building model\n",
        "Result - model overfitting."
      ],
      "metadata": {
        "id": "U1UAaREL1uxZ"
      }
    },
    {
      "cell_type": "code",
      "source": [
        "import tensorflow as tf\n",
        "from tensorflow.keras.layers import Input, Embedding, Flatten, concatenate, Dense\n",
        "from tensorflow.keras.models import Model\n",
        "from sklearn.model_selection import train_test_split\n",
        "import numpy as np\n",
        "\n",
        "\n",
        "def build_model(num_users, num_items , embedding_dim):\n",
        "  user_input = Input(shape=(1,))\n",
        "  item_input = Input(shape=(1,))\n",
        "  user_embedding = Embedding(num_users, embedding_dim)(user_input)\n",
        "  # user_embedding = Flatten()(user_embedding)\n",
        "  item_embedding = Embedding(num_items, embedding_dim)(item_input)\n",
        "  # item_embedding = Flatten()(item_embedding)\n",
        "  gmf_vector = Flatten()(user_embedding) * Flatten()(item_embedding)\n",
        "\n",
        "  ## MLP Layer\n",
        "  user_embedding = Embedding(num_users, embedding_dim)(user_input)\n",
        "  # user_embedding = Flatten()(user_embedding)\n",
        "  item_embedding = Embedding(num_items,embedding_dim)(item_input)\n",
        "  # item_embedding = Flatten()(item_embedding)\n",
        "  mlp_vector = concatenate([Flatten()(user_embedding), Flatten()(item_embedding)])\n",
        "\n",
        "  mlp_vector = Dense(64, activation='relu')(mlp_vector)\n",
        "  mlp_vector = Dense(32, activation='relu')(mlp_vector)\n",
        "\n",
        "  ncf_vector = concatenate([gmf_vector, mlp_vector])\n",
        "  output = Dense(1, activation = \"sigmoid\")(mlp_vector)\n",
        "  ncf_model = Model(inputs = [user_input, item_input], outputs = output)\n",
        "  ncf_model.compile(optimizer = \"adam\", loss = \"binary_crossentropy\", metrics = [\"accuracy\"])\n",
        "  ncf_model.summary()\n",
        "  return ncf_model\n",
        "# def train_model(model, X_train, y_train, X_test, y_test, epochs=10, batch_size=64):\n",
        "#   model.fit([X_train.iloc[:, 0], X_train.iloc[:, 1]], y_train,\n",
        "#             epochs=epochs, batch_size=batch_size,\n",
        "#             validation_data=([X_test.iloc[:, 0], X_test.iloc[:, 1]], y_test))\n",
        "\n",
        "\n",
        "num_users = balanced_df.userId.max()+1\n",
        "num_items = balanced_df.movieId.max()+1\n",
        "embedding_dim = 50\n",
        "model = build_model(num_users, num_items, embedding_dim)\n",
        "model.fit([X_train.iloc[:, 0], X_train.iloc[:, 1]], y_train, epochs=10, batch_size=64, validation_data=([X_test.iloc[:, 0], X_test.iloc[:, 1]], y_test))\n",
        "loss, accuracy = model.evaluate([X_test.iloc[:, 0], X_test.iloc[:, 1]], y_test)\n",
        "print(f'Test Accuracy: {accuracy:.4f}')\n",
        "\n"
      ],
      "metadata": {
        "colab": {
          "base_uri": "https://localhost:8080/",
          "height": 882
        },
        "id": "P8nrnwfciWf6",
        "outputId": "e1e97409-bce7-4d8a-c38b-592a9a41526f"
      },
      "execution_count": 21,
      "outputs": [
        {
          "output_type": "display_data",
          "data": {
            "text/plain": [
              "\u001b[1mModel: \"functional_3\"\u001b[0m\n"
            ],
            "text/html": [
              "<pre style=\"white-space:pre;overflow-x:auto;line-height:normal;font-family:Menlo,'DejaVu Sans Mono',consolas,'Courier New',monospace\"><span style=\"font-weight: bold\">Model: \"functional_3\"</span>\n",
              "</pre>\n"
            ]
          },
          "metadata": {}
        },
        {
          "output_type": "display_data",
          "data": {
            "text/plain": [
              "┏━━━━━━━━━━━━━━━━━━━━━━━━━━━┳━━━━━━━━━━━━━━━━━━━━━━━━┳━━━━━━━━━━━━━━━━┳━━━━━━━━━━━━━━━━━━━━━━━━┓\n",
              "┃\u001b[1m \u001b[0m\u001b[1mLayer (type)             \u001b[0m\u001b[1m \u001b[0m┃\u001b[1m \u001b[0m\u001b[1mOutput Shape          \u001b[0m\u001b[1m \u001b[0m┃\u001b[1m \u001b[0m\u001b[1m       Param #\u001b[0m\u001b[1m \u001b[0m┃\u001b[1m \u001b[0m\u001b[1mConnected to          \u001b[0m\u001b[1m \u001b[0m┃\n",
              "┡━━━━━━━━━━━━━━━━━━━━━━━━━━━╇━━━━━━━━━━━━━━━━━━━━━━━━╇━━━━━━━━━━━━━━━━╇━━━━━━━━━━━━━━━━━━━━━━━━┩\n",
              "│ input_layer_10            │ (\u001b[38;5;45mNone\u001b[0m, \u001b[38;5;34m1\u001b[0m)              │              \u001b[38;5;34m0\u001b[0m │ -                      │\n",
              "│ (\u001b[38;5;33mInputLayer\u001b[0m)              │                        │                │                        │\n",
              "├───────────────────────────┼────────────────────────┼────────────────┼────────────────────────┤\n",
              "│ input_layer_11            │ (\u001b[38;5;45mNone\u001b[0m, \u001b[38;5;34m1\u001b[0m)              │              \u001b[38;5;34m0\u001b[0m │ -                      │\n",
              "│ (\u001b[38;5;33mInputLayer\u001b[0m)              │                        │                │                        │\n",
              "├───────────────────────────┼────────────────────────┼────────────────┼────────────────────────┤\n",
              "│ embedding_22 (\u001b[38;5;33mEmbedding\u001b[0m)  │ (\u001b[38;5;45mNone\u001b[0m, \u001b[38;5;34m1\u001b[0m, \u001b[38;5;34m50\u001b[0m)          │        \u001b[38;5;34m485,800\u001b[0m │ input_layer_10[\u001b[38;5;34m0\u001b[0m][\u001b[38;5;34m0\u001b[0m]   │\n",
              "├───────────────────────────┼────────────────────────┼────────────────┼────────────────────────┤\n",
              "│ embedding_23 (\u001b[38;5;33mEmbedding\u001b[0m)  │ (\u001b[38;5;45mNone\u001b[0m, \u001b[38;5;34m1\u001b[0m, \u001b[38;5;34m50\u001b[0m)          │      \u001b[38;5;34m8,773,800\u001b[0m │ input_layer_11[\u001b[38;5;34m0\u001b[0m][\u001b[38;5;34m0\u001b[0m]   │\n",
              "├───────────────────────────┼────────────────────────┼────────────────┼────────────────────────┤\n",
              "│ flatten_22 (\u001b[38;5;33mFlatten\u001b[0m)      │ (\u001b[38;5;45mNone\u001b[0m, \u001b[38;5;34m50\u001b[0m)             │              \u001b[38;5;34m0\u001b[0m │ embedding_22[\u001b[38;5;34m0\u001b[0m][\u001b[38;5;34m0\u001b[0m]     │\n",
              "├───────────────────────────┼────────────────────────┼────────────────┼────────────────────────┤\n",
              "│ flatten_23 (\u001b[38;5;33mFlatten\u001b[0m)      │ (\u001b[38;5;45mNone\u001b[0m, \u001b[38;5;34m50\u001b[0m)             │              \u001b[38;5;34m0\u001b[0m │ embedding_23[\u001b[38;5;34m0\u001b[0m][\u001b[38;5;34m0\u001b[0m]     │\n",
              "├───────────────────────────┼────────────────────────┼────────────────┼────────────────────────┤\n",
              "│ concatenate_10            │ (\u001b[38;5;45mNone\u001b[0m, \u001b[38;5;34m100\u001b[0m)            │              \u001b[38;5;34m0\u001b[0m │ flatten_22[\u001b[38;5;34m0\u001b[0m][\u001b[38;5;34m0\u001b[0m],      │\n",
              "│ (\u001b[38;5;33mConcatenate\u001b[0m)             │                        │                │ flatten_23[\u001b[38;5;34m0\u001b[0m][\u001b[38;5;34m0\u001b[0m]       │\n",
              "├───────────────────────────┼────────────────────────┼────────────────┼────────────────────────┤\n",
              "│ dense_15 (\u001b[38;5;33mDense\u001b[0m)          │ (\u001b[38;5;45mNone\u001b[0m, \u001b[38;5;34m64\u001b[0m)             │          \u001b[38;5;34m6,464\u001b[0m │ concatenate_10[\u001b[38;5;34m0\u001b[0m][\u001b[38;5;34m0\u001b[0m]   │\n",
              "├───────────────────────────┼────────────────────────┼────────────────┼────────────────────────┤\n",
              "│ dense_16 (\u001b[38;5;33mDense\u001b[0m)          │ (\u001b[38;5;45mNone\u001b[0m, \u001b[38;5;34m32\u001b[0m)             │          \u001b[38;5;34m2,080\u001b[0m │ dense_15[\u001b[38;5;34m0\u001b[0m][\u001b[38;5;34m0\u001b[0m]         │\n",
              "├───────────────────────────┼────────────────────────┼────────────────┼────────────────────────┤\n",
              "│ dense_17 (\u001b[38;5;33mDense\u001b[0m)          │ (\u001b[38;5;45mNone\u001b[0m, \u001b[38;5;34m1\u001b[0m)              │             \u001b[38;5;34m33\u001b[0m │ dense_16[\u001b[38;5;34m0\u001b[0m][\u001b[38;5;34m0\u001b[0m]         │\n",
              "└───────────────────────────┴────────────────────────┴────────────────┴────────────────────────┘\n"
            ],
            "text/html": [
              "<pre style=\"white-space:pre;overflow-x:auto;line-height:normal;font-family:Menlo,'DejaVu Sans Mono',consolas,'Courier New',monospace\">┏━━━━━━━━━━━━━━━━━━━━━━━━━━━┳━━━━━━━━━━━━━━━━━━━━━━━━┳━━━━━━━━━━━━━━━━┳━━━━━━━━━━━━━━━━━━━━━━━━┓\n",
              "┃<span style=\"font-weight: bold\"> Layer (type)              </span>┃<span style=\"font-weight: bold\"> Output Shape           </span>┃<span style=\"font-weight: bold\">        Param # </span>┃<span style=\"font-weight: bold\"> Connected to           </span>┃\n",
              "┡━━━━━━━━━━━━━━━━━━━━━━━━━━━╇━━━━━━━━━━━━━━━━━━━━━━━━╇━━━━━━━━━━━━━━━━╇━━━━━━━━━━━━━━━━━━━━━━━━┩\n",
              "│ input_layer_10            │ (<span style=\"color: #00d7ff; text-decoration-color: #00d7ff\">None</span>, <span style=\"color: #00af00; text-decoration-color: #00af00\">1</span>)              │              <span style=\"color: #00af00; text-decoration-color: #00af00\">0</span> │ -                      │\n",
              "│ (<span style=\"color: #0087ff; text-decoration-color: #0087ff\">InputLayer</span>)              │                        │                │                        │\n",
              "├───────────────────────────┼────────────────────────┼────────────────┼────────────────────────┤\n",
              "│ input_layer_11            │ (<span style=\"color: #00d7ff; text-decoration-color: #00d7ff\">None</span>, <span style=\"color: #00af00; text-decoration-color: #00af00\">1</span>)              │              <span style=\"color: #00af00; text-decoration-color: #00af00\">0</span> │ -                      │\n",
              "│ (<span style=\"color: #0087ff; text-decoration-color: #0087ff\">InputLayer</span>)              │                        │                │                        │\n",
              "├───────────────────────────┼────────────────────────┼────────────────┼────────────────────────┤\n",
              "│ embedding_22 (<span style=\"color: #0087ff; text-decoration-color: #0087ff\">Embedding</span>)  │ (<span style=\"color: #00d7ff; text-decoration-color: #00d7ff\">None</span>, <span style=\"color: #00af00; text-decoration-color: #00af00\">1</span>, <span style=\"color: #00af00; text-decoration-color: #00af00\">50</span>)          │        <span style=\"color: #00af00; text-decoration-color: #00af00\">485,800</span> │ input_layer_10[<span style=\"color: #00af00; text-decoration-color: #00af00\">0</span>][<span style=\"color: #00af00; text-decoration-color: #00af00\">0</span>]   │\n",
              "├───────────────────────────┼────────────────────────┼────────────────┼────────────────────────┤\n",
              "│ embedding_23 (<span style=\"color: #0087ff; text-decoration-color: #0087ff\">Embedding</span>)  │ (<span style=\"color: #00d7ff; text-decoration-color: #00d7ff\">None</span>, <span style=\"color: #00af00; text-decoration-color: #00af00\">1</span>, <span style=\"color: #00af00; text-decoration-color: #00af00\">50</span>)          │      <span style=\"color: #00af00; text-decoration-color: #00af00\">8,773,800</span> │ input_layer_11[<span style=\"color: #00af00; text-decoration-color: #00af00\">0</span>][<span style=\"color: #00af00; text-decoration-color: #00af00\">0</span>]   │\n",
              "├───────────────────────────┼────────────────────────┼────────────────┼────────────────────────┤\n",
              "│ flatten_22 (<span style=\"color: #0087ff; text-decoration-color: #0087ff\">Flatten</span>)      │ (<span style=\"color: #00d7ff; text-decoration-color: #00d7ff\">None</span>, <span style=\"color: #00af00; text-decoration-color: #00af00\">50</span>)             │              <span style=\"color: #00af00; text-decoration-color: #00af00\">0</span> │ embedding_22[<span style=\"color: #00af00; text-decoration-color: #00af00\">0</span>][<span style=\"color: #00af00; text-decoration-color: #00af00\">0</span>]     │\n",
              "├───────────────────────────┼────────────────────────┼────────────────┼────────────────────────┤\n",
              "│ flatten_23 (<span style=\"color: #0087ff; text-decoration-color: #0087ff\">Flatten</span>)      │ (<span style=\"color: #00d7ff; text-decoration-color: #00d7ff\">None</span>, <span style=\"color: #00af00; text-decoration-color: #00af00\">50</span>)             │              <span style=\"color: #00af00; text-decoration-color: #00af00\">0</span> │ embedding_23[<span style=\"color: #00af00; text-decoration-color: #00af00\">0</span>][<span style=\"color: #00af00; text-decoration-color: #00af00\">0</span>]     │\n",
              "├───────────────────────────┼────────────────────────┼────────────────┼────────────────────────┤\n",
              "│ concatenate_10            │ (<span style=\"color: #00d7ff; text-decoration-color: #00d7ff\">None</span>, <span style=\"color: #00af00; text-decoration-color: #00af00\">100</span>)            │              <span style=\"color: #00af00; text-decoration-color: #00af00\">0</span> │ flatten_22[<span style=\"color: #00af00; text-decoration-color: #00af00\">0</span>][<span style=\"color: #00af00; text-decoration-color: #00af00\">0</span>],      │\n",
              "│ (<span style=\"color: #0087ff; text-decoration-color: #0087ff\">Concatenate</span>)             │                        │                │ flatten_23[<span style=\"color: #00af00; text-decoration-color: #00af00\">0</span>][<span style=\"color: #00af00; text-decoration-color: #00af00\">0</span>]       │\n",
              "├───────────────────────────┼────────────────────────┼────────────────┼────────────────────────┤\n",
              "│ dense_15 (<span style=\"color: #0087ff; text-decoration-color: #0087ff\">Dense</span>)          │ (<span style=\"color: #00d7ff; text-decoration-color: #00d7ff\">None</span>, <span style=\"color: #00af00; text-decoration-color: #00af00\">64</span>)             │          <span style=\"color: #00af00; text-decoration-color: #00af00\">6,464</span> │ concatenate_10[<span style=\"color: #00af00; text-decoration-color: #00af00\">0</span>][<span style=\"color: #00af00; text-decoration-color: #00af00\">0</span>]   │\n",
              "├───────────────────────────┼────────────────────────┼────────────────┼────────────────────────┤\n",
              "│ dense_16 (<span style=\"color: #0087ff; text-decoration-color: #0087ff\">Dense</span>)          │ (<span style=\"color: #00d7ff; text-decoration-color: #00d7ff\">None</span>, <span style=\"color: #00af00; text-decoration-color: #00af00\">32</span>)             │          <span style=\"color: #00af00; text-decoration-color: #00af00\">2,080</span> │ dense_15[<span style=\"color: #00af00; text-decoration-color: #00af00\">0</span>][<span style=\"color: #00af00; text-decoration-color: #00af00\">0</span>]         │\n",
              "├───────────────────────────┼────────────────────────┼────────────────┼────────────────────────┤\n",
              "│ dense_17 (<span style=\"color: #0087ff; text-decoration-color: #0087ff\">Dense</span>)          │ (<span style=\"color: #00d7ff; text-decoration-color: #00d7ff\">None</span>, <span style=\"color: #00af00; text-decoration-color: #00af00\">1</span>)              │             <span style=\"color: #00af00; text-decoration-color: #00af00\">33</span> │ dense_16[<span style=\"color: #00af00; text-decoration-color: #00af00\">0</span>][<span style=\"color: #00af00; text-decoration-color: #00af00\">0</span>]         │\n",
              "└───────────────────────────┴────────────────────────┴────────────────┴────────────────────────┘\n",
              "</pre>\n"
            ]
          },
          "metadata": {}
        },
        {
          "output_type": "display_data",
          "data": {
            "text/plain": [
              "\u001b[1m Total params: \u001b[0m\u001b[38;5;34m9,268,177\u001b[0m (35.36 MB)\n"
            ],
            "text/html": [
              "<pre style=\"white-space:pre;overflow-x:auto;line-height:normal;font-family:Menlo,'DejaVu Sans Mono',consolas,'Courier New',monospace\"><span style=\"font-weight: bold\"> Total params: </span><span style=\"color: #00af00; text-decoration-color: #00af00\">9,268,177</span> (35.36 MB)\n",
              "</pre>\n"
            ]
          },
          "metadata": {}
        },
        {
          "output_type": "display_data",
          "data": {
            "text/plain": [
              "\u001b[1m Trainable params: \u001b[0m\u001b[38;5;34m9,268,177\u001b[0m (35.36 MB)\n"
            ],
            "text/html": [
              "<pre style=\"white-space:pre;overflow-x:auto;line-height:normal;font-family:Menlo,'DejaVu Sans Mono',consolas,'Courier New',monospace\"><span style=\"font-weight: bold\"> Trainable params: </span><span style=\"color: #00af00; text-decoration-color: #00af00\">9,268,177</span> (35.36 MB)\n",
              "</pre>\n"
            ]
          },
          "metadata": {}
        },
        {
          "output_type": "display_data",
          "data": {
            "text/plain": [
              "\u001b[1m Non-trainable params: \u001b[0m\u001b[38;5;34m0\u001b[0m (0.00 B)\n"
            ],
            "text/html": [
              "<pre style=\"white-space:pre;overflow-x:auto;line-height:normal;font-family:Menlo,'DejaVu Sans Mono',consolas,'Courier New',monospace\"><span style=\"font-weight: bold\"> Non-trainable params: </span><span style=\"color: #00af00; text-decoration-color: #00af00\">0</span> (0.00 B)\n",
              "</pre>\n"
            ]
          },
          "metadata": {}
        },
        {
          "output_type": "stream",
          "name": "stdout",
          "text": [
            "Epoch 1/10\n",
            "\u001b[1m313/313\u001b[0m \u001b[32m━━━━━━━━━━━━━━━━━━━━\u001b[0m\u001b[37m\u001b[0m \u001b[1m57s\u001b[0m 176ms/step - accuracy: 0.8592 - loss: 0.4194 - val_accuracy: 0.9258 - val_loss: 0.2254\n",
            "Epoch 2/10\n",
            "\u001b[1m313/313\u001b[0m \u001b[32m━━━━━━━━━━━━━━━━━━━━\u001b[0m\u001b[37m\u001b[0m \u001b[1m83s\u001b[0m 181ms/step - accuracy: 0.9239 - loss: 0.1867 - val_accuracy: 0.9186 - val_loss: 0.2495\n",
            "Epoch 3/10\n",
            "\u001b[1m313/313\u001b[0m \u001b[32m━━━━━━━━━━━━━━━━━━━━\u001b[0m\u001b[37m\u001b[0m \u001b[1m81s\u001b[0m 178ms/step - accuracy: 0.9460 - loss: 0.1199 - val_accuracy: 0.9058 - val_loss: 0.3428\n",
            "Epoch 4/10\n",
            "\u001b[1m313/313\u001b[0m \u001b[32m━━━━━━━━━━━━━━━━━━━━\u001b[0m\u001b[37m\u001b[0m \u001b[1m82s\u001b[0m 178ms/step - accuracy: 0.9674 - loss: 0.0704 - val_accuracy: 0.8872 - val_loss: 0.4766\n",
            "Epoch 5/10\n",
            "\u001b[1m313/313\u001b[0m \u001b[32m━━━━━━━━━━━━━━━━━━━━\u001b[0m\u001b[37m\u001b[0m \u001b[1m53s\u001b[0m 169ms/step - accuracy: 0.9784 - loss: 0.0512 - val_accuracy: 0.8772 - val_loss: 0.5627\n",
            "Epoch 6/10\n",
            "\u001b[1m313/313\u001b[0m \u001b[32m━━━━━━━━━━━━━━━━━━━━\u001b[0m\u001b[37m\u001b[0m \u001b[1m84s\u001b[0m 175ms/step - accuracy: 0.9839 - loss: 0.0406 - val_accuracy: 0.8737 - val_loss: 0.6523\n",
            "Epoch 7/10\n",
            "\u001b[1m313/313\u001b[0m \u001b[32m━━━━━━━━━━━━━━━━━━━━\u001b[0m\u001b[37m\u001b[0m \u001b[1m50s\u001b[0m 160ms/step - accuracy: 0.9861 - loss: 0.0327 - val_accuracy: 0.8754 - val_loss: 0.7579\n",
            "Epoch 8/10\n",
            "\u001b[1m313/313\u001b[0m \u001b[32m━━━━━━━━━━━━━━━━━━━━\u001b[0m\u001b[37m\u001b[0m \u001b[1m83s\u001b[0m 162ms/step - accuracy: 0.9910 - loss: 0.0237 - val_accuracy: 0.8669 - val_loss: 0.8349\n",
            "Epoch 9/10\n",
            "\u001b[1m313/313\u001b[0m \u001b[32m━━━━━━━━━━━━━━━━━━━━\u001b[0m\u001b[37m\u001b[0m \u001b[1m84s\u001b[0m 169ms/step - accuracy: 0.9921 - loss: 0.0192 - val_accuracy: 0.8695 - val_loss: 0.9266\n",
            "Epoch 10/10\n",
            "\u001b[1m313/313\u001b[0m \u001b[32m━━━━━━━━━━━━━━━━━━━━\u001b[0m\u001b[37m\u001b[0m \u001b[1m79s\u001b[0m 161ms/step - accuracy: 0.9942 - loss: 0.0142 - val_accuracy: 0.8653 - val_loss: 1.0437\n",
            "\u001b[1m157/157\u001b[0m \u001b[32m━━━━━━━━━━━━━━━━━━━━\u001b[0m\u001b[37m\u001b[0m \u001b[1m0s\u001b[0m 1ms/step - accuracy: 0.8663 - loss: 1.1069\n",
            "Test Accuracy: 0.8653\n"
          ]
        }
      ]
    },
    {
      "cell_type": "markdown",
      "source": [
        "# 2nd try\n",
        "implemented\n",
        "\n",
        "1.   droup out layers\n",
        "\n"
      ],
      "metadata": {
        "id": "VKsY4Wos-8h4"
      }
    },
    {
      "cell_type": "code",
      "source": [
        "from keras.layers import Input, Embedding, Flatten, concatenate, Dense, Dropout\n",
        "from keras.models import Model\n",
        "\n",
        "def build_model(num_users, num_items, embedding_dim):\n",
        "    user_input = Input(shape=(1,))\n",
        "    item_input = Input(shape=(1,))\n",
        "\n",
        "    # GMF Part\n",
        "    user_embedding_gmf = Embedding(num_users, embedding_dim)(user_input)\n",
        "    item_embedding_gmf = Embedding(num_items, embedding_dim)(item_input)\n",
        "    gmf_vector = Flatten()(user_embedding_gmf) * Flatten()(item_embedding_gmf)\n",
        "\n",
        "    # MLP Part\n",
        "    user_embedding_mlp = Embedding(num_users, embedding_dim)(user_input)\n",
        "    item_embedding_mlp = Embedding(num_items, embedding_dim)(item_input)\n",
        "    mlp_vector = concatenate([Flatten()(user_embedding_mlp), Flatten()(item_embedding_mlp)])\n",
        "\n",
        "\n",
        "    mlp_vector = Dense(64, activation='relu',kernel_regularizer=l2(0.001))(mlp_vector)\n",
        "    mlp_vector = Dropout(0.3)(mlp_vector)  # Dropout layer added here\n",
        "    mlp_vector = Dense(32, activation='relu',kernel_regularizer=l2(0.001))(mlp_vector)\n",
        "    mlp_vector = Dropout(0.3)(mlp_vector)  # Dropout layer added here\n",
        "\n",
        "    # Concatenate GMF and MLP parts\n",
        "    ncf_vector = concatenate([gmf_vector, mlp_vector])\n",
        "\n",
        "    # Final output layer\n",
        "    output = Dense(1, activation=\"sigmoid\")(ncf_vector)\n",
        "\n",
        "    # Build and compile the model\n",
        "    ncf_model = Model(inputs=[user_input, item_input], outputs=output)\n",
        "    ncf_model.compile(optimizer=\"adam\", loss=\"binary_crossentropy\", metrics=[\"accuracy\"])\n",
        "    ncf_model.summary()\n",
        "\n",
        "    return ncf_model\n",
        "\n",
        "# Example usage\n",
        "num_users = balanced_df.userId.max() + 1\n",
        "num_items = balanced_df.movieId.max() + 1\n",
        "embedding_dim = 50\n",
        "model = build_model(num_users, num_items, embedding_dim)\n",
        "model.fit([X_train.iloc[:, 0], X_train.iloc[:, 1]], y_train, epochs=10, batch_size=64, validation_data=([X_test.iloc[:, 0], X_test.iloc[:, 1]], y_test))\n",
        "loss, accuracy = model.evaluate([X_test.iloc[:, 0], X_test.iloc[:, 1]], y_test)\n",
        "print(f'Test Accuracy: {accuracy:.4f}')\n"
      ],
      "metadata": {
        "colab": {
          "base_uri": "https://localhost:8080/",
          "height": 1000
        },
        "id": "W9jI65EKrx1q",
        "outputId": "1040465d-3e3a-4076-e003-2fe4a4d4500c"
      },
      "execution_count": 22,
      "outputs": [
        {
          "output_type": "display_data",
          "data": {
            "text/plain": [
              "\u001b[1mModel: \"functional_4\"\u001b[0m\n"
            ],
            "text/html": [
              "<pre style=\"white-space:pre;overflow-x:auto;line-height:normal;font-family:Menlo,'DejaVu Sans Mono',consolas,'Courier New',monospace\"><span style=\"font-weight: bold\">Model: \"functional_4\"</span>\n",
              "</pre>\n"
            ]
          },
          "metadata": {}
        },
        {
          "output_type": "display_data",
          "data": {
            "text/plain": [
              "┏━━━━━━━━━━━━━━━━━━━━━━━━━━━┳━━━━━━━━━━━━━━━━━━━━━━━━┳━━━━━━━━━━━━━━━━┳━━━━━━━━━━━━━━━━━━━━━━━━┓\n",
              "┃\u001b[1m \u001b[0m\u001b[1mLayer (type)             \u001b[0m\u001b[1m \u001b[0m┃\u001b[1m \u001b[0m\u001b[1mOutput Shape          \u001b[0m\u001b[1m \u001b[0m┃\u001b[1m \u001b[0m\u001b[1m       Param #\u001b[0m\u001b[1m \u001b[0m┃\u001b[1m \u001b[0m\u001b[1mConnected to          \u001b[0m\u001b[1m \u001b[0m┃\n",
              "┡━━━━━━━━━━━━━━━━━━━━━━━━━━━╇━━━━━━━━━━━━━━━━━━━━━━━━╇━━━━━━━━━━━━━━━━╇━━━━━━━━━━━━━━━━━━━━━━━━┩\n",
              "│ input_layer_12            │ (\u001b[38;5;45mNone\u001b[0m, \u001b[38;5;34m1\u001b[0m)              │              \u001b[38;5;34m0\u001b[0m │ -                      │\n",
              "│ (\u001b[38;5;33mInputLayer\u001b[0m)              │                        │                │                        │\n",
              "├───────────────────────────┼────────────────────────┼────────────────┼────────────────────────┤\n",
              "│ input_layer_13            │ (\u001b[38;5;45mNone\u001b[0m, \u001b[38;5;34m1\u001b[0m)              │              \u001b[38;5;34m0\u001b[0m │ -                      │\n",
              "│ (\u001b[38;5;33mInputLayer\u001b[0m)              │                        │                │                        │\n",
              "├───────────────────────────┼────────────────────────┼────────────────┼────────────────────────┤\n",
              "│ embedding_26 (\u001b[38;5;33mEmbedding\u001b[0m)  │ (\u001b[38;5;45mNone\u001b[0m, \u001b[38;5;34m1\u001b[0m, \u001b[38;5;34m50\u001b[0m)          │        \u001b[38;5;34m485,800\u001b[0m │ input_layer_12[\u001b[38;5;34m0\u001b[0m][\u001b[38;5;34m0\u001b[0m]   │\n",
              "├───────────────────────────┼────────────────────────┼────────────────┼────────────────────────┤\n",
              "│ embedding_27 (\u001b[38;5;33mEmbedding\u001b[0m)  │ (\u001b[38;5;45mNone\u001b[0m, \u001b[38;5;34m1\u001b[0m, \u001b[38;5;34m50\u001b[0m)          │      \u001b[38;5;34m8,773,800\u001b[0m │ input_layer_13[\u001b[38;5;34m0\u001b[0m][\u001b[38;5;34m0\u001b[0m]   │\n",
              "├───────────────────────────┼────────────────────────┼────────────────┼────────────────────────┤\n",
              "│ flatten_26 (\u001b[38;5;33mFlatten\u001b[0m)      │ (\u001b[38;5;45mNone\u001b[0m, \u001b[38;5;34m50\u001b[0m)             │              \u001b[38;5;34m0\u001b[0m │ embedding_26[\u001b[38;5;34m0\u001b[0m][\u001b[38;5;34m0\u001b[0m]     │\n",
              "├───────────────────────────┼────────────────────────┼────────────────┼────────────────────────┤\n",
              "│ flatten_27 (\u001b[38;5;33mFlatten\u001b[0m)      │ (\u001b[38;5;45mNone\u001b[0m, \u001b[38;5;34m50\u001b[0m)             │              \u001b[38;5;34m0\u001b[0m │ embedding_27[\u001b[38;5;34m0\u001b[0m][\u001b[38;5;34m0\u001b[0m]     │\n",
              "├───────────────────────────┼────────────────────────┼────────────────┼────────────────────────┤\n",
              "│ concatenate_12            │ (\u001b[38;5;45mNone\u001b[0m, \u001b[38;5;34m100\u001b[0m)            │              \u001b[38;5;34m0\u001b[0m │ flatten_26[\u001b[38;5;34m0\u001b[0m][\u001b[38;5;34m0\u001b[0m],      │\n",
              "│ (\u001b[38;5;33mConcatenate\u001b[0m)             │                        │                │ flatten_27[\u001b[38;5;34m0\u001b[0m][\u001b[38;5;34m0\u001b[0m]       │\n",
              "├───────────────────────────┼────────────────────────┼────────────────┼────────────────────────┤\n",
              "│ dense_18 (\u001b[38;5;33mDense\u001b[0m)          │ (\u001b[38;5;45mNone\u001b[0m, \u001b[38;5;34m64\u001b[0m)             │          \u001b[38;5;34m6,464\u001b[0m │ concatenate_12[\u001b[38;5;34m0\u001b[0m][\u001b[38;5;34m0\u001b[0m]   │\n",
              "├───────────────────────────┼────────────────────────┼────────────────┼────────────────────────┤\n",
              "│ embedding_24 (\u001b[38;5;33mEmbedding\u001b[0m)  │ (\u001b[38;5;45mNone\u001b[0m, \u001b[38;5;34m1\u001b[0m, \u001b[38;5;34m50\u001b[0m)          │        \u001b[38;5;34m485,800\u001b[0m │ input_layer_12[\u001b[38;5;34m0\u001b[0m][\u001b[38;5;34m0\u001b[0m]   │\n",
              "├───────────────────────────┼────────────────────────┼────────────────┼────────────────────────┤\n",
              "│ embedding_25 (\u001b[38;5;33mEmbedding\u001b[0m)  │ (\u001b[38;5;45mNone\u001b[0m, \u001b[38;5;34m1\u001b[0m, \u001b[38;5;34m50\u001b[0m)          │      \u001b[38;5;34m8,773,800\u001b[0m │ input_layer_13[\u001b[38;5;34m0\u001b[0m][\u001b[38;5;34m0\u001b[0m]   │\n",
              "├───────────────────────────┼────────────────────────┼────────────────┼────────────────────────┤\n",
              "│ dropout (\u001b[38;5;33mDropout\u001b[0m)         │ (\u001b[38;5;45mNone\u001b[0m, \u001b[38;5;34m64\u001b[0m)             │              \u001b[38;5;34m0\u001b[0m │ dense_18[\u001b[38;5;34m0\u001b[0m][\u001b[38;5;34m0\u001b[0m]         │\n",
              "├───────────────────────────┼────────────────────────┼────────────────┼────────────────────────┤\n",
              "│ flatten_24 (\u001b[38;5;33mFlatten\u001b[0m)      │ (\u001b[38;5;45mNone\u001b[0m, \u001b[38;5;34m50\u001b[0m)             │              \u001b[38;5;34m0\u001b[0m │ embedding_24[\u001b[38;5;34m0\u001b[0m][\u001b[38;5;34m0\u001b[0m]     │\n",
              "├───────────────────────────┼────────────────────────┼────────────────┼────────────────────────┤\n",
              "│ flatten_25 (\u001b[38;5;33mFlatten\u001b[0m)      │ (\u001b[38;5;45mNone\u001b[0m, \u001b[38;5;34m50\u001b[0m)             │              \u001b[38;5;34m0\u001b[0m │ embedding_25[\u001b[38;5;34m0\u001b[0m][\u001b[38;5;34m0\u001b[0m]     │\n",
              "├───────────────────────────┼────────────────────────┼────────────────┼────────────────────────┤\n",
              "│ dense_19 (\u001b[38;5;33mDense\u001b[0m)          │ (\u001b[38;5;45mNone\u001b[0m, \u001b[38;5;34m32\u001b[0m)             │          \u001b[38;5;34m2,080\u001b[0m │ dropout[\u001b[38;5;34m0\u001b[0m][\u001b[38;5;34m0\u001b[0m]          │\n",
              "├───────────────────────────┼────────────────────────┼────────────────┼────────────────────────┤\n",
              "│ multiply_6 (\u001b[38;5;33mMultiply\u001b[0m)     │ (\u001b[38;5;45mNone\u001b[0m, \u001b[38;5;34m50\u001b[0m)             │              \u001b[38;5;34m0\u001b[0m │ flatten_24[\u001b[38;5;34m0\u001b[0m][\u001b[38;5;34m0\u001b[0m],      │\n",
              "│                           │                        │                │ flatten_25[\u001b[38;5;34m0\u001b[0m][\u001b[38;5;34m0\u001b[0m]       │\n",
              "├───────────────────────────┼────────────────────────┼────────────────┼────────────────────────┤\n",
              "│ dropout_1 (\u001b[38;5;33mDropout\u001b[0m)       │ (\u001b[38;5;45mNone\u001b[0m, \u001b[38;5;34m32\u001b[0m)             │              \u001b[38;5;34m0\u001b[0m │ dense_19[\u001b[38;5;34m0\u001b[0m][\u001b[38;5;34m0\u001b[0m]         │\n",
              "├───────────────────────────┼────────────────────────┼────────────────┼────────────────────────┤\n",
              "│ concatenate_13            │ (\u001b[38;5;45mNone\u001b[0m, \u001b[38;5;34m82\u001b[0m)             │              \u001b[38;5;34m0\u001b[0m │ multiply_6[\u001b[38;5;34m0\u001b[0m][\u001b[38;5;34m0\u001b[0m],      │\n",
              "│ (\u001b[38;5;33mConcatenate\u001b[0m)             │                        │                │ dropout_1[\u001b[38;5;34m0\u001b[0m][\u001b[38;5;34m0\u001b[0m]        │\n",
              "├───────────────────────────┼────────────────────────┼────────────────┼────────────────────────┤\n",
              "│ dense_20 (\u001b[38;5;33mDense\u001b[0m)          │ (\u001b[38;5;45mNone\u001b[0m, \u001b[38;5;34m1\u001b[0m)              │             \u001b[38;5;34m83\u001b[0m │ concatenate_13[\u001b[38;5;34m0\u001b[0m][\u001b[38;5;34m0\u001b[0m]   │\n",
              "└───────────────────────────┴────────────────────────┴────────────────┴────────────────────────┘\n"
            ],
            "text/html": [
              "<pre style=\"white-space:pre;overflow-x:auto;line-height:normal;font-family:Menlo,'DejaVu Sans Mono',consolas,'Courier New',monospace\">┏━━━━━━━━━━━━━━━━━━━━━━━━━━━┳━━━━━━━━━━━━━━━━━━━━━━━━┳━━━━━━━━━━━━━━━━┳━━━━━━━━━━━━━━━━━━━━━━━━┓\n",
              "┃<span style=\"font-weight: bold\"> Layer (type)              </span>┃<span style=\"font-weight: bold\"> Output Shape           </span>┃<span style=\"font-weight: bold\">        Param # </span>┃<span style=\"font-weight: bold\"> Connected to           </span>┃\n",
              "┡━━━━━━━━━━━━━━━━━━━━━━━━━━━╇━━━━━━━━━━━━━━━━━━━━━━━━╇━━━━━━━━━━━━━━━━╇━━━━━━━━━━━━━━━━━━━━━━━━┩\n",
              "│ input_layer_12            │ (<span style=\"color: #00d7ff; text-decoration-color: #00d7ff\">None</span>, <span style=\"color: #00af00; text-decoration-color: #00af00\">1</span>)              │              <span style=\"color: #00af00; text-decoration-color: #00af00\">0</span> │ -                      │\n",
              "│ (<span style=\"color: #0087ff; text-decoration-color: #0087ff\">InputLayer</span>)              │                        │                │                        │\n",
              "├───────────────────────────┼────────────────────────┼────────────────┼────────────────────────┤\n",
              "│ input_layer_13            │ (<span style=\"color: #00d7ff; text-decoration-color: #00d7ff\">None</span>, <span style=\"color: #00af00; text-decoration-color: #00af00\">1</span>)              │              <span style=\"color: #00af00; text-decoration-color: #00af00\">0</span> │ -                      │\n",
              "│ (<span style=\"color: #0087ff; text-decoration-color: #0087ff\">InputLayer</span>)              │                        │                │                        │\n",
              "├───────────────────────────┼────────────────────────┼────────────────┼────────────────────────┤\n",
              "│ embedding_26 (<span style=\"color: #0087ff; text-decoration-color: #0087ff\">Embedding</span>)  │ (<span style=\"color: #00d7ff; text-decoration-color: #00d7ff\">None</span>, <span style=\"color: #00af00; text-decoration-color: #00af00\">1</span>, <span style=\"color: #00af00; text-decoration-color: #00af00\">50</span>)          │        <span style=\"color: #00af00; text-decoration-color: #00af00\">485,800</span> │ input_layer_12[<span style=\"color: #00af00; text-decoration-color: #00af00\">0</span>][<span style=\"color: #00af00; text-decoration-color: #00af00\">0</span>]   │\n",
              "├───────────────────────────┼────────────────────────┼────────────────┼────────────────────────┤\n",
              "│ embedding_27 (<span style=\"color: #0087ff; text-decoration-color: #0087ff\">Embedding</span>)  │ (<span style=\"color: #00d7ff; text-decoration-color: #00d7ff\">None</span>, <span style=\"color: #00af00; text-decoration-color: #00af00\">1</span>, <span style=\"color: #00af00; text-decoration-color: #00af00\">50</span>)          │      <span style=\"color: #00af00; text-decoration-color: #00af00\">8,773,800</span> │ input_layer_13[<span style=\"color: #00af00; text-decoration-color: #00af00\">0</span>][<span style=\"color: #00af00; text-decoration-color: #00af00\">0</span>]   │\n",
              "├───────────────────────────┼────────────────────────┼────────────────┼────────────────────────┤\n",
              "│ flatten_26 (<span style=\"color: #0087ff; text-decoration-color: #0087ff\">Flatten</span>)      │ (<span style=\"color: #00d7ff; text-decoration-color: #00d7ff\">None</span>, <span style=\"color: #00af00; text-decoration-color: #00af00\">50</span>)             │              <span style=\"color: #00af00; text-decoration-color: #00af00\">0</span> │ embedding_26[<span style=\"color: #00af00; text-decoration-color: #00af00\">0</span>][<span style=\"color: #00af00; text-decoration-color: #00af00\">0</span>]     │\n",
              "├───────────────────────────┼────────────────────────┼────────────────┼────────────────────────┤\n",
              "│ flatten_27 (<span style=\"color: #0087ff; text-decoration-color: #0087ff\">Flatten</span>)      │ (<span style=\"color: #00d7ff; text-decoration-color: #00d7ff\">None</span>, <span style=\"color: #00af00; text-decoration-color: #00af00\">50</span>)             │              <span style=\"color: #00af00; text-decoration-color: #00af00\">0</span> │ embedding_27[<span style=\"color: #00af00; text-decoration-color: #00af00\">0</span>][<span style=\"color: #00af00; text-decoration-color: #00af00\">0</span>]     │\n",
              "├───────────────────────────┼────────────────────────┼────────────────┼────────────────────────┤\n",
              "│ concatenate_12            │ (<span style=\"color: #00d7ff; text-decoration-color: #00d7ff\">None</span>, <span style=\"color: #00af00; text-decoration-color: #00af00\">100</span>)            │              <span style=\"color: #00af00; text-decoration-color: #00af00\">0</span> │ flatten_26[<span style=\"color: #00af00; text-decoration-color: #00af00\">0</span>][<span style=\"color: #00af00; text-decoration-color: #00af00\">0</span>],      │\n",
              "│ (<span style=\"color: #0087ff; text-decoration-color: #0087ff\">Concatenate</span>)             │                        │                │ flatten_27[<span style=\"color: #00af00; text-decoration-color: #00af00\">0</span>][<span style=\"color: #00af00; text-decoration-color: #00af00\">0</span>]       │\n",
              "├───────────────────────────┼────────────────────────┼────────────────┼────────────────────────┤\n",
              "│ dense_18 (<span style=\"color: #0087ff; text-decoration-color: #0087ff\">Dense</span>)          │ (<span style=\"color: #00d7ff; text-decoration-color: #00d7ff\">None</span>, <span style=\"color: #00af00; text-decoration-color: #00af00\">64</span>)             │          <span style=\"color: #00af00; text-decoration-color: #00af00\">6,464</span> │ concatenate_12[<span style=\"color: #00af00; text-decoration-color: #00af00\">0</span>][<span style=\"color: #00af00; text-decoration-color: #00af00\">0</span>]   │\n",
              "├───────────────────────────┼────────────────────────┼────────────────┼────────────────────────┤\n",
              "│ embedding_24 (<span style=\"color: #0087ff; text-decoration-color: #0087ff\">Embedding</span>)  │ (<span style=\"color: #00d7ff; text-decoration-color: #00d7ff\">None</span>, <span style=\"color: #00af00; text-decoration-color: #00af00\">1</span>, <span style=\"color: #00af00; text-decoration-color: #00af00\">50</span>)          │        <span style=\"color: #00af00; text-decoration-color: #00af00\">485,800</span> │ input_layer_12[<span style=\"color: #00af00; text-decoration-color: #00af00\">0</span>][<span style=\"color: #00af00; text-decoration-color: #00af00\">0</span>]   │\n",
              "├───────────────────────────┼────────────────────────┼────────────────┼────────────────────────┤\n",
              "│ embedding_25 (<span style=\"color: #0087ff; text-decoration-color: #0087ff\">Embedding</span>)  │ (<span style=\"color: #00d7ff; text-decoration-color: #00d7ff\">None</span>, <span style=\"color: #00af00; text-decoration-color: #00af00\">1</span>, <span style=\"color: #00af00; text-decoration-color: #00af00\">50</span>)          │      <span style=\"color: #00af00; text-decoration-color: #00af00\">8,773,800</span> │ input_layer_13[<span style=\"color: #00af00; text-decoration-color: #00af00\">0</span>][<span style=\"color: #00af00; text-decoration-color: #00af00\">0</span>]   │\n",
              "├───────────────────────────┼────────────────────────┼────────────────┼────────────────────────┤\n",
              "│ dropout (<span style=\"color: #0087ff; text-decoration-color: #0087ff\">Dropout</span>)         │ (<span style=\"color: #00d7ff; text-decoration-color: #00d7ff\">None</span>, <span style=\"color: #00af00; text-decoration-color: #00af00\">64</span>)             │              <span style=\"color: #00af00; text-decoration-color: #00af00\">0</span> │ dense_18[<span style=\"color: #00af00; text-decoration-color: #00af00\">0</span>][<span style=\"color: #00af00; text-decoration-color: #00af00\">0</span>]         │\n",
              "├───────────────────────────┼────────────────────────┼────────────────┼────────────────────────┤\n",
              "│ flatten_24 (<span style=\"color: #0087ff; text-decoration-color: #0087ff\">Flatten</span>)      │ (<span style=\"color: #00d7ff; text-decoration-color: #00d7ff\">None</span>, <span style=\"color: #00af00; text-decoration-color: #00af00\">50</span>)             │              <span style=\"color: #00af00; text-decoration-color: #00af00\">0</span> │ embedding_24[<span style=\"color: #00af00; text-decoration-color: #00af00\">0</span>][<span style=\"color: #00af00; text-decoration-color: #00af00\">0</span>]     │\n",
              "├───────────────────────────┼────────────────────────┼────────────────┼────────────────────────┤\n",
              "│ flatten_25 (<span style=\"color: #0087ff; text-decoration-color: #0087ff\">Flatten</span>)      │ (<span style=\"color: #00d7ff; text-decoration-color: #00d7ff\">None</span>, <span style=\"color: #00af00; text-decoration-color: #00af00\">50</span>)             │              <span style=\"color: #00af00; text-decoration-color: #00af00\">0</span> │ embedding_25[<span style=\"color: #00af00; text-decoration-color: #00af00\">0</span>][<span style=\"color: #00af00; text-decoration-color: #00af00\">0</span>]     │\n",
              "├───────────────────────────┼────────────────────────┼────────────────┼────────────────────────┤\n",
              "│ dense_19 (<span style=\"color: #0087ff; text-decoration-color: #0087ff\">Dense</span>)          │ (<span style=\"color: #00d7ff; text-decoration-color: #00d7ff\">None</span>, <span style=\"color: #00af00; text-decoration-color: #00af00\">32</span>)             │          <span style=\"color: #00af00; text-decoration-color: #00af00\">2,080</span> │ dropout[<span style=\"color: #00af00; text-decoration-color: #00af00\">0</span>][<span style=\"color: #00af00; text-decoration-color: #00af00\">0</span>]          │\n",
              "├───────────────────────────┼────────────────────────┼────────────────┼────────────────────────┤\n",
              "│ multiply_6 (<span style=\"color: #0087ff; text-decoration-color: #0087ff\">Multiply</span>)     │ (<span style=\"color: #00d7ff; text-decoration-color: #00d7ff\">None</span>, <span style=\"color: #00af00; text-decoration-color: #00af00\">50</span>)             │              <span style=\"color: #00af00; text-decoration-color: #00af00\">0</span> │ flatten_24[<span style=\"color: #00af00; text-decoration-color: #00af00\">0</span>][<span style=\"color: #00af00; text-decoration-color: #00af00\">0</span>],      │\n",
              "│                           │                        │                │ flatten_25[<span style=\"color: #00af00; text-decoration-color: #00af00\">0</span>][<span style=\"color: #00af00; text-decoration-color: #00af00\">0</span>]       │\n",
              "├───────────────────────────┼────────────────────────┼────────────────┼────────────────────────┤\n",
              "│ dropout_1 (<span style=\"color: #0087ff; text-decoration-color: #0087ff\">Dropout</span>)       │ (<span style=\"color: #00d7ff; text-decoration-color: #00d7ff\">None</span>, <span style=\"color: #00af00; text-decoration-color: #00af00\">32</span>)             │              <span style=\"color: #00af00; text-decoration-color: #00af00\">0</span> │ dense_19[<span style=\"color: #00af00; text-decoration-color: #00af00\">0</span>][<span style=\"color: #00af00; text-decoration-color: #00af00\">0</span>]         │\n",
              "├───────────────────────────┼────────────────────────┼────────────────┼────────────────────────┤\n",
              "│ concatenate_13            │ (<span style=\"color: #00d7ff; text-decoration-color: #00d7ff\">None</span>, <span style=\"color: #00af00; text-decoration-color: #00af00\">82</span>)             │              <span style=\"color: #00af00; text-decoration-color: #00af00\">0</span> │ multiply_6[<span style=\"color: #00af00; text-decoration-color: #00af00\">0</span>][<span style=\"color: #00af00; text-decoration-color: #00af00\">0</span>],      │\n",
              "│ (<span style=\"color: #0087ff; text-decoration-color: #0087ff\">Concatenate</span>)             │                        │                │ dropout_1[<span style=\"color: #00af00; text-decoration-color: #00af00\">0</span>][<span style=\"color: #00af00; text-decoration-color: #00af00\">0</span>]        │\n",
              "├───────────────────────────┼────────────────────────┼────────────────┼────────────────────────┤\n",
              "│ dense_20 (<span style=\"color: #0087ff; text-decoration-color: #0087ff\">Dense</span>)          │ (<span style=\"color: #00d7ff; text-decoration-color: #00d7ff\">None</span>, <span style=\"color: #00af00; text-decoration-color: #00af00\">1</span>)              │             <span style=\"color: #00af00; text-decoration-color: #00af00\">83</span> │ concatenate_13[<span style=\"color: #00af00; text-decoration-color: #00af00\">0</span>][<span style=\"color: #00af00; text-decoration-color: #00af00\">0</span>]   │\n",
              "└───────────────────────────┴────────────────────────┴────────────────┴────────────────────────┘\n",
              "</pre>\n"
            ]
          },
          "metadata": {}
        },
        {
          "output_type": "display_data",
          "data": {
            "text/plain": [
              "\u001b[1m Total params: \u001b[0m\u001b[38;5;34m18,527,827\u001b[0m (70.68 MB)\n"
            ],
            "text/html": [
              "<pre style=\"white-space:pre;overflow-x:auto;line-height:normal;font-family:Menlo,'DejaVu Sans Mono',consolas,'Courier New',monospace\"><span style=\"font-weight: bold\"> Total params: </span><span style=\"color: #00af00; text-decoration-color: #00af00\">18,527,827</span> (70.68 MB)\n",
              "</pre>\n"
            ]
          },
          "metadata": {}
        },
        {
          "output_type": "display_data",
          "data": {
            "text/plain": [
              "\u001b[1m Trainable params: \u001b[0m\u001b[38;5;34m18,527,827\u001b[0m (70.68 MB)\n"
            ],
            "text/html": [
              "<pre style=\"white-space:pre;overflow-x:auto;line-height:normal;font-family:Menlo,'DejaVu Sans Mono',consolas,'Courier New',monospace\"><span style=\"font-weight: bold\"> Trainable params: </span><span style=\"color: #00af00; text-decoration-color: #00af00\">18,527,827</span> (70.68 MB)\n",
              "</pre>\n"
            ]
          },
          "metadata": {}
        },
        {
          "output_type": "display_data",
          "data": {
            "text/plain": [
              "\u001b[1m Non-trainable params: \u001b[0m\u001b[38;5;34m0\u001b[0m (0.00 B)\n"
            ],
            "text/html": [
              "<pre style=\"white-space:pre;overflow-x:auto;line-height:normal;font-family:Menlo,'DejaVu Sans Mono',consolas,'Courier New',monospace\"><span style=\"font-weight: bold\"> Non-trainable params: </span><span style=\"color: #00af00; text-decoration-color: #00af00\">0</span> (0.00 B)\n",
              "</pre>\n"
            ]
          },
          "metadata": {}
        },
        {
          "output_type": "stream",
          "name": "stdout",
          "text": [
            "Epoch 1/10\n",
            "\u001b[1m313/313\u001b[0m \u001b[32m━━━━━━━━━━━━━━━━━━━━\u001b[0m\u001b[37m\u001b[0m \u001b[1m97s\u001b[0m 300ms/step - accuracy: 0.8316 - loss: 0.4689 - val_accuracy: 0.9226 - val_loss: 0.2288\n",
            "Epoch 2/10\n",
            "\u001b[1m313/313\u001b[0m \u001b[32m━━━━━━━━━━━━━━━━━━━━\u001b[0m\u001b[37m\u001b[0m \u001b[1m140s\u001b[0m 295ms/step - accuracy: 0.9276 - loss: 0.1904 - val_accuracy: 0.9174 - val_loss: 0.2449\n",
            "Epoch 3/10\n",
            "\u001b[1m313/313\u001b[0m \u001b[32m━━━━━━━━━━━━━━━━━━━━\u001b[0m\u001b[37m\u001b[0m \u001b[1m139s\u001b[0m 287ms/step - accuracy: 0.9436 - loss: 0.1386 - val_accuracy: 0.9042 - val_loss: 0.3187\n",
            "Epoch 4/10\n",
            "\u001b[1m313/313\u001b[0m \u001b[32m━━━━━━━━━━━━━━━━━━━━\u001b[0m\u001b[37m\u001b[0m \u001b[1m139s\u001b[0m 278ms/step - accuracy: 0.9778 - loss: 0.0714 - val_accuracy: 0.8964 - val_loss: 0.4309\n",
            "Epoch 5/10\n",
            "\u001b[1m313/313\u001b[0m \u001b[32m━━━━━━━━━━━━━━━━━━━━\u001b[0m\u001b[37m\u001b[0m \u001b[1m146s\u001b[0m 290ms/step - accuracy: 0.9961 - loss: 0.0327 - val_accuracy: 0.8904 - val_loss: 0.5478\n",
            "Epoch 6/10\n",
            "\u001b[1m313/313\u001b[0m \u001b[32m━━━━━━━━━━━━━━━━━━━━\u001b[0m\u001b[37m\u001b[0m \u001b[1m97s\u001b[0m 308ms/step - accuracy: 0.9991 - loss: 0.0149 - val_accuracy: 0.8854 - val_loss: 0.6252\n",
            "Epoch 7/10\n",
            "\u001b[1m110/313\u001b[0m \u001b[32m━━━━━━━\u001b[0m\u001b[37m━━━━━━━━━━━━━\u001b[0m \u001b[1m56s\u001b[0m 280ms/step - accuracy: 0.9996 - loss: 0.0070"
          ]
        },
        {
          "output_type": "error",
          "ename": "KeyboardInterrupt",
          "evalue": "",
          "traceback": [
            "\u001b[0;31m---------------------------------------------------------------------------\u001b[0m",
            "\u001b[0;31mKeyboardInterrupt\u001b[0m                         Traceback (most recent call last)",
            "\u001b[0;32m<ipython-input-22-706a8253c7cc>\u001b[0m in \u001b[0;36m<cell line: 41>\u001b[0;34m()\u001b[0m\n\u001b[1;32m     39\u001b[0m \u001b[0membedding_dim\u001b[0m \u001b[0;34m=\u001b[0m \u001b[0;36m50\u001b[0m\u001b[0;34m\u001b[0m\u001b[0;34m\u001b[0m\u001b[0m\n\u001b[1;32m     40\u001b[0m \u001b[0mmodel\u001b[0m \u001b[0;34m=\u001b[0m \u001b[0mbuild_model\u001b[0m\u001b[0;34m(\u001b[0m\u001b[0mnum_users\u001b[0m\u001b[0;34m,\u001b[0m \u001b[0mnum_items\u001b[0m\u001b[0;34m,\u001b[0m \u001b[0membedding_dim\u001b[0m\u001b[0;34m)\u001b[0m\u001b[0;34m\u001b[0m\u001b[0;34m\u001b[0m\u001b[0m\n\u001b[0;32m---> 41\u001b[0;31m \u001b[0mmodel\u001b[0m\u001b[0;34m.\u001b[0m\u001b[0mfit\u001b[0m\u001b[0;34m(\u001b[0m\u001b[0;34m[\u001b[0m\u001b[0mX_train\u001b[0m\u001b[0;34m.\u001b[0m\u001b[0miloc\u001b[0m\u001b[0;34m[\u001b[0m\u001b[0;34m:\u001b[0m\u001b[0;34m,\u001b[0m \u001b[0;36m0\u001b[0m\u001b[0;34m]\u001b[0m\u001b[0;34m,\u001b[0m \u001b[0mX_train\u001b[0m\u001b[0;34m.\u001b[0m\u001b[0miloc\u001b[0m\u001b[0;34m[\u001b[0m\u001b[0;34m:\u001b[0m\u001b[0;34m,\u001b[0m \u001b[0;36m1\u001b[0m\u001b[0;34m]\u001b[0m\u001b[0;34m]\u001b[0m\u001b[0;34m,\u001b[0m \u001b[0my_train\u001b[0m\u001b[0;34m,\u001b[0m \u001b[0mepochs\u001b[0m\u001b[0;34m=\u001b[0m\u001b[0;36m10\u001b[0m\u001b[0;34m,\u001b[0m \u001b[0mbatch_size\u001b[0m\u001b[0;34m=\u001b[0m\u001b[0;36m64\u001b[0m\u001b[0;34m,\u001b[0m \u001b[0mvalidation_data\u001b[0m\u001b[0;34m=\u001b[0m\u001b[0;34m(\u001b[0m\u001b[0;34m[\u001b[0m\u001b[0mX_test\u001b[0m\u001b[0;34m.\u001b[0m\u001b[0miloc\u001b[0m\u001b[0;34m[\u001b[0m\u001b[0;34m:\u001b[0m\u001b[0;34m,\u001b[0m \u001b[0;36m0\u001b[0m\u001b[0;34m]\u001b[0m\u001b[0;34m,\u001b[0m \u001b[0mX_test\u001b[0m\u001b[0;34m.\u001b[0m\u001b[0miloc\u001b[0m\u001b[0;34m[\u001b[0m\u001b[0;34m:\u001b[0m\u001b[0;34m,\u001b[0m \u001b[0;36m1\u001b[0m\u001b[0;34m]\u001b[0m\u001b[0;34m]\u001b[0m\u001b[0;34m,\u001b[0m \u001b[0my_test\u001b[0m\u001b[0;34m)\u001b[0m\u001b[0;34m)\u001b[0m\u001b[0;34m\u001b[0m\u001b[0;34m\u001b[0m\u001b[0m\n\u001b[0m\u001b[1;32m     42\u001b[0m \u001b[0mloss\u001b[0m\u001b[0;34m,\u001b[0m \u001b[0maccuracy\u001b[0m \u001b[0;34m=\u001b[0m \u001b[0mmodel\u001b[0m\u001b[0;34m.\u001b[0m\u001b[0mevaluate\u001b[0m\u001b[0;34m(\u001b[0m\u001b[0;34m[\u001b[0m\u001b[0mX_test\u001b[0m\u001b[0;34m.\u001b[0m\u001b[0miloc\u001b[0m\u001b[0;34m[\u001b[0m\u001b[0;34m:\u001b[0m\u001b[0;34m,\u001b[0m \u001b[0;36m0\u001b[0m\u001b[0;34m]\u001b[0m\u001b[0;34m,\u001b[0m \u001b[0mX_test\u001b[0m\u001b[0;34m.\u001b[0m\u001b[0miloc\u001b[0m\u001b[0;34m[\u001b[0m\u001b[0;34m:\u001b[0m\u001b[0;34m,\u001b[0m \u001b[0;36m1\u001b[0m\u001b[0;34m]\u001b[0m\u001b[0;34m]\u001b[0m\u001b[0;34m,\u001b[0m \u001b[0my_test\u001b[0m\u001b[0;34m)\u001b[0m\u001b[0;34m\u001b[0m\u001b[0;34m\u001b[0m\u001b[0m\n\u001b[1;32m     43\u001b[0m \u001b[0mprint\u001b[0m\u001b[0;34m(\u001b[0m\u001b[0;34mf'Test Accuracy: {accuracy:.4f}'\u001b[0m\u001b[0;34m)\u001b[0m\u001b[0;34m\u001b[0m\u001b[0;34m\u001b[0m\u001b[0m\n",
            "\u001b[0;32m/usr/local/lib/python3.10/dist-packages/keras/src/utils/traceback_utils.py\u001b[0m in \u001b[0;36merror_handler\u001b[0;34m(*args, **kwargs)\u001b[0m\n\u001b[1;32m    115\u001b[0m         \u001b[0mfiltered_tb\u001b[0m \u001b[0;34m=\u001b[0m \u001b[0;32mNone\u001b[0m\u001b[0;34m\u001b[0m\u001b[0;34m\u001b[0m\u001b[0m\n\u001b[1;32m    116\u001b[0m         \u001b[0;32mtry\u001b[0m\u001b[0;34m:\u001b[0m\u001b[0;34m\u001b[0m\u001b[0;34m\u001b[0m\u001b[0m\n\u001b[0;32m--> 117\u001b[0;31m             \u001b[0;32mreturn\u001b[0m \u001b[0mfn\u001b[0m\u001b[0;34m(\u001b[0m\u001b[0;34m*\u001b[0m\u001b[0margs\u001b[0m\u001b[0;34m,\u001b[0m \u001b[0;34m**\u001b[0m\u001b[0mkwargs\u001b[0m\u001b[0;34m)\u001b[0m\u001b[0;34m\u001b[0m\u001b[0;34m\u001b[0m\u001b[0m\n\u001b[0m\u001b[1;32m    118\u001b[0m         \u001b[0;32mexcept\u001b[0m \u001b[0mException\u001b[0m \u001b[0;32mas\u001b[0m \u001b[0me\u001b[0m\u001b[0;34m:\u001b[0m\u001b[0;34m\u001b[0m\u001b[0;34m\u001b[0m\u001b[0m\n\u001b[1;32m    119\u001b[0m             \u001b[0mfiltered_tb\u001b[0m \u001b[0;34m=\u001b[0m \u001b[0m_process_traceback_frames\u001b[0m\u001b[0;34m(\u001b[0m\u001b[0me\u001b[0m\u001b[0;34m.\u001b[0m\u001b[0m__traceback__\u001b[0m\u001b[0;34m)\u001b[0m\u001b[0;34m\u001b[0m\u001b[0;34m\u001b[0m\u001b[0m\n",
            "\u001b[0;32m/usr/local/lib/python3.10/dist-packages/keras/src/backend/tensorflow/trainer.py\u001b[0m in \u001b[0;36mfit\u001b[0;34m(self, x, y, batch_size, epochs, verbose, callbacks, validation_split, validation_data, shuffle, class_weight, sample_weight, initial_epoch, steps_per_epoch, validation_steps, validation_batch_size, validation_freq)\u001b[0m\n\u001b[1;32m    316\u001b[0m                 \u001b[0;32mfor\u001b[0m \u001b[0mstep\u001b[0m\u001b[0;34m,\u001b[0m \u001b[0miterator\u001b[0m \u001b[0;32min\u001b[0m \u001b[0mepoch_iterator\u001b[0m\u001b[0;34m.\u001b[0m\u001b[0menumerate_epoch\u001b[0m\u001b[0;34m(\u001b[0m\u001b[0;34m)\u001b[0m\u001b[0;34m:\u001b[0m\u001b[0;34m\u001b[0m\u001b[0;34m\u001b[0m\u001b[0m\n\u001b[1;32m    317\u001b[0m                     \u001b[0mcallbacks\u001b[0m\u001b[0;34m.\u001b[0m\u001b[0mon_train_batch_begin\u001b[0m\u001b[0;34m(\u001b[0m\u001b[0mstep\u001b[0m\u001b[0;34m)\u001b[0m\u001b[0;34m\u001b[0m\u001b[0;34m\u001b[0m\u001b[0m\n\u001b[0;32m--> 318\u001b[0;31m                     \u001b[0mlogs\u001b[0m \u001b[0;34m=\u001b[0m \u001b[0mself\u001b[0m\u001b[0;34m.\u001b[0m\u001b[0mtrain_function\u001b[0m\u001b[0;34m(\u001b[0m\u001b[0miterator\u001b[0m\u001b[0;34m)\u001b[0m\u001b[0;34m\u001b[0m\u001b[0;34m\u001b[0m\u001b[0m\n\u001b[0m\u001b[1;32m    319\u001b[0m                     \u001b[0mlogs\u001b[0m \u001b[0;34m=\u001b[0m \u001b[0mself\u001b[0m\u001b[0;34m.\u001b[0m\u001b[0m_pythonify_logs\u001b[0m\u001b[0;34m(\u001b[0m\u001b[0mlogs\u001b[0m\u001b[0;34m)\u001b[0m\u001b[0;34m\u001b[0m\u001b[0;34m\u001b[0m\u001b[0m\n\u001b[1;32m    320\u001b[0m                     \u001b[0mcallbacks\u001b[0m\u001b[0;34m.\u001b[0m\u001b[0mon_train_batch_end\u001b[0m\u001b[0;34m(\u001b[0m\u001b[0mstep\u001b[0m\u001b[0;34m,\u001b[0m \u001b[0mlogs\u001b[0m\u001b[0;34m)\u001b[0m\u001b[0;34m\u001b[0m\u001b[0;34m\u001b[0m\u001b[0m\n",
            "\u001b[0;32m/usr/local/lib/python3.10/dist-packages/tensorflow/python/util/traceback_utils.py\u001b[0m in \u001b[0;36merror_handler\u001b[0;34m(*args, **kwargs)\u001b[0m\n\u001b[1;32m    148\u001b[0m     \u001b[0mfiltered_tb\u001b[0m \u001b[0;34m=\u001b[0m \u001b[0;32mNone\u001b[0m\u001b[0;34m\u001b[0m\u001b[0;34m\u001b[0m\u001b[0m\n\u001b[1;32m    149\u001b[0m     \u001b[0;32mtry\u001b[0m\u001b[0;34m:\u001b[0m\u001b[0;34m\u001b[0m\u001b[0;34m\u001b[0m\u001b[0m\n\u001b[0;32m--> 150\u001b[0;31m       \u001b[0;32mreturn\u001b[0m \u001b[0mfn\u001b[0m\u001b[0;34m(\u001b[0m\u001b[0;34m*\u001b[0m\u001b[0margs\u001b[0m\u001b[0;34m,\u001b[0m \u001b[0;34m**\u001b[0m\u001b[0mkwargs\u001b[0m\u001b[0;34m)\u001b[0m\u001b[0;34m\u001b[0m\u001b[0;34m\u001b[0m\u001b[0m\n\u001b[0m\u001b[1;32m    151\u001b[0m     \u001b[0;32mexcept\u001b[0m \u001b[0mException\u001b[0m \u001b[0;32mas\u001b[0m \u001b[0me\u001b[0m\u001b[0;34m:\u001b[0m\u001b[0;34m\u001b[0m\u001b[0;34m\u001b[0m\u001b[0m\n\u001b[1;32m    152\u001b[0m       \u001b[0mfiltered_tb\u001b[0m \u001b[0;34m=\u001b[0m \u001b[0m_process_traceback_frames\u001b[0m\u001b[0;34m(\u001b[0m\u001b[0me\u001b[0m\u001b[0;34m.\u001b[0m\u001b[0m__traceback__\u001b[0m\u001b[0;34m)\u001b[0m\u001b[0;34m\u001b[0m\u001b[0;34m\u001b[0m\u001b[0m\n",
            "\u001b[0;32m/usr/local/lib/python3.10/dist-packages/tensorflow/python/eager/polymorphic_function/polymorphic_function.py\u001b[0m in \u001b[0;36m__call__\u001b[0;34m(self, *args, **kwds)\u001b[0m\n\u001b[1;32m    831\u001b[0m \u001b[0;34m\u001b[0m\u001b[0m\n\u001b[1;32m    832\u001b[0m       \u001b[0;32mwith\u001b[0m \u001b[0mOptionalXlaContext\u001b[0m\u001b[0;34m(\u001b[0m\u001b[0mself\u001b[0m\u001b[0;34m.\u001b[0m\u001b[0m_jit_compile\u001b[0m\u001b[0;34m)\u001b[0m\u001b[0;34m:\u001b[0m\u001b[0;34m\u001b[0m\u001b[0;34m\u001b[0m\u001b[0m\n\u001b[0;32m--> 833\u001b[0;31m         \u001b[0mresult\u001b[0m \u001b[0;34m=\u001b[0m \u001b[0mself\u001b[0m\u001b[0;34m.\u001b[0m\u001b[0m_call\u001b[0m\u001b[0;34m(\u001b[0m\u001b[0;34m*\u001b[0m\u001b[0margs\u001b[0m\u001b[0;34m,\u001b[0m \u001b[0;34m**\u001b[0m\u001b[0mkwds\u001b[0m\u001b[0;34m)\u001b[0m\u001b[0;34m\u001b[0m\u001b[0;34m\u001b[0m\u001b[0m\n\u001b[0m\u001b[1;32m    834\u001b[0m \u001b[0;34m\u001b[0m\u001b[0m\n\u001b[1;32m    835\u001b[0m       \u001b[0mnew_tracing_count\u001b[0m \u001b[0;34m=\u001b[0m \u001b[0mself\u001b[0m\u001b[0;34m.\u001b[0m\u001b[0mexperimental_get_tracing_count\u001b[0m\u001b[0;34m(\u001b[0m\u001b[0;34m)\u001b[0m\u001b[0;34m\u001b[0m\u001b[0;34m\u001b[0m\u001b[0m\n",
            "\u001b[0;32m/usr/local/lib/python3.10/dist-packages/tensorflow/python/eager/polymorphic_function/polymorphic_function.py\u001b[0m in \u001b[0;36m_call\u001b[0;34m(self, *args, **kwds)\u001b[0m\n\u001b[1;32m    876\u001b[0m       \u001b[0;31m# In this case we have not created variables on the first call. So we can\u001b[0m\u001b[0;34m\u001b[0m\u001b[0;34m\u001b[0m\u001b[0m\n\u001b[1;32m    877\u001b[0m       \u001b[0;31m# run the first trace but we should fail if variables are created.\u001b[0m\u001b[0;34m\u001b[0m\u001b[0;34m\u001b[0m\u001b[0m\n\u001b[0;32m--> 878\u001b[0;31m       results = tracing_compilation.call_function(\n\u001b[0m\u001b[1;32m    879\u001b[0m           \u001b[0margs\u001b[0m\u001b[0;34m,\u001b[0m \u001b[0mkwds\u001b[0m\u001b[0;34m,\u001b[0m \u001b[0mself\u001b[0m\u001b[0;34m.\u001b[0m\u001b[0m_variable_creation_config\u001b[0m\u001b[0;34m\u001b[0m\u001b[0;34m\u001b[0m\u001b[0m\n\u001b[1;32m    880\u001b[0m       )\n",
            "\u001b[0;32m/usr/local/lib/python3.10/dist-packages/tensorflow/python/eager/polymorphic_function/tracing_compilation.py\u001b[0m in \u001b[0;36mcall_function\u001b[0;34m(args, kwargs, tracing_options)\u001b[0m\n\u001b[1;32m    137\u001b[0m   \u001b[0mbound_args\u001b[0m \u001b[0;34m=\u001b[0m \u001b[0mfunction\u001b[0m\u001b[0;34m.\u001b[0m\u001b[0mfunction_type\u001b[0m\u001b[0;34m.\u001b[0m\u001b[0mbind\u001b[0m\u001b[0;34m(\u001b[0m\u001b[0;34m*\u001b[0m\u001b[0margs\u001b[0m\u001b[0;34m,\u001b[0m \u001b[0;34m**\u001b[0m\u001b[0mkwargs\u001b[0m\u001b[0;34m)\u001b[0m\u001b[0;34m\u001b[0m\u001b[0;34m\u001b[0m\u001b[0m\n\u001b[1;32m    138\u001b[0m   \u001b[0mflat_inputs\u001b[0m \u001b[0;34m=\u001b[0m \u001b[0mfunction\u001b[0m\u001b[0;34m.\u001b[0m\u001b[0mfunction_type\u001b[0m\u001b[0;34m.\u001b[0m\u001b[0munpack_inputs\u001b[0m\u001b[0;34m(\u001b[0m\u001b[0mbound_args\u001b[0m\u001b[0;34m)\u001b[0m\u001b[0;34m\u001b[0m\u001b[0;34m\u001b[0m\u001b[0m\n\u001b[0;32m--> 139\u001b[0;31m   return function._call_flat(  # pylint: disable=protected-access\n\u001b[0m\u001b[1;32m    140\u001b[0m       \u001b[0mflat_inputs\u001b[0m\u001b[0;34m,\u001b[0m \u001b[0mcaptured_inputs\u001b[0m\u001b[0;34m=\u001b[0m\u001b[0mfunction\u001b[0m\u001b[0;34m.\u001b[0m\u001b[0mcaptured_inputs\u001b[0m\u001b[0;34m\u001b[0m\u001b[0;34m\u001b[0m\u001b[0m\n\u001b[1;32m    141\u001b[0m   )\n",
            "\u001b[0;32m/usr/local/lib/python3.10/dist-packages/tensorflow/python/eager/polymorphic_function/concrete_function.py\u001b[0m in \u001b[0;36m_call_flat\u001b[0;34m(self, tensor_inputs, captured_inputs)\u001b[0m\n\u001b[1;32m   1320\u001b[0m         and executing_eagerly):\n\u001b[1;32m   1321\u001b[0m       \u001b[0;31m# No tape is watching; skip to running the function.\u001b[0m\u001b[0;34m\u001b[0m\u001b[0;34m\u001b[0m\u001b[0m\n\u001b[0;32m-> 1322\u001b[0;31m       \u001b[0;32mreturn\u001b[0m \u001b[0mself\u001b[0m\u001b[0;34m.\u001b[0m\u001b[0m_inference_function\u001b[0m\u001b[0;34m.\u001b[0m\u001b[0mcall_preflattened\u001b[0m\u001b[0;34m(\u001b[0m\u001b[0margs\u001b[0m\u001b[0;34m)\u001b[0m\u001b[0;34m\u001b[0m\u001b[0;34m\u001b[0m\u001b[0m\n\u001b[0m\u001b[1;32m   1323\u001b[0m     forward_backward = self._select_forward_and_backward_functions(\n\u001b[1;32m   1324\u001b[0m         \u001b[0margs\u001b[0m\u001b[0;34m,\u001b[0m\u001b[0;34m\u001b[0m\u001b[0;34m\u001b[0m\u001b[0m\n",
            "\u001b[0;32m/usr/local/lib/python3.10/dist-packages/tensorflow/python/eager/polymorphic_function/atomic_function.py\u001b[0m in \u001b[0;36mcall_preflattened\u001b[0;34m(self, args)\u001b[0m\n\u001b[1;32m    214\u001b[0m   \u001b[0;32mdef\u001b[0m \u001b[0mcall_preflattened\u001b[0m\u001b[0;34m(\u001b[0m\u001b[0mself\u001b[0m\u001b[0;34m,\u001b[0m \u001b[0margs\u001b[0m\u001b[0;34m:\u001b[0m \u001b[0mSequence\u001b[0m\u001b[0;34m[\u001b[0m\u001b[0mcore\u001b[0m\u001b[0;34m.\u001b[0m\u001b[0mTensor\u001b[0m\u001b[0;34m]\u001b[0m\u001b[0;34m)\u001b[0m \u001b[0;34m->\u001b[0m \u001b[0mAny\u001b[0m\u001b[0;34m:\u001b[0m\u001b[0;34m\u001b[0m\u001b[0;34m\u001b[0m\u001b[0m\n\u001b[1;32m    215\u001b[0m     \u001b[0;34m\"\"\"Calls with flattened tensor inputs and returns the structured output.\"\"\"\u001b[0m\u001b[0;34m\u001b[0m\u001b[0;34m\u001b[0m\u001b[0m\n\u001b[0;32m--> 216\u001b[0;31m     \u001b[0mflat_outputs\u001b[0m \u001b[0;34m=\u001b[0m \u001b[0mself\u001b[0m\u001b[0;34m.\u001b[0m\u001b[0mcall_flat\u001b[0m\u001b[0;34m(\u001b[0m\u001b[0;34m*\u001b[0m\u001b[0margs\u001b[0m\u001b[0;34m)\u001b[0m\u001b[0;34m\u001b[0m\u001b[0;34m\u001b[0m\u001b[0m\n\u001b[0m\u001b[1;32m    217\u001b[0m     \u001b[0;32mreturn\u001b[0m \u001b[0mself\u001b[0m\u001b[0;34m.\u001b[0m\u001b[0mfunction_type\u001b[0m\u001b[0;34m.\u001b[0m\u001b[0mpack_output\u001b[0m\u001b[0;34m(\u001b[0m\u001b[0mflat_outputs\u001b[0m\u001b[0;34m)\u001b[0m\u001b[0;34m\u001b[0m\u001b[0;34m\u001b[0m\u001b[0m\n\u001b[1;32m    218\u001b[0m \u001b[0;34m\u001b[0m\u001b[0m\n",
            "\u001b[0;32m/usr/local/lib/python3.10/dist-packages/tensorflow/python/eager/polymorphic_function/atomic_function.py\u001b[0m in \u001b[0;36mcall_flat\u001b[0;34m(self, *args)\u001b[0m\n\u001b[1;32m    249\u001b[0m         \u001b[0;32mwith\u001b[0m \u001b[0mrecord\u001b[0m\u001b[0;34m.\u001b[0m\u001b[0mstop_recording\u001b[0m\u001b[0;34m(\u001b[0m\u001b[0;34m)\u001b[0m\u001b[0;34m:\u001b[0m\u001b[0;34m\u001b[0m\u001b[0;34m\u001b[0m\u001b[0m\n\u001b[1;32m    250\u001b[0m           \u001b[0;32mif\u001b[0m \u001b[0mself\u001b[0m\u001b[0;34m.\u001b[0m\u001b[0m_bound_context\u001b[0m\u001b[0;34m.\u001b[0m\u001b[0mexecuting_eagerly\u001b[0m\u001b[0;34m(\u001b[0m\u001b[0;34m)\u001b[0m\u001b[0;34m:\u001b[0m\u001b[0;34m\u001b[0m\u001b[0;34m\u001b[0m\u001b[0m\n\u001b[0;32m--> 251\u001b[0;31m             outputs = self._bound_context.call_function(\n\u001b[0m\u001b[1;32m    252\u001b[0m                 \u001b[0mself\u001b[0m\u001b[0;34m.\u001b[0m\u001b[0mname\u001b[0m\u001b[0;34m,\u001b[0m\u001b[0;34m\u001b[0m\u001b[0;34m\u001b[0m\u001b[0m\n\u001b[1;32m    253\u001b[0m                 \u001b[0mlist\u001b[0m\u001b[0;34m(\u001b[0m\u001b[0margs\u001b[0m\u001b[0;34m)\u001b[0m\u001b[0;34m,\u001b[0m\u001b[0;34m\u001b[0m\u001b[0;34m\u001b[0m\u001b[0m\n",
            "\u001b[0;32m/usr/local/lib/python3.10/dist-packages/tensorflow/python/eager/context.py\u001b[0m in \u001b[0;36mcall_function\u001b[0;34m(self, name, tensor_inputs, num_outputs)\u001b[0m\n\u001b[1;32m   1550\u001b[0m     \u001b[0mcancellation_context\u001b[0m \u001b[0;34m=\u001b[0m \u001b[0mcancellation\u001b[0m\u001b[0;34m.\u001b[0m\u001b[0mcontext\u001b[0m\u001b[0;34m(\u001b[0m\u001b[0;34m)\u001b[0m\u001b[0;34m\u001b[0m\u001b[0;34m\u001b[0m\u001b[0m\n\u001b[1;32m   1551\u001b[0m     \u001b[0;32mif\u001b[0m \u001b[0mcancellation_context\u001b[0m \u001b[0;32mis\u001b[0m \u001b[0;32mNone\u001b[0m\u001b[0;34m:\u001b[0m\u001b[0;34m\u001b[0m\u001b[0;34m\u001b[0m\u001b[0m\n\u001b[0;32m-> 1552\u001b[0;31m       outputs = execute.execute(\n\u001b[0m\u001b[1;32m   1553\u001b[0m           \u001b[0mname\u001b[0m\u001b[0;34m.\u001b[0m\u001b[0mdecode\u001b[0m\u001b[0;34m(\u001b[0m\u001b[0;34m\"utf-8\"\u001b[0m\u001b[0;34m)\u001b[0m\u001b[0;34m,\u001b[0m\u001b[0;34m\u001b[0m\u001b[0;34m\u001b[0m\u001b[0m\n\u001b[1;32m   1554\u001b[0m           \u001b[0mnum_outputs\u001b[0m\u001b[0;34m=\u001b[0m\u001b[0mnum_outputs\u001b[0m\u001b[0;34m,\u001b[0m\u001b[0;34m\u001b[0m\u001b[0;34m\u001b[0m\u001b[0m\n",
            "\u001b[0;32m/usr/local/lib/python3.10/dist-packages/tensorflow/python/eager/execute.py\u001b[0m in \u001b[0;36mquick_execute\u001b[0;34m(op_name, num_outputs, inputs, attrs, ctx, name)\u001b[0m\n\u001b[1;32m     51\u001b[0m   \u001b[0;32mtry\u001b[0m\u001b[0;34m:\u001b[0m\u001b[0;34m\u001b[0m\u001b[0;34m\u001b[0m\u001b[0m\n\u001b[1;32m     52\u001b[0m     \u001b[0mctx\u001b[0m\u001b[0;34m.\u001b[0m\u001b[0mensure_initialized\u001b[0m\u001b[0;34m(\u001b[0m\u001b[0;34m)\u001b[0m\u001b[0;34m\u001b[0m\u001b[0;34m\u001b[0m\u001b[0m\n\u001b[0;32m---> 53\u001b[0;31m     tensors = pywrap_tfe.TFE_Py_Execute(ctx._handle, device_name, op_name,\n\u001b[0m\u001b[1;32m     54\u001b[0m                                         inputs, attrs, num_outputs)\n\u001b[1;32m     55\u001b[0m   \u001b[0;32mexcept\u001b[0m \u001b[0mcore\u001b[0m\u001b[0;34m.\u001b[0m\u001b[0m_NotOkStatusException\u001b[0m \u001b[0;32mas\u001b[0m \u001b[0me\u001b[0m\u001b[0;34m:\u001b[0m\u001b[0;34m\u001b[0m\u001b[0;34m\u001b[0m\u001b[0m\n",
            "\u001b[0;31mKeyboardInterrupt\u001b[0m: "
          ]
        }
      ]
    },
    {
      "cell_type": "markdown",
      "source": [
        "# 3rd Try - highest till now.\n",
        "implemented:\n",
        "1.  l2 regularization\n",
        "2.  droupout layer\n",
        "3. early stopping\n",
        "\n",
        "Results: Better results than before\n",
        "\n",
        "Saving this model for furthur use.\n",
        "\n",
        "\n"
      ],
      "metadata": {
        "id": "kiQHQ8866bFy"
      }
    },
    {
      "cell_type": "code",
      "source": [
        "from keras.layers import Input, Embedding, Flatten, concatenate, Dense, Dropout\n",
        "from keras.models import Model\n",
        "from keras.callbacks import EarlyStopping\n",
        "from keras.regularizers import l2\n",
        "\n",
        "\n",
        "def build_model(num_users, num_items, embedding_dim):\n",
        "    user_input = Input(shape=(1,))\n",
        "    item_input = Input(shape=(1,))\n",
        "\n",
        "    # GMF Part\n",
        "    user_embedding_gmf = Embedding(num_users, embedding_dim)(user_input)\n",
        "    item_embedding_gmf = Embedding(num_items, embedding_dim)(item_input)\n",
        "    gmf_vector = Flatten()(user_embedding_gmf) * Flatten()(item_embedding_gmf)\n",
        "\n",
        "    # MLP Part\n",
        "    user_embedding_mlp = Embedding(num_users, embedding_dim)(user_input)\n",
        "    item_embedding_mlp = Embedding(num_items, embedding_dim)(item_input)\n",
        "    mlp_vector = concatenate([Flatten()(user_embedding_mlp), Flatten()(item_embedding_mlp)])\n",
        "\n",
        "\n",
        "    mlp_vector = Dense(64, activation='relu',kernel_regularizer=l2(0.001))(mlp_vector)\n",
        "    mlp_vector = Dropout(0.3)(mlp_vector)  # Dropout layer added here\n",
        "    mlp_vector = Dense(32, activation='relu',kernel_regularizer=l2(0.001))(mlp_vector)\n",
        "    mlp_vector = Dropout(0.3)(mlp_vector)  # Dropout layer added here\n",
        "\n",
        "    # Concatenate GMF and MLP parts\n",
        "    ncf_vector = concatenate([gmf_vector, mlp_vector])\n",
        "\n",
        "    # Final output layer\n",
        "    output = Dense(1, activation=\"sigmoid\")(ncf_vector)\n",
        "\n",
        "    # Build and compile the model\n",
        "    ncf_model = Model(inputs=[user_input, item_input], outputs=output)\n",
        "    ncf_model.compile(optimizer=\"adam\", loss=\"binary_crossentropy\", metrics=[\"accuracy\"])\n",
        "    ncf_model.summary()\n",
        "\n",
        "    return ncf_model\n",
        "\n",
        "# Example usage\n",
        "num_users = balanced_df.userId.max() + 1\n",
        "num_items = balanced_df.movieId.max() + 1\n",
        "embedding_dim = 50\n",
        "model = build_model(num_users, num_items, embedding_dim)\n",
        "early_stopping = EarlyStopping(monitor='val_loss', patience=3, restore_best_weights=True)\n",
        "model.fit([X_train.iloc[:, 0], X_train.iloc[:, 1]], y_train, epochs=10, batch_size=64,\n",
        "          validation_data=([X_test.iloc[:, 0],X_test.iloc[:, 1]], y_test),callbacks=[early_stopping])\n",
        "loss, accuracy = model.evaluate([X_test.iloc[:, 0], X_test.iloc[:, 1]], y_test)\n",
        "print(f'Test Accuracy: {accuracy:.4f}')\n"
      ],
      "metadata": {
        "colab": {
          "base_uri": "https://localhost:8080/",
          "height": 999
        },
        "id": "oaj83CL86aQT",
        "outputId": "5634caeb-ec19-4331-dd40-b8e85fbfbb86"
      },
      "execution_count": 24,
      "outputs": [
        {
          "output_type": "display_data",
          "data": {
            "text/plain": [
              "\u001b[1mModel: \"functional_5\"\u001b[0m\n"
            ],
            "text/html": [
              "<pre style=\"white-space:pre;overflow-x:auto;line-height:normal;font-family:Menlo,'DejaVu Sans Mono',consolas,'Courier New',monospace\"><span style=\"font-weight: bold\">Model: \"functional_5\"</span>\n",
              "</pre>\n"
            ]
          },
          "metadata": {}
        },
        {
          "output_type": "display_data",
          "data": {
            "text/plain": [
              "┏━━━━━━━━━━━━━━━━━━━━━━━━━━━┳━━━━━━━━━━━━━━━━━━━━━━━━┳━━━━━━━━━━━━━━━━┳━━━━━━━━━━━━━━━━━━━━━━━━┓\n",
              "┃\u001b[1m \u001b[0m\u001b[1mLayer (type)             \u001b[0m\u001b[1m \u001b[0m┃\u001b[1m \u001b[0m\u001b[1mOutput Shape          \u001b[0m\u001b[1m \u001b[0m┃\u001b[1m \u001b[0m\u001b[1m       Param #\u001b[0m\u001b[1m \u001b[0m┃\u001b[1m \u001b[0m\u001b[1mConnected to          \u001b[0m\u001b[1m \u001b[0m┃\n",
              "┡━━━━━━━━━━━━━━━━━━━━━━━━━━━╇━━━━━━━━━━━━━━━━━━━━━━━━╇━━━━━━━━━━━━━━━━╇━━━━━━━━━━━━━━━━━━━━━━━━┩\n",
              "│ input_layer_16            │ (\u001b[38;5;45mNone\u001b[0m, \u001b[38;5;34m1\u001b[0m)              │              \u001b[38;5;34m0\u001b[0m │ -                      │\n",
              "│ (\u001b[38;5;33mInputLayer\u001b[0m)              │                        │                │                        │\n",
              "├───────────────────────────┼────────────────────────┼────────────────┼────────────────────────┤\n",
              "│ input_layer_17            │ (\u001b[38;5;45mNone\u001b[0m, \u001b[38;5;34m1\u001b[0m)              │              \u001b[38;5;34m0\u001b[0m │ -                      │\n",
              "│ (\u001b[38;5;33mInputLayer\u001b[0m)              │                        │                │                        │\n",
              "├───────────────────────────┼────────────────────────┼────────────────┼────────────────────────┤\n",
              "│ embedding_34 (\u001b[38;5;33mEmbedding\u001b[0m)  │ (\u001b[38;5;45mNone\u001b[0m, \u001b[38;5;34m1\u001b[0m, \u001b[38;5;34m50\u001b[0m)          │        \u001b[38;5;34m485,800\u001b[0m │ input_layer_16[\u001b[38;5;34m0\u001b[0m][\u001b[38;5;34m0\u001b[0m]   │\n",
              "├───────────────────────────┼────────────────────────┼────────────────┼────────────────────────┤\n",
              "│ embedding_35 (\u001b[38;5;33mEmbedding\u001b[0m)  │ (\u001b[38;5;45mNone\u001b[0m, \u001b[38;5;34m1\u001b[0m, \u001b[38;5;34m50\u001b[0m)          │      \u001b[38;5;34m8,773,800\u001b[0m │ input_layer_17[\u001b[38;5;34m0\u001b[0m][\u001b[38;5;34m0\u001b[0m]   │\n",
              "├───────────────────────────┼────────────────────────┼────────────────┼────────────────────────┤\n",
              "│ flatten_34 (\u001b[38;5;33mFlatten\u001b[0m)      │ (\u001b[38;5;45mNone\u001b[0m, \u001b[38;5;34m50\u001b[0m)             │              \u001b[38;5;34m0\u001b[0m │ embedding_34[\u001b[38;5;34m0\u001b[0m][\u001b[38;5;34m0\u001b[0m]     │\n",
              "├───────────────────────────┼────────────────────────┼────────────────┼────────────────────────┤\n",
              "│ flatten_35 (\u001b[38;5;33mFlatten\u001b[0m)      │ (\u001b[38;5;45mNone\u001b[0m, \u001b[38;5;34m50\u001b[0m)             │              \u001b[38;5;34m0\u001b[0m │ embedding_35[\u001b[38;5;34m0\u001b[0m][\u001b[38;5;34m0\u001b[0m]     │\n",
              "├───────────────────────────┼────────────────────────┼────────────────┼────────────────────────┤\n",
              "│ concatenate_15            │ (\u001b[38;5;45mNone\u001b[0m, \u001b[38;5;34m100\u001b[0m)            │              \u001b[38;5;34m0\u001b[0m │ flatten_34[\u001b[38;5;34m0\u001b[0m][\u001b[38;5;34m0\u001b[0m],      │\n",
              "│ (\u001b[38;5;33mConcatenate\u001b[0m)             │                        │                │ flatten_35[\u001b[38;5;34m0\u001b[0m][\u001b[38;5;34m0\u001b[0m]       │\n",
              "├───────────────────────────┼────────────────────────┼────────────────┼────────────────────────┤\n",
              "│ dense_21 (\u001b[38;5;33mDense\u001b[0m)          │ (\u001b[38;5;45mNone\u001b[0m, \u001b[38;5;34m64\u001b[0m)             │          \u001b[38;5;34m6,464\u001b[0m │ concatenate_15[\u001b[38;5;34m0\u001b[0m][\u001b[38;5;34m0\u001b[0m]   │\n",
              "├───────────────────────────┼────────────────────────┼────────────────┼────────────────────────┤\n",
              "│ embedding_32 (\u001b[38;5;33mEmbedding\u001b[0m)  │ (\u001b[38;5;45mNone\u001b[0m, \u001b[38;5;34m1\u001b[0m, \u001b[38;5;34m50\u001b[0m)          │        \u001b[38;5;34m485,800\u001b[0m │ input_layer_16[\u001b[38;5;34m0\u001b[0m][\u001b[38;5;34m0\u001b[0m]   │\n",
              "├───────────────────────────┼────────────────────────┼────────────────┼────────────────────────┤\n",
              "│ embedding_33 (\u001b[38;5;33mEmbedding\u001b[0m)  │ (\u001b[38;5;45mNone\u001b[0m, \u001b[38;5;34m1\u001b[0m, \u001b[38;5;34m50\u001b[0m)          │      \u001b[38;5;34m8,773,800\u001b[0m │ input_layer_17[\u001b[38;5;34m0\u001b[0m][\u001b[38;5;34m0\u001b[0m]   │\n",
              "├───────────────────────────┼────────────────────────┼────────────────┼────────────────────────┤\n",
              "│ dropout_2 (\u001b[38;5;33mDropout\u001b[0m)       │ (\u001b[38;5;45mNone\u001b[0m, \u001b[38;5;34m64\u001b[0m)             │              \u001b[38;5;34m0\u001b[0m │ dense_21[\u001b[38;5;34m0\u001b[0m][\u001b[38;5;34m0\u001b[0m]         │\n",
              "├───────────────────────────┼────────────────────────┼────────────────┼────────────────────────┤\n",
              "│ flatten_32 (\u001b[38;5;33mFlatten\u001b[0m)      │ (\u001b[38;5;45mNone\u001b[0m, \u001b[38;5;34m50\u001b[0m)             │              \u001b[38;5;34m0\u001b[0m │ embedding_32[\u001b[38;5;34m0\u001b[0m][\u001b[38;5;34m0\u001b[0m]     │\n",
              "├───────────────────────────┼────────────────────────┼────────────────┼────────────────────────┤\n",
              "│ flatten_33 (\u001b[38;5;33mFlatten\u001b[0m)      │ (\u001b[38;5;45mNone\u001b[0m, \u001b[38;5;34m50\u001b[0m)             │              \u001b[38;5;34m0\u001b[0m │ embedding_33[\u001b[38;5;34m0\u001b[0m][\u001b[38;5;34m0\u001b[0m]     │\n",
              "├───────────────────────────┼────────────────────────┼────────────────┼────────────────────────┤\n",
              "│ dense_22 (\u001b[38;5;33mDense\u001b[0m)          │ (\u001b[38;5;45mNone\u001b[0m, \u001b[38;5;34m32\u001b[0m)             │          \u001b[38;5;34m2,080\u001b[0m │ dropout_2[\u001b[38;5;34m0\u001b[0m][\u001b[38;5;34m0\u001b[0m]        │\n",
              "├───────────────────────────┼────────────────────────┼────────────────┼────────────────────────┤\n",
              "│ multiply_8 (\u001b[38;5;33mMultiply\u001b[0m)     │ (\u001b[38;5;45mNone\u001b[0m, \u001b[38;5;34m50\u001b[0m)             │              \u001b[38;5;34m0\u001b[0m │ flatten_32[\u001b[38;5;34m0\u001b[0m][\u001b[38;5;34m0\u001b[0m],      │\n",
              "│                           │                        │                │ flatten_33[\u001b[38;5;34m0\u001b[0m][\u001b[38;5;34m0\u001b[0m]       │\n",
              "├───────────────────────────┼────────────────────────┼────────────────┼────────────────────────┤\n",
              "│ dropout_3 (\u001b[38;5;33mDropout\u001b[0m)       │ (\u001b[38;5;45mNone\u001b[0m, \u001b[38;5;34m32\u001b[0m)             │              \u001b[38;5;34m0\u001b[0m │ dense_22[\u001b[38;5;34m0\u001b[0m][\u001b[38;5;34m0\u001b[0m]         │\n",
              "├───────────────────────────┼────────────────────────┼────────────────┼────────────────────────┤\n",
              "│ concatenate_16            │ (\u001b[38;5;45mNone\u001b[0m, \u001b[38;5;34m82\u001b[0m)             │              \u001b[38;5;34m0\u001b[0m │ multiply_8[\u001b[38;5;34m0\u001b[0m][\u001b[38;5;34m0\u001b[0m],      │\n",
              "│ (\u001b[38;5;33mConcatenate\u001b[0m)             │                        │                │ dropout_3[\u001b[38;5;34m0\u001b[0m][\u001b[38;5;34m0\u001b[0m]        │\n",
              "├───────────────────────────┼────────────────────────┼────────────────┼────────────────────────┤\n",
              "│ dense_23 (\u001b[38;5;33mDense\u001b[0m)          │ (\u001b[38;5;45mNone\u001b[0m, \u001b[38;5;34m1\u001b[0m)              │             \u001b[38;5;34m83\u001b[0m │ concatenate_16[\u001b[38;5;34m0\u001b[0m][\u001b[38;5;34m0\u001b[0m]   │\n",
              "└───────────────────────────┴────────────────────────┴────────────────┴────────────────────────┘\n"
            ],
            "text/html": [
              "<pre style=\"white-space:pre;overflow-x:auto;line-height:normal;font-family:Menlo,'DejaVu Sans Mono',consolas,'Courier New',monospace\">┏━━━━━━━━━━━━━━━━━━━━━━━━━━━┳━━━━━━━━━━━━━━━━━━━━━━━━┳━━━━━━━━━━━━━━━━┳━━━━━━━━━━━━━━━━━━━━━━━━┓\n",
              "┃<span style=\"font-weight: bold\"> Layer (type)              </span>┃<span style=\"font-weight: bold\"> Output Shape           </span>┃<span style=\"font-weight: bold\">        Param # </span>┃<span style=\"font-weight: bold\"> Connected to           </span>┃\n",
              "┡━━━━━━━━━━━━━━━━━━━━━━━━━━━╇━━━━━━━━━━━━━━━━━━━━━━━━╇━━━━━━━━━━━━━━━━╇━━━━━━━━━━━━━━━━━━━━━━━━┩\n",
              "│ input_layer_16            │ (<span style=\"color: #00d7ff; text-decoration-color: #00d7ff\">None</span>, <span style=\"color: #00af00; text-decoration-color: #00af00\">1</span>)              │              <span style=\"color: #00af00; text-decoration-color: #00af00\">0</span> │ -                      │\n",
              "│ (<span style=\"color: #0087ff; text-decoration-color: #0087ff\">InputLayer</span>)              │                        │                │                        │\n",
              "├───────────────────────────┼────────────────────────┼────────────────┼────────────────────────┤\n",
              "│ input_layer_17            │ (<span style=\"color: #00d7ff; text-decoration-color: #00d7ff\">None</span>, <span style=\"color: #00af00; text-decoration-color: #00af00\">1</span>)              │              <span style=\"color: #00af00; text-decoration-color: #00af00\">0</span> │ -                      │\n",
              "│ (<span style=\"color: #0087ff; text-decoration-color: #0087ff\">InputLayer</span>)              │                        │                │                        │\n",
              "├───────────────────────────┼────────────────────────┼────────────────┼────────────────────────┤\n",
              "│ embedding_34 (<span style=\"color: #0087ff; text-decoration-color: #0087ff\">Embedding</span>)  │ (<span style=\"color: #00d7ff; text-decoration-color: #00d7ff\">None</span>, <span style=\"color: #00af00; text-decoration-color: #00af00\">1</span>, <span style=\"color: #00af00; text-decoration-color: #00af00\">50</span>)          │        <span style=\"color: #00af00; text-decoration-color: #00af00\">485,800</span> │ input_layer_16[<span style=\"color: #00af00; text-decoration-color: #00af00\">0</span>][<span style=\"color: #00af00; text-decoration-color: #00af00\">0</span>]   │\n",
              "├───────────────────────────┼────────────────────────┼────────────────┼────────────────────────┤\n",
              "│ embedding_35 (<span style=\"color: #0087ff; text-decoration-color: #0087ff\">Embedding</span>)  │ (<span style=\"color: #00d7ff; text-decoration-color: #00d7ff\">None</span>, <span style=\"color: #00af00; text-decoration-color: #00af00\">1</span>, <span style=\"color: #00af00; text-decoration-color: #00af00\">50</span>)          │      <span style=\"color: #00af00; text-decoration-color: #00af00\">8,773,800</span> │ input_layer_17[<span style=\"color: #00af00; text-decoration-color: #00af00\">0</span>][<span style=\"color: #00af00; text-decoration-color: #00af00\">0</span>]   │\n",
              "├───────────────────────────┼────────────────────────┼────────────────┼────────────────────────┤\n",
              "│ flatten_34 (<span style=\"color: #0087ff; text-decoration-color: #0087ff\">Flatten</span>)      │ (<span style=\"color: #00d7ff; text-decoration-color: #00d7ff\">None</span>, <span style=\"color: #00af00; text-decoration-color: #00af00\">50</span>)             │              <span style=\"color: #00af00; text-decoration-color: #00af00\">0</span> │ embedding_34[<span style=\"color: #00af00; text-decoration-color: #00af00\">0</span>][<span style=\"color: #00af00; text-decoration-color: #00af00\">0</span>]     │\n",
              "├───────────────────────────┼────────────────────────┼────────────────┼────────────────────────┤\n",
              "│ flatten_35 (<span style=\"color: #0087ff; text-decoration-color: #0087ff\">Flatten</span>)      │ (<span style=\"color: #00d7ff; text-decoration-color: #00d7ff\">None</span>, <span style=\"color: #00af00; text-decoration-color: #00af00\">50</span>)             │              <span style=\"color: #00af00; text-decoration-color: #00af00\">0</span> │ embedding_35[<span style=\"color: #00af00; text-decoration-color: #00af00\">0</span>][<span style=\"color: #00af00; text-decoration-color: #00af00\">0</span>]     │\n",
              "├───────────────────────────┼────────────────────────┼────────────────┼────────────────────────┤\n",
              "│ concatenate_15            │ (<span style=\"color: #00d7ff; text-decoration-color: #00d7ff\">None</span>, <span style=\"color: #00af00; text-decoration-color: #00af00\">100</span>)            │              <span style=\"color: #00af00; text-decoration-color: #00af00\">0</span> │ flatten_34[<span style=\"color: #00af00; text-decoration-color: #00af00\">0</span>][<span style=\"color: #00af00; text-decoration-color: #00af00\">0</span>],      │\n",
              "│ (<span style=\"color: #0087ff; text-decoration-color: #0087ff\">Concatenate</span>)             │                        │                │ flatten_35[<span style=\"color: #00af00; text-decoration-color: #00af00\">0</span>][<span style=\"color: #00af00; text-decoration-color: #00af00\">0</span>]       │\n",
              "├───────────────────────────┼────────────────────────┼────────────────┼────────────────────────┤\n",
              "│ dense_21 (<span style=\"color: #0087ff; text-decoration-color: #0087ff\">Dense</span>)          │ (<span style=\"color: #00d7ff; text-decoration-color: #00d7ff\">None</span>, <span style=\"color: #00af00; text-decoration-color: #00af00\">64</span>)             │          <span style=\"color: #00af00; text-decoration-color: #00af00\">6,464</span> │ concatenate_15[<span style=\"color: #00af00; text-decoration-color: #00af00\">0</span>][<span style=\"color: #00af00; text-decoration-color: #00af00\">0</span>]   │\n",
              "├───────────────────────────┼────────────────────────┼────────────────┼────────────────────────┤\n",
              "│ embedding_32 (<span style=\"color: #0087ff; text-decoration-color: #0087ff\">Embedding</span>)  │ (<span style=\"color: #00d7ff; text-decoration-color: #00d7ff\">None</span>, <span style=\"color: #00af00; text-decoration-color: #00af00\">1</span>, <span style=\"color: #00af00; text-decoration-color: #00af00\">50</span>)          │        <span style=\"color: #00af00; text-decoration-color: #00af00\">485,800</span> │ input_layer_16[<span style=\"color: #00af00; text-decoration-color: #00af00\">0</span>][<span style=\"color: #00af00; text-decoration-color: #00af00\">0</span>]   │\n",
              "├───────────────────────────┼────────────────────────┼────────────────┼────────────────────────┤\n",
              "│ embedding_33 (<span style=\"color: #0087ff; text-decoration-color: #0087ff\">Embedding</span>)  │ (<span style=\"color: #00d7ff; text-decoration-color: #00d7ff\">None</span>, <span style=\"color: #00af00; text-decoration-color: #00af00\">1</span>, <span style=\"color: #00af00; text-decoration-color: #00af00\">50</span>)          │      <span style=\"color: #00af00; text-decoration-color: #00af00\">8,773,800</span> │ input_layer_17[<span style=\"color: #00af00; text-decoration-color: #00af00\">0</span>][<span style=\"color: #00af00; text-decoration-color: #00af00\">0</span>]   │\n",
              "├───────────────────────────┼────────────────────────┼────────────────┼────────────────────────┤\n",
              "│ dropout_2 (<span style=\"color: #0087ff; text-decoration-color: #0087ff\">Dropout</span>)       │ (<span style=\"color: #00d7ff; text-decoration-color: #00d7ff\">None</span>, <span style=\"color: #00af00; text-decoration-color: #00af00\">64</span>)             │              <span style=\"color: #00af00; text-decoration-color: #00af00\">0</span> │ dense_21[<span style=\"color: #00af00; text-decoration-color: #00af00\">0</span>][<span style=\"color: #00af00; text-decoration-color: #00af00\">0</span>]         │\n",
              "├───────────────────────────┼────────────────────────┼────────────────┼────────────────────────┤\n",
              "│ flatten_32 (<span style=\"color: #0087ff; text-decoration-color: #0087ff\">Flatten</span>)      │ (<span style=\"color: #00d7ff; text-decoration-color: #00d7ff\">None</span>, <span style=\"color: #00af00; text-decoration-color: #00af00\">50</span>)             │              <span style=\"color: #00af00; text-decoration-color: #00af00\">0</span> │ embedding_32[<span style=\"color: #00af00; text-decoration-color: #00af00\">0</span>][<span style=\"color: #00af00; text-decoration-color: #00af00\">0</span>]     │\n",
              "├───────────────────────────┼────────────────────────┼────────────────┼────────────────────────┤\n",
              "│ flatten_33 (<span style=\"color: #0087ff; text-decoration-color: #0087ff\">Flatten</span>)      │ (<span style=\"color: #00d7ff; text-decoration-color: #00d7ff\">None</span>, <span style=\"color: #00af00; text-decoration-color: #00af00\">50</span>)             │              <span style=\"color: #00af00; text-decoration-color: #00af00\">0</span> │ embedding_33[<span style=\"color: #00af00; text-decoration-color: #00af00\">0</span>][<span style=\"color: #00af00; text-decoration-color: #00af00\">0</span>]     │\n",
              "├───────────────────────────┼────────────────────────┼────────────────┼────────────────────────┤\n",
              "│ dense_22 (<span style=\"color: #0087ff; text-decoration-color: #0087ff\">Dense</span>)          │ (<span style=\"color: #00d7ff; text-decoration-color: #00d7ff\">None</span>, <span style=\"color: #00af00; text-decoration-color: #00af00\">32</span>)             │          <span style=\"color: #00af00; text-decoration-color: #00af00\">2,080</span> │ dropout_2[<span style=\"color: #00af00; text-decoration-color: #00af00\">0</span>][<span style=\"color: #00af00; text-decoration-color: #00af00\">0</span>]        │\n",
              "├───────────────────────────┼────────────────────────┼────────────────┼────────────────────────┤\n",
              "│ multiply_8 (<span style=\"color: #0087ff; text-decoration-color: #0087ff\">Multiply</span>)     │ (<span style=\"color: #00d7ff; text-decoration-color: #00d7ff\">None</span>, <span style=\"color: #00af00; text-decoration-color: #00af00\">50</span>)             │              <span style=\"color: #00af00; text-decoration-color: #00af00\">0</span> │ flatten_32[<span style=\"color: #00af00; text-decoration-color: #00af00\">0</span>][<span style=\"color: #00af00; text-decoration-color: #00af00\">0</span>],      │\n",
              "│                           │                        │                │ flatten_33[<span style=\"color: #00af00; text-decoration-color: #00af00\">0</span>][<span style=\"color: #00af00; text-decoration-color: #00af00\">0</span>]       │\n",
              "├───────────────────────────┼────────────────────────┼────────────────┼────────────────────────┤\n",
              "│ dropout_3 (<span style=\"color: #0087ff; text-decoration-color: #0087ff\">Dropout</span>)       │ (<span style=\"color: #00d7ff; text-decoration-color: #00d7ff\">None</span>, <span style=\"color: #00af00; text-decoration-color: #00af00\">32</span>)             │              <span style=\"color: #00af00; text-decoration-color: #00af00\">0</span> │ dense_22[<span style=\"color: #00af00; text-decoration-color: #00af00\">0</span>][<span style=\"color: #00af00; text-decoration-color: #00af00\">0</span>]         │\n",
              "├───────────────────────────┼────────────────────────┼────────────────┼────────────────────────┤\n",
              "│ concatenate_16            │ (<span style=\"color: #00d7ff; text-decoration-color: #00d7ff\">None</span>, <span style=\"color: #00af00; text-decoration-color: #00af00\">82</span>)             │              <span style=\"color: #00af00; text-decoration-color: #00af00\">0</span> │ multiply_8[<span style=\"color: #00af00; text-decoration-color: #00af00\">0</span>][<span style=\"color: #00af00; text-decoration-color: #00af00\">0</span>],      │\n",
              "│ (<span style=\"color: #0087ff; text-decoration-color: #0087ff\">Concatenate</span>)             │                        │                │ dropout_3[<span style=\"color: #00af00; text-decoration-color: #00af00\">0</span>][<span style=\"color: #00af00; text-decoration-color: #00af00\">0</span>]        │\n",
              "├───────────────────────────┼────────────────────────┼────────────────┼────────────────────────┤\n",
              "│ dense_23 (<span style=\"color: #0087ff; text-decoration-color: #0087ff\">Dense</span>)          │ (<span style=\"color: #00d7ff; text-decoration-color: #00d7ff\">None</span>, <span style=\"color: #00af00; text-decoration-color: #00af00\">1</span>)              │             <span style=\"color: #00af00; text-decoration-color: #00af00\">83</span> │ concatenate_16[<span style=\"color: #00af00; text-decoration-color: #00af00\">0</span>][<span style=\"color: #00af00; text-decoration-color: #00af00\">0</span>]   │\n",
              "└───────────────────────────┴────────────────────────┴────────────────┴────────────────────────┘\n",
              "</pre>\n"
            ]
          },
          "metadata": {}
        },
        {
          "output_type": "display_data",
          "data": {
            "text/plain": [
              "\u001b[1m Total params: \u001b[0m\u001b[38;5;34m18,527,827\u001b[0m (70.68 MB)\n"
            ],
            "text/html": [
              "<pre style=\"white-space:pre;overflow-x:auto;line-height:normal;font-family:Menlo,'DejaVu Sans Mono',consolas,'Courier New',monospace\"><span style=\"font-weight: bold\"> Total params: </span><span style=\"color: #00af00; text-decoration-color: #00af00\">18,527,827</span> (70.68 MB)\n",
              "</pre>\n"
            ]
          },
          "metadata": {}
        },
        {
          "output_type": "display_data",
          "data": {
            "text/plain": [
              "\u001b[1m Trainable params: \u001b[0m\u001b[38;5;34m18,527,827\u001b[0m (70.68 MB)\n"
            ],
            "text/html": [
              "<pre style=\"white-space:pre;overflow-x:auto;line-height:normal;font-family:Menlo,'DejaVu Sans Mono',consolas,'Courier New',monospace\"><span style=\"font-weight: bold\"> Trainable params: </span><span style=\"color: #00af00; text-decoration-color: #00af00\">18,527,827</span> (70.68 MB)\n",
              "</pre>\n"
            ]
          },
          "metadata": {}
        },
        {
          "output_type": "display_data",
          "data": {
            "text/plain": [
              "\u001b[1m Non-trainable params: \u001b[0m\u001b[38;5;34m0\u001b[0m (0.00 B)\n"
            ],
            "text/html": [
              "<pre style=\"white-space:pre;overflow-x:auto;line-height:normal;font-family:Menlo,'DejaVu Sans Mono',consolas,'Courier New',monospace\"><span style=\"font-weight: bold\"> Non-trainable params: </span><span style=\"color: #00af00; text-decoration-color: #00af00\">0</span> (0.00 B)\n",
              "</pre>\n"
            ]
          },
          "metadata": {}
        },
        {
          "output_type": "stream",
          "name": "stdout",
          "text": [
            "Epoch 1/10\n",
            "\u001b[1m313/313\u001b[0m \u001b[32m━━━━━━━━━━━━━━━━━━━━\u001b[0m\u001b[37m\u001b[0m \u001b[1m89s\u001b[0m 275ms/step - accuracy: 0.8353 - loss: 0.5410 - val_accuracy: 0.9248 - val_loss: 0.2548\n",
            "Epoch 2/10\n",
            "\u001b[1m313/313\u001b[0m \u001b[32m━━━━━━━━━━━━━━━━━━━━\u001b[0m\u001b[37m\u001b[0m \u001b[1m152s\u001b[0m 307ms/step - accuracy: 0.9239 - loss: 0.2249 - val_accuracy: 0.9206 - val_loss: 0.2503\n",
            "Epoch 3/10\n",
            "\u001b[1m313/313\u001b[0m \u001b[32m━━━━━━━━━━━━━━━━━━━━\u001b[0m\u001b[37m\u001b[0m \u001b[1m139s\u001b[0m 299ms/step - accuracy: 0.9385 - loss: 0.1757 - val_accuracy: 0.9062 - val_loss: 0.2961\n",
            "Epoch 4/10\n",
            "\u001b[1m313/313\u001b[0m \u001b[32m━━━━━━━━━━━━━━━━━━━━\u001b[0m\u001b[37m\u001b[0m \u001b[1m150s\u001b[0m 326ms/step - accuracy: 0.9668 - loss: 0.1096 - val_accuracy: 0.8920 - val_loss: 0.3479\n",
            "Epoch 5/10\n",
            "\u001b[1m313/313\u001b[0m \u001b[32m━━━━━━━━━━━━━━━━━━━━\u001b[0m\u001b[37m\u001b[0m \u001b[1m143s\u001b[0m 328ms/step - accuracy: 0.9930 - loss: 0.0596 - val_accuracy: 0.8872 - val_loss: 0.3823\n",
            "\u001b[1m157/157\u001b[0m \u001b[32m━━━━━━━━━━━━━━━━━━━━\u001b[0m\u001b[37m\u001b[0m \u001b[1m0s\u001b[0m 2ms/step - accuracy: 0.9176 - loss: 0.2583\n",
            "Test Accuracy: 0.9206\n"
          ]
        }
      ]
    },
    {
      "cell_type": "markdown",
      "source": [
        "# 4th try\n",
        "implemented:\n",
        "\n",
        "\n",
        "1.   increased no of layers. 2 -> 3 layers. (64, 32, 16)\n",
        "2.   plus whatever in last model\n",
        "\n"
      ],
      "metadata": {
        "id": "x6O6LleM_i94"
      }
    },
    {
      "cell_type": "code",
      "source": [
        "from keras.layers import Input, Embedding, Flatten, concatenate, Dense, Dropout\n",
        "from keras.models import Model\n",
        "from keras.callbacks import EarlyStopping\n",
        "from keras.regularizers import l2\n",
        "\n",
        "\n",
        "def build_model(num_users, num_items, embedding_dim):\n",
        "    user_input = Input(shape=(1,))\n",
        "    item_input = Input(shape=(1,))\n",
        "\n",
        "    # GMF Part\n",
        "    user_embedding_gmf = Embedding(num_users, embedding_dim)(user_input)\n",
        "    item_embedding_gmf = Embedding(num_items, embedding_dim)(item_input)\n",
        "    gmf_vector = Flatten()(user_embedding_gmf) * Flatten()(item_embedding_gmf)\n",
        "\n",
        "    # MLP Part\n",
        "    user_embedding_mlp = Embedding(num_users, embedding_dim)(user_input)\n",
        "    item_embedding_mlp = Embedding(num_items, embedding_dim)(item_input)\n",
        "    mlp_vector = concatenate([Flatten()(user_embedding_mlp), Flatten()(item_embedding_mlp)])\n",
        "\n",
        "\n",
        "    mlp_vector = Dense(64, activation='relu',kernel_regularizer=l2(0.001))(mlp_vector)\n",
        "    mlp_vector = Dropout(0.3)(mlp_vector)  # Dropout layer added here\n",
        "    mlp_vector = Dense(32, activation='relu',kernel_regularizer=l2(0.001))(mlp_vector)\n",
        "    mlp_vector = Dropout(0.3)(mlp_vector)  # Dropout layer added here\n",
        "    mlp_vector = Dense(16, activation='relu',kernel_regularizer=l2(0.001))(mlp_vector)\n",
        "    mlp_vector = Dropout(0.3)(mlp_vector)  # Dropout layer added here\n",
        "\n",
        "    # Concatenate GMF and MLP parts\n",
        "    ncf_vector = concatenate([gmf_vector, mlp_vector])\n",
        "\n",
        "    # Final output layer\n",
        "    output = Dense(1, activation=\"sigmoid\")(ncf_vector)\n",
        "\n",
        "    # Build and compile the model\n",
        "    ncf_model = Model(inputs=[user_input, item_input], outputs=output)\n",
        "    ncf_model.compile(optimizer=\"adam\", loss=\"binary_crossentropy\", metrics=[\"accuracy\"])\n",
        "    ncf_model.summary()\n",
        "\n",
        "    return ncf_model\n",
        "\n",
        "# Example usage\n",
        "num_users = balanced_df.userId.max() + 1\n",
        "num_items = balanced_df.movieId.max() + 1\n",
        "embedding_dim = 50\n",
        "model = build_model(num_users, num_items, embedding_dim)\n",
        "early_stopping = EarlyStopping(monitor='val_loss', patience=3, restore_best_weights=True)\n",
        "model.fit([X_train.iloc[:, 0], X_train.iloc[:, 1]], y_train, epochs=10, batch_size=64,\n",
        "          validation_data=([X_test.iloc[:, 0],X_test.iloc[:, 1]], y_test),callbacks=[early_stopping])\n",
        "loss, accuracy = model.evaluate([X_test.iloc[:, 0], X_test.iloc[:, 1]], y_test)\n",
        "print(f'Test Accuracy: {accuracy:.4f}')\n"
      ],
      "metadata": {
        "colab": {
          "base_uri": "https://localhost:8080/",
          "height": 1000
        },
        "id": "GEXsWbOpzm5S",
        "outputId": "a4d196be-1a6e-4fba-92d3-3067425f8ec2"
      },
      "execution_count": 25,
      "outputs": [
        {
          "output_type": "display_data",
          "data": {
            "text/plain": [
              "\u001b[1mModel: \"functional_6\"\u001b[0m\n"
            ],
            "text/html": [
              "<pre style=\"white-space:pre;overflow-x:auto;line-height:normal;font-family:Menlo,'DejaVu Sans Mono',consolas,'Courier New',monospace\"><span style=\"font-weight: bold\">Model: \"functional_6\"</span>\n",
              "</pre>\n"
            ]
          },
          "metadata": {}
        },
        {
          "output_type": "display_data",
          "data": {
            "text/plain": [
              "┏━━━━━━━━━━━━━━━━━━━━━━━━━━━┳━━━━━━━━━━━━━━━━━━━━━━━━┳━━━━━━━━━━━━━━━━┳━━━━━━━━━━━━━━━━━━━━━━━━┓\n",
              "┃\u001b[1m \u001b[0m\u001b[1mLayer (type)             \u001b[0m\u001b[1m \u001b[0m┃\u001b[1m \u001b[0m\u001b[1mOutput Shape          \u001b[0m\u001b[1m \u001b[0m┃\u001b[1m \u001b[0m\u001b[1m       Param #\u001b[0m\u001b[1m \u001b[0m┃\u001b[1m \u001b[0m\u001b[1mConnected to          \u001b[0m\u001b[1m \u001b[0m┃\n",
              "┡━━━━━━━━━━━━━━━━━━━━━━━━━━━╇━━━━━━━━━━━━━━━━━━━━━━━━╇━━━━━━━━━━━━━━━━╇━━━━━━━━━━━━━━━━━━━━━━━━┩\n",
              "│ input_layer_18            │ (\u001b[38;5;45mNone\u001b[0m, \u001b[38;5;34m1\u001b[0m)              │              \u001b[38;5;34m0\u001b[0m │ -                      │\n",
              "│ (\u001b[38;5;33mInputLayer\u001b[0m)              │                        │                │                        │\n",
              "├───────────────────────────┼────────────────────────┼────────────────┼────────────────────────┤\n",
              "│ input_layer_19            │ (\u001b[38;5;45mNone\u001b[0m, \u001b[38;5;34m1\u001b[0m)              │              \u001b[38;5;34m0\u001b[0m │ -                      │\n",
              "│ (\u001b[38;5;33mInputLayer\u001b[0m)              │                        │                │                        │\n",
              "├───────────────────────────┼────────────────────────┼────────────────┼────────────────────────┤\n",
              "│ embedding_38 (\u001b[38;5;33mEmbedding\u001b[0m)  │ (\u001b[38;5;45mNone\u001b[0m, \u001b[38;5;34m1\u001b[0m, \u001b[38;5;34m50\u001b[0m)          │        \u001b[38;5;34m485,800\u001b[0m │ input_layer_18[\u001b[38;5;34m0\u001b[0m][\u001b[38;5;34m0\u001b[0m]   │\n",
              "├───────────────────────────┼────────────────────────┼────────────────┼────────────────────────┤\n",
              "│ embedding_39 (\u001b[38;5;33mEmbedding\u001b[0m)  │ (\u001b[38;5;45mNone\u001b[0m, \u001b[38;5;34m1\u001b[0m, \u001b[38;5;34m50\u001b[0m)          │      \u001b[38;5;34m8,773,800\u001b[0m │ input_layer_19[\u001b[38;5;34m0\u001b[0m][\u001b[38;5;34m0\u001b[0m]   │\n",
              "├───────────────────────────┼────────────────────────┼────────────────┼────────────────────────┤\n",
              "│ flatten_38 (\u001b[38;5;33mFlatten\u001b[0m)      │ (\u001b[38;5;45mNone\u001b[0m, \u001b[38;5;34m50\u001b[0m)             │              \u001b[38;5;34m0\u001b[0m │ embedding_38[\u001b[38;5;34m0\u001b[0m][\u001b[38;5;34m0\u001b[0m]     │\n",
              "├───────────────────────────┼────────────────────────┼────────────────┼────────────────────────┤\n",
              "│ flatten_39 (\u001b[38;5;33mFlatten\u001b[0m)      │ (\u001b[38;5;45mNone\u001b[0m, \u001b[38;5;34m50\u001b[0m)             │              \u001b[38;5;34m0\u001b[0m │ embedding_39[\u001b[38;5;34m0\u001b[0m][\u001b[38;5;34m0\u001b[0m]     │\n",
              "├───────────────────────────┼────────────────────────┼────────────────┼────────────────────────┤\n",
              "│ concatenate_17            │ (\u001b[38;5;45mNone\u001b[0m, \u001b[38;5;34m100\u001b[0m)            │              \u001b[38;5;34m0\u001b[0m │ flatten_38[\u001b[38;5;34m0\u001b[0m][\u001b[38;5;34m0\u001b[0m],      │\n",
              "│ (\u001b[38;5;33mConcatenate\u001b[0m)             │                        │                │ flatten_39[\u001b[38;5;34m0\u001b[0m][\u001b[38;5;34m0\u001b[0m]       │\n",
              "├───────────────────────────┼────────────────────────┼────────────────┼────────────────────────┤\n",
              "│ dense_24 (\u001b[38;5;33mDense\u001b[0m)          │ (\u001b[38;5;45mNone\u001b[0m, \u001b[38;5;34m64\u001b[0m)             │          \u001b[38;5;34m6,464\u001b[0m │ concatenate_17[\u001b[38;5;34m0\u001b[0m][\u001b[38;5;34m0\u001b[0m]   │\n",
              "├───────────────────────────┼────────────────────────┼────────────────┼────────────────────────┤\n",
              "│ dropout_4 (\u001b[38;5;33mDropout\u001b[0m)       │ (\u001b[38;5;45mNone\u001b[0m, \u001b[38;5;34m64\u001b[0m)             │              \u001b[38;5;34m0\u001b[0m │ dense_24[\u001b[38;5;34m0\u001b[0m][\u001b[38;5;34m0\u001b[0m]         │\n",
              "├───────────────────────────┼────────────────────────┼────────────────┼────────────────────────┤\n",
              "│ dense_25 (\u001b[38;5;33mDense\u001b[0m)          │ (\u001b[38;5;45mNone\u001b[0m, \u001b[38;5;34m32\u001b[0m)             │          \u001b[38;5;34m2,080\u001b[0m │ dropout_4[\u001b[38;5;34m0\u001b[0m][\u001b[38;5;34m0\u001b[0m]        │\n",
              "├───────────────────────────┼────────────────────────┼────────────────┼────────────────────────┤\n",
              "│ embedding_36 (\u001b[38;5;33mEmbedding\u001b[0m)  │ (\u001b[38;5;45mNone\u001b[0m, \u001b[38;5;34m1\u001b[0m, \u001b[38;5;34m50\u001b[0m)          │        \u001b[38;5;34m485,800\u001b[0m │ input_layer_18[\u001b[38;5;34m0\u001b[0m][\u001b[38;5;34m0\u001b[0m]   │\n",
              "├───────────────────────────┼────────────────────────┼────────────────┼────────────────────────┤\n",
              "│ embedding_37 (\u001b[38;5;33mEmbedding\u001b[0m)  │ (\u001b[38;5;45mNone\u001b[0m, \u001b[38;5;34m1\u001b[0m, \u001b[38;5;34m50\u001b[0m)          │      \u001b[38;5;34m8,773,800\u001b[0m │ input_layer_19[\u001b[38;5;34m0\u001b[0m][\u001b[38;5;34m0\u001b[0m]   │\n",
              "├───────────────────────────┼────────────────────────┼────────────────┼────────────────────────┤\n",
              "│ dropout_5 (\u001b[38;5;33mDropout\u001b[0m)       │ (\u001b[38;5;45mNone\u001b[0m, \u001b[38;5;34m32\u001b[0m)             │              \u001b[38;5;34m0\u001b[0m │ dense_25[\u001b[38;5;34m0\u001b[0m][\u001b[38;5;34m0\u001b[0m]         │\n",
              "├───────────────────────────┼────────────────────────┼────────────────┼────────────────────────┤\n",
              "│ flatten_36 (\u001b[38;5;33mFlatten\u001b[0m)      │ (\u001b[38;5;45mNone\u001b[0m, \u001b[38;5;34m50\u001b[0m)             │              \u001b[38;5;34m0\u001b[0m │ embedding_36[\u001b[38;5;34m0\u001b[0m][\u001b[38;5;34m0\u001b[0m]     │\n",
              "├───────────────────────────┼────────────────────────┼────────────────┼────────────────────────┤\n",
              "│ flatten_37 (\u001b[38;5;33mFlatten\u001b[0m)      │ (\u001b[38;5;45mNone\u001b[0m, \u001b[38;5;34m50\u001b[0m)             │              \u001b[38;5;34m0\u001b[0m │ embedding_37[\u001b[38;5;34m0\u001b[0m][\u001b[38;5;34m0\u001b[0m]     │\n",
              "├───────────────────────────┼────────────────────────┼────────────────┼────────────────────────┤\n",
              "│ dense_26 (\u001b[38;5;33mDense\u001b[0m)          │ (\u001b[38;5;45mNone\u001b[0m, \u001b[38;5;34m16\u001b[0m)             │            \u001b[38;5;34m528\u001b[0m │ dropout_5[\u001b[38;5;34m0\u001b[0m][\u001b[38;5;34m0\u001b[0m]        │\n",
              "├───────────────────────────┼────────────────────────┼────────────────┼────────────────────────┤\n",
              "│ multiply_9 (\u001b[38;5;33mMultiply\u001b[0m)     │ (\u001b[38;5;45mNone\u001b[0m, \u001b[38;5;34m50\u001b[0m)             │              \u001b[38;5;34m0\u001b[0m │ flatten_36[\u001b[38;5;34m0\u001b[0m][\u001b[38;5;34m0\u001b[0m],      │\n",
              "│                           │                        │                │ flatten_37[\u001b[38;5;34m0\u001b[0m][\u001b[38;5;34m0\u001b[0m]       │\n",
              "├───────────────────────────┼────────────────────────┼────────────────┼────────────────────────┤\n",
              "│ dropout_6 (\u001b[38;5;33mDropout\u001b[0m)       │ (\u001b[38;5;45mNone\u001b[0m, \u001b[38;5;34m16\u001b[0m)             │              \u001b[38;5;34m0\u001b[0m │ dense_26[\u001b[38;5;34m0\u001b[0m][\u001b[38;5;34m0\u001b[0m]         │\n",
              "├───────────────────────────┼────────────────────────┼────────────────┼────────────────────────┤\n",
              "│ concatenate_18            │ (\u001b[38;5;45mNone\u001b[0m, \u001b[38;5;34m66\u001b[0m)             │              \u001b[38;5;34m0\u001b[0m │ multiply_9[\u001b[38;5;34m0\u001b[0m][\u001b[38;5;34m0\u001b[0m],      │\n",
              "│ (\u001b[38;5;33mConcatenate\u001b[0m)             │                        │                │ dropout_6[\u001b[38;5;34m0\u001b[0m][\u001b[38;5;34m0\u001b[0m]        │\n",
              "├───────────────────────────┼────────────────────────┼────────────────┼────────────────────────┤\n",
              "│ dense_27 (\u001b[38;5;33mDense\u001b[0m)          │ (\u001b[38;5;45mNone\u001b[0m, \u001b[38;5;34m1\u001b[0m)              │             \u001b[38;5;34m67\u001b[0m │ concatenate_18[\u001b[38;5;34m0\u001b[0m][\u001b[38;5;34m0\u001b[0m]   │\n",
              "└───────────────────────────┴────────────────────────┴────────────────┴────────────────────────┘\n"
            ],
            "text/html": [
              "<pre style=\"white-space:pre;overflow-x:auto;line-height:normal;font-family:Menlo,'DejaVu Sans Mono',consolas,'Courier New',monospace\">┏━━━━━━━━━━━━━━━━━━━━━━━━━━━┳━━━━━━━━━━━━━━━━━━━━━━━━┳━━━━━━━━━━━━━━━━┳━━━━━━━━━━━━━━━━━━━━━━━━┓\n",
              "┃<span style=\"font-weight: bold\"> Layer (type)              </span>┃<span style=\"font-weight: bold\"> Output Shape           </span>┃<span style=\"font-weight: bold\">        Param # </span>┃<span style=\"font-weight: bold\"> Connected to           </span>┃\n",
              "┡━━━━━━━━━━━━━━━━━━━━━━━━━━━╇━━━━━━━━━━━━━━━━━━━━━━━━╇━━━━━━━━━━━━━━━━╇━━━━━━━━━━━━━━━━━━━━━━━━┩\n",
              "│ input_layer_18            │ (<span style=\"color: #00d7ff; text-decoration-color: #00d7ff\">None</span>, <span style=\"color: #00af00; text-decoration-color: #00af00\">1</span>)              │              <span style=\"color: #00af00; text-decoration-color: #00af00\">0</span> │ -                      │\n",
              "│ (<span style=\"color: #0087ff; text-decoration-color: #0087ff\">InputLayer</span>)              │                        │                │                        │\n",
              "├───────────────────────────┼────────────────────────┼────────────────┼────────────────────────┤\n",
              "│ input_layer_19            │ (<span style=\"color: #00d7ff; text-decoration-color: #00d7ff\">None</span>, <span style=\"color: #00af00; text-decoration-color: #00af00\">1</span>)              │              <span style=\"color: #00af00; text-decoration-color: #00af00\">0</span> │ -                      │\n",
              "│ (<span style=\"color: #0087ff; text-decoration-color: #0087ff\">InputLayer</span>)              │                        │                │                        │\n",
              "├───────────────────────────┼────────────────────────┼────────────────┼────────────────────────┤\n",
              "│ embedding_38 (<span style=\"color: #0087ff; text-decoration-color: #0087ff\">Embedding</span>)  │ (<span style=\"color: #00d7ff; text-decoration-color: #00d7ff\">None</span>, <span style=\"color: #00af00; text-decoration-color: #00af00\">1</span>, <span style=\"color: #00af00; text-decoration-color: #00af00\">50</span>)          │        <span style=\"color: #00af00; text-decoration-color: #00af00\">485,800</span> │ input_layer_18[<span style=\"color: #00af00; text-decoration-color: #00af00\">0</span>][<span style=\"color: #00af00; text-decoration-color: #00af00\">0</span>]   │\n",
              "├───────────────────────────┼────────────────────────┼────────────────┼────────────────────────┤\n",
              "│ embedding_39 (<span style=\"color: #0087ff; text-decoration-color: #0087ff\">Embedding</span>)  │ (<span style=\"color: #00d7ff; text-decoration-color: #00d7ff\">None</span>, <span style=\"color: #00af00; text-decoration-color: #00af00\">1</span>, <span style=\"color: #00af00; text-decoration-color: #00af00\">50</span>)          │      <span style=\"color: #00af00; text-decoration-color: #00af00\">8,773,800</span> │ input_layer_19[<span style=\"color: #00af00; text-decoration-color: #00af00\">0</span>][<span style=\"color: #00af00; text-decoration-color: #00af00\">0</span>]   │\n",
              "├───────────────────────────┼────────────────────────┼────────────────┼────────────────────────┤\n",
              "│ flatten_38 (<span style=\"color: #0087ff; text-decoration-color: #0087ff\">Flatten</span>)      │ (<span style=\"color: #00d7ff; text-decoration-color: #00d7ff\">None</span>, <span style=\"color: #00af00; text-decoration-color: #00af00\">50</span>)             │              <span style=\"color: #00af00; text-decoration-color: #00af00\">0</span> │ embedding_38[<span style=\"color: #00af00; text-decoration-color: #00af00\">0</span>][<span style=\"color: #00af00; text-decoration-color: #00af00\">0</span>]     │\n",
              "├───────────────────────────┼────────────────────────┼────────────────┼────────────────────────┤\n",
              "│ flatten_39 (<span style=\"color: #0087ff; text-decoration-color: #0087ff\">Flatten</span>)      │ (<span style=\"color: #00d7ff; text-decoration-color: #00d7ff\">None</span>, <span style=\"color: #00af00; text-decoration-color: #00af00\">50</span>)             │              <span style=\"color: #00af00; text-decoration-color: #00af00\">0</span> │ embedding_39[<span style=\"color: #00af00; text-decoration-color: #00af00\">0</span>][<span style=\"color: #00af00; text-decoration-color: #00af00\">0</span>]     │\n",
              "├───────────────────────────┼────────────────────────┼────────────────┼────────────────────────┤\n",
              "│ concatenate_17            │ (<span style=\"color: #00d7ff; text-decoration-color: #00d7ff\">None</span>, <span style=\"color: #00af00; text-decoration-color: #00af00\">100</span>)            │              <span style=\"color: #00af00; text-decoration-color: #00af00\">0</span> │ flatten_38[<span style=\"color: #00af00; text-decoration-color: #00af00\">0</span>][<span style=\"color: #00af00; text-decoration-color: #00af00\">0</span>],      │\n",
              "│ (<span style=\"color: #0087ff; text-decoration-color: #0087ff\">Concatenate</span>)             │                        │                │ flatten_39[<span style=\"color: #00af00; text-decoration-color: #00af00\">0</span>][<span style=\"color: #00af00; text-decoration-color: #00af00\">0</span>]       │\n",
              "├───────────────────────────┼────────────────────────┼────────────────┼────────────────────────┤\n",
              "│ dense_24 (<span style=\"color: #0087ff; text-decoration-color: #0087ff\">Dense</span>)          │ (<span style=\"color: #00d7ff; text-decoration-color: #00d7ff\">None</span>, <span style=\"color: #00af00; text-decoration-color: #00af00\">64</span>)             │          <span style=\"color: #00af00; text-decoration-color: #00af00\">6,464</span> │ concatenate_17[<span style=\"color: #00af00; text-decoration-color: #00af00\">0</span>][<span style=\"color: #00af00; text-decoration-color: #00af00\">0</span>]   │\n",
              "├───────────────────────────┼────────────────────────┼────────────────┼────────────────────────┤\n",
              "│ dropout_4 (<span style=\"color: #0087ff; text-decoration-color: #0087ff\">Dropout</span>)       │ (<span style=\"color: #00d7ff; text-decoration-color: #00d7ff\">None</span>, <span style=\"color: #00af00; text-decoration-color: #00af00\">64</span>)             │              <span style=\"color: #00af00; text-decoration-color: #00af00\">0</span> │ dense_24[<span style=\"color: #00af00; text-decoration-color: #00af00\">0</span>][<span style=\"color: #00af00; text-decoration-color: #00af00\">0</span>]         │\n",
              "├───────────────────────────┼────────────────────────┼────────────────┼────────────────────────┤\n",
              "│ dense_25 (<span style=\"color: #0087ff; text-decoration-color: #0087ff\">Dense</span>)          │ (<span style=\"color: #00d7ff; text-decoration-color: #00d7ff\">None</span>, <span style=\"color: #00af00; text-decoration-color: #00af00\">32</span>)             │          <span style=\"color: #00af00; text-decoration-color: #00af00\">2,080</span> │ dropout_4[<span style=\"color: #00af00; text-decoration-color: #00af00\">0</span>][<span style=\"color: #00af00; text-decoration-color: #00af00\">0</span>]        │\n",
              "├───────────────────────────┼────────────────────────┼────────────────┼────────────────────────┤\n",
              "│ embedding_36 (<span style=\"color: #0087ff; text-decoration-color: #0087ff\">Embedding</span>)  │ (<span style=\"color: #00d7ff; text-decoration-color: #00d7ff\">None</span>, <span style=\"color: #00af00; text-decoration-color: #00af00\">1</span>, <span style=\"color: #00af00; text-decoration-color: #00af00\">50</span>)          │        <span style=\"color: #00af00; text-decoration-color: #00af00\">485,800</span> │ input_layer_18[<span style=\"color: #00af00; text-decoration-color: #00af00\">0</span>][<span style=\"color: #00af00; text-decoration-color: #00af00\">0</span>]   │\n",
              "├───────────────────────────┼────────────────────────┼────────────────┼────────────────────────┤\n",
              "│ embedding_37 (<span style=\"color: #0087ff; text-decoration-color: #0087ff\">Embedding</span>)  │ (<span style=\"color: #00d7ff; text-decoration-color: #00d7ff\">None</span>, <span style=\"color: #00af00; text-decoration-color: #00af00\">1</span>, <span style=\"color: #00af00; text-decoration-color: #00af00\">50</span>)          │      <span style=\"color: #00af00; text-decoration-color: #00af00\">8,773,800</span> │ input_layer_19[<span style=\"color: #00af00; text-decoration-color: #00af00\">0</span>][<span style=\"color: #00af00; text-decoration-color: #00af00\">0</span>]   │\n",
              "├───────────────────────────┼────────────────────────┼────────────────┼────────────────────────┤\n",
              "│ dropout_5 (<span style=\"color: #0087ff; text-decoration-color: #0087ff\">Dropout</span>)       │ (<span style=\"color: #00d7ff; text-decoration-color: #00d7ff\">None</span>, <span style=\"color: #00af00; text-decoration-color: #00af00\">32</span>)             │              <span style=\"color: #00af00; text-decoration-color: #00af00\">0</span> │ dense_25[<span style=\"color: #00af00; text-decoration-color: #00af00\">0</span>][<span style=\"color: #00af00; text-decoration-color: #00af00\">0</span>]         │\n",
              "├───────────────────────────┼────────────────────────┼────────────────┼────────────────────────┤\n",
              "│ flatten_36 (<span style=\"color: #0087ff; text-decoration-color: #0087ff\">Flatten</span>)      │ (<span style=\"color: #00d7ff; text-decoration-color: #00d7ff\">None</span>, <span style=\"color: #00af00; text-decoration-color: #00af00\">50</span>)             │              <span style=\"color: #00af00; text-decoration-color: #00af00\">0</span> │ embedding_36[<span style=\"color: #00af00; text-decoration-color: #00af00\">0</span>][<span style=\"color: #00af00; text-decoration-color: #00af00\">0</span>]     │\n",
              "├───────────────────────────┼────────────────────────┼────────────────┼────────────────────────┤\n",
              "│ flatten_37 (<span style=\"color: #0087ff; text-decoration-color: #0087ff\">Flatten</span>)      │ (<span style=\"color: #00d7ff; text-decoration-color: #00d7ff\">None</span>, <span style=\"color: #00af00; text-decoration-color: #00af00\">50</span>)             │              <span style=\"color: #00af00; text-decoration-color: #00af00\">0</span> │ embedding_37[<span style=\"color: #00af00; text-decoration-color: #00af00\">0</span>][<span style=\"color: #00af00; text-decoration-color: #00af00\">0</span>]     │\n",
              "├───────────────────────────┼────────────────────────┼────────────────┼────────────────────────┤\n",
              "│ dense_26 (<span style=\"color: #0087ff; text-decoration-color: #0087ff\">Dense</span>)          │ (<span style=\"color: #00d7ff; text-decoration-color: #00d7ff\">None</span>, <span style=\"color: #00af00; text-decoration-color: #00af00\">16</span>)             │            <span style=\"color: #00af00; text-decoration-color: #00af00\">528</span> │ dropout_5[<span style=\"color: #00af00; text-decoration-color: #00af00\">0</span>][<span style=\"color: #00af00; text-decoration-color: #00af00\">0</span>]        │\n",
              "├───────────────────────────┼────────────────────────┼────────────────┼────────────────────────┤\n",
              "│ multiply_9 (<span style=\"color: #0087ff; text-decoration-color: #0087ff\">Multiply</span>)     │ (<span style=\"color: #00d7ff; text-decoration-color: #00d7ff\">None</span>, <span style=\"color: #00af00; text-decoration-color: #00af00\">50</span>)             │              <span style=\"color: #00af00; text-decoration-color: #00af00\">0</span> │ flatten_36[<span style=\"color: #00af00; text-decoration-color: #00af00\">0</span>][<span style=\"color: #00af00; text-decoration-color: #00af00\">0</span>],      │\n",
              "│                           │                        │                │ flatten_37[<span style=\"color: #00af00; text-decoration-color: #00af00\">0</span>][<span style=\"color: #00af00; text-decoration-color: #00af00\">0</span>]       │\n",
              "├───────────────────────────┼────────────────────────┼────────────────┼────────────────────────┤\n",
              "│ dropout_6 (<span style=\"color: #0087ff; text-decoration-color: #0087ff\">Dropout</span>)       │ (<span style=\"color: #00d7ff; text-decoration-color: #00d7ff\">None</span>, <span style=\"color: #00af00; text-decoration-color: #00af00\">16</span>)             │              <span style=\"color: #00af00; text-decoration-color: #00af00\">0</span> │ dense_26[<span style=\"color: #00af00; text-decoration-color: #00af00\">0</span>][<span style=\"color: #00af00; text-decoration-color: #00af00\">0</span>]         │\n",
              "├───────────────────────────┼────────────────────────┼────────────────┼────────────────────────┤\n",
              "│ concatenate_18            │ (<span style=\"color: #00d7ff; text-decoration-color: #00d7ff\">None</span>, <span style=\"color: #00af00; text-decoration-color: #00af00\">66</span>)             │              <span style=\"color: #00af00; text-decoration-color: #00af00\">0</span> │ multiply_9[<span style=\"color: #00af00; text-decoration-color: #00af00\">0</span>][<span style=\"color: #00af00; text-decoration-color: #00af00\">0</span>],      │\n",
              "│ (<span style=\"color: #0087ff; text-decoration-color: #0087ff\">Concatenate</span>)             │                        │                │ dropout_6[<span style=\"color: #00af00; text-decoration-color: #00af00\">0</span>][<span style=\"color: #00af00; text-decoration-color: #00af00\">0</span>]        │\n",
              "├───────────────────────────┼────────────────────────┼────────────────┼────────────────────────┤\n",
              "│ dense_27 (<span style=\"color: #0087ff; text-decoration-color: #0087ff\">Dense</span>)          │ (<span style=\"color: #00d7ff; text-decoration-color: #00d7ff\">None</span>, <span style=\"color: #00af00; text-decoration-color: #00af00\">1</span>)              │             <span style=\"color: #00af00; text-decoration-color: #00af00\">67</span> │ concatenate_18[<span style=\"color: #00af00; text-decoration-color: #00af00\">0</span>][<span style=\"color: #00af00; text-decoration-color: #00af00\">0</span>]   │\n",
              "└───────────────────────────┴────────────────────────┴────────────────┴────────────────────────┘\n",
              "</pre>\n"
            ]
          },
          "metadata": {}
        },
        {
          "output_type": "display_data",
          "data": {
            "text/plain": [
              "\u001b[1m Total params: \u001b[0m\u001b[38;5;34m18,528,339\u001b[0m (70.68 MB)\n"
            ],
            "text/html": [
              "<pre style=\"white-space:pre;overflow-x:auto;line-height:normal;font-family:Menlo,'DejaVu Sans Mono',consolas,'Courier New',monospace\"><span style=\"font-weight: bold\"> Total params: </span><span style=\"color: #00af00; text-decoration-color: #00af00\">18,528,339</span> (70.68 MB)\n",
              "</pre>\n"
            ]
          },
          "metadata": {}
        },
        {
          "output_type": "display_data",
          "data": {
            "text/plain": [
              "\u001b[1m Trainable params: \u001b[0m\u001b[38;5;34m18,528,339\u001b[0m (70.68 MB)\n"
            ],
            "text/html": [
              "<pre style=\"white-space:pre;overflow-x:auto;line-height:normal;font-family:Menlo,'DejaVu Sans Mono',consolas,'Courier New',monospace\"><span style=\"font-weight: bold\"> Trainable params: </span><span style=\"color: #00af00; text-decoration-color: #00af00\">18,528,339</span> (70.68 MB)\n",
              "</pre>\n"
            ]
          },
          "metadata": {}
        },
        {
          "output_type": "display_data",
          "data": {
            "text/plain": [
              "\u001b[1m Non-trainable params: \u001b[0m\u001b[38;5;34m0\u001b[0m (0.00 B)\n"
            ],
            "text/html": [
              "<pre style=\"white-space:pre;overflow-x:auto;line-height:normal;font-family:Menlo,'DejaVu Sans Mono',consolas,'Courier New',monospace\"><span style=\"font-weight: bold\"> Non-trainable params: </span><span style=\"color: #00af00; text-decoration-color: #00af00\">0</span> (0.00 B)\n",
              "</pre>\n"
            ]
          },
          "metadata": {}
        },
        {
          "output_type": "stream",
          "name": "stdout",
          "text": [
            "Epoch 1/10\n",
            "\u001b[1m313/313\u001b[0m \u001b[32m━━━━━━━━━━━━━━━━━━━━\u001b[0m\u001b[37m\u001b[0m \u001b[1m90s\u001b[0m 274ms/step - accuracy: 0.8065 - loss: 0.5878 - val_accuracy: 0.9234 - val_loss: 0.2613\n",
            "Epoch 2/10\n",
            "\u001b[1m313/313\u001b[0m \u001b[32m━━━━━━━━━━━━━━━━━━━━\u001b[0m\u001b[37m\u001b[0m \u001b[1m86s\u001b[0m 273ms/step - accuracy: 0.9252 - loss: 0.2409 - val_accuracy: 0.9174 - val_loss: 0.2571\n",
            "Epoch 3/10\n",
            "\u001b[1m313/313\u001b[0m \u001b[32m━━━━━━━━━━━━━━━━━━━━\u001b[0m\u001b[37m\u001b[0m \u001b[1m87s\u001b[0m 277ms/step - accuracy: 0.9372 - loss: 0.1905 - val_accuracy: 0.8974 - val_loss: 0.2974\n",
            "Epoch 4/10\n",
            "\u001b[1m313/313\u001b[0m \u001b[32m━━━━━━━━━━━━━━━━━━━━\u001b[0m\u001b[37m\u001b[0m \u001b[1m142s\u001b[0m 276ms/step - accuracy: 0.9667 - loss: 0.1223 - val_accuracy: 0.8854 - val_loss: 0.3720\n",
            "Epoch 5/10\n",
            "\u001b[1m313/313\u001b[0m \u001b[32m━━━━━━━━━━━━━━━━━━━━\u001b[0m\u001b[37m\u001b[0m \u001b[1m144s\u001b[0m 282ms/step - accuracy: 0.9910 - loss: 0.0667 - val_accuracy: 0.8834 - val_loss: 0.4016\n",
            "\u001b[1m157/157\u001b[0m \u001b[32m━━━━━━━━━━━━━━━━━━━━\u001b[0m\u001b[37m\u001b[0m \u001b[1m0s\u001b[0m 1ms/step - accuracy: 0.9170 - loss: 0.2644\n",
            "Test Accuracy: 0.9174\n"
          ]
        }
      ]
    },
    {
      "cell_type": "markdown",
      "source": [
        "# 5th try - new highest. slightly higher than 3\n",
        "implementing:\n",
        "\n",
        "\n",
        "1.   decreasing model complexity\n",
        "2.   rest same from last model\n",
        "\n"
      ],
      "metadata": {
        "id": "28ANA2EvCZpP"
      }
    },
    {
      "cell_type": "code",
      "source": [
        "from keras.layers import Input, Embedding, Flatten, concatenate, Dense, Dropout\n",
        "from keras.models import Model\n",
        "from keras.callbacks import EarlyStopping\n",
        "from keras.regularizers import l2\n",
        "\n",
        "\n",
        "def build_model(num_users, num_items, embedding_dim):\n",
        "    user_input = Input(shape=(1,))\n",
        "    item_input = Input(shape=(1,))\n",
        "\n",
        "    # GMF Part\n",
        "    user_embedding_gmf = Embedding(num_users, embedding_dim)(user_input)\n",
        "    item_embedding_gmf = Embedding(num_items, embedding_dim)(item_input)\n",
        "    gmf_vector = Flatten()(user_embedding_gmf) * Flatten()(item_embedding_gmf)\n",
        "\n",
        "    # MLP Part\n",
        "    user_embedding_mlp = Embedding(num_users, embedding_dim)(user_input)\n",
        "    item_embedding_mlp = Embedding(num_items, embedding_dim)(item_input)\n",
        "    mlp_vector = concatenate([Flatten()(user_embedding_mlp), Flatten()(item_embedding_mlp)])\n",
        "\n",
        "\n",
        "    # mlp_vector = Dense(64, activation='relu',kernel_regularizer=l2(0.001))(mlp_vector)\n",
        "    # mlp_vector = Dropout(0.3)(mlp_vector)  # Dropout layer added here\n",
        "    mlp_vector = Dense(32, activation='relu',kernel_regularizer=l2(0.001))(mlp_vector)\n",
        "    mlp_vector = Dropout(0.3)(mlp_vector)  # Dropout layer added here\n",
        "    mlp_vector = Dense(16, activation='relu',kernel_regularizer=l2(0.001))(mlp_vector)\n",
        "    mlp_vector = Dropout(0.3)(mlp_vector)  # Dropout layer added here\n",
        "\n",
        "    # Concatenate GMF and MLP parts\n",
        "    ncf_vector = concatenate([gmf_vector, mlp_vector])\n",
        "\n",
        "    # Final output layer\n",
        "    output = Dense(1, activation=\"sigmoid\")(ncf_vector)\n",
        "\n",
        "    # Build and compile the model\n",
        "    ncf_model = Model(inputs=[user_input, item_input], outputs=output)\n",
        "    ncf_model.compile(optimizer=\"adam\", loss=\"binary_crossentropy\", metrics=[\"accuracy\"])\n",
        "    ncf_model.summary()\n",
        "\n",
        "    return ncf_model\n",
        "\n",
        "# Example usage\n",
        "num_users = balanced_df.userId.max() + 1\n",
        "num_items = balanced_df.movieId.max() + 1\n",
        "embedding_dim = 50\n",
        "model = build_model(num_users, num_items, embedding_dim)\n",
        "early_stopping = EarlyStopping(monitor='val_loss', patience=3, restore_best_weights=True)\n",
        "model.fit([X_train.iloc[:, 0], X_train.iloc[:, 1]], y_train, epochs=10, batch_size=64,\n",
        "          validation_data=([X_test.iloc[:, 0],X_test.iloc[:, 1]], y_test),callbacks=[early_stopping])\n",
        "loss, accuracy = model.evaluate([X_test.iloc[:, 0], X_test.iloc[:, 1]], y_test)\n",
        "print(f'Test Accuracy: {accuracy:.4f}')\n"
      ],
      "metadata": {
        "colab": {
          "base_uri": "https://localhost:8080/",
          "height": 1000
        },
        "id": "e0rGyJOY_zYt",
        "outputId": "9515bbfc-a50c-4b43-a69a-c22c5ae86fd8"
      },
      "execution_count": 27,
      "outputs": [
        {
          "output_type": "display_data",
          "data": {
            "text/plain": [
              "\u001b[1mModel: \"functional_8\"\u001b[0m\n"
            ],
            "text/html": [
              "<pre style=\"white-space:pre;overflow-x:auto;line-height:normal;font-family:Menlo,'DejaVu Sans Mono',consolas,'Courier New',monospace\"><span style=\"font-weight: bold\">Model: \"functional_8\"</span>\n",
              "</pre>\n"
            ]
          },
          "metadata": {}
        },
        {
          "output_type": "display_data",
          "data": {
            "text/plain": [
              "┏━━━━━━━━━━━━━━━━━━━━━━━━━━━┳━━━━━━━━━━━━━━━━━━━━━━━━┳━━━━━━━━━━━━━━━━┳━━━━━━━━━━━━━━━━━━━━━━━━┓\n",
              "┃\u001b[1m \u001b[0m\u001b[1mLayer (type)             \u001b[0m\u001b[1m \u001b[0m┃\u001b[1m \u001b[0m\u001b[1mOutput Shape          \u001b[0m\u001b[1m \u001b[0m┃\u001b[1m \u001b[0m\u001b[1m       Param #\u001b[0m\u001b[1m \u001b[0m┃\u001b[1m \u001b[0m\u001b[1mConnected to          \u001b[0m\u001b[1m \u001b[0m┃\n",
              "┡━━━━━━━━━━━━━━━━━━━━━━━━━━━╇━━━━━━━━━━━━━━━━━━━━━━━━╇━━━━━━━━━━━━━━━━╇━━━━━━━━━━━━━━━━━━━━━━━━┩\n",
              "│ input_layer_22            │ (\u001b[38;5;45mNone\u001b[0m, \u001b[38;5;34m1\u001b[0m)              │              \u001b[38;5;34m0\u001b[0m │ -                      │\n",
              "│ (\u001b[38;5;33mInputLayer\u001b[0m)              │                        │                │                        │\n",
              "├───────────────────────────┼────────────────────────┼────────────────┼────────────────────────┤\n",
              "│ input_layer_23            │ (\u001b[38;5;45mNone\u001b[0m, \u001b[38;5;34m1\u001b[0m)              │              \u001b[38;5;34m0\u001b[0m │ -                      │\n",
              "│ (\u001b[38;5;33mInputLayer\u001b[0m)              │                        │                │                        │\n",
              "├───────────────────────────┼────────────────────────┼────────────────┼────────────────────────┤\n",
              "│ embedding_46 (\u001b[38;5;33mEmbedding\u001b[0m)  │ (\u001b[38;5;45mNone\u001b[0m, \u001b[38;5;34m1\u001b[0m, \u001b[38;5;34m50\u001b[0m)          │        \u001b[38;5;34m485,800\u001b[0m │ input_layer_22[\u001b[38;5;34m0\u001b[0m][\u001b[38;5;34m0\u001b[0m]   │\n",
              "├───────────────────────────┼────────────────────────┼────────────────┼────────────────────────┤\n",
              "│ embedding_47 (\u001b[38;5;33mEmbedding\u001b[0m)  │ (\u001b[38;5;45mNone\u001b[0m, \u001b[38;5;34m1\u001b[0m, \u001b[38;5;34m50\u001b[0m)          │      \u001b[38;5;34m8,773,800\u001b[0m │ input_layer_23[\u001b[38;5;34m0\u001b[0m][\u001b[38;5;34m0\u001b[0m]   │\n",
              "├───────────────────────────┼────────────────────────┼────────────────┼────────────────────────┤\n",
              "│ flatten_46 (\u001b[38;5;33mFlatten\u001b[0m)      │ (\u001b[38;5;45mNone\u001b[0m, \u001b[38;5;34m50\u001b[0m)             │              \u001b[38;5;34m0\u001b[0m │ embedding_46[\u001b[38;5;34m0\u001b[0m][\u001b[38;5;34m0\u001b[0m]     │\n",
              "├───────────────────────────┼────────────────────────┼────────────────┼────────────────────────┤\n",
              "│ flatten_47 (\u001b[38;5;33mFlatten\u001b[0m)      │ (\u001b[38;5;45mNone\u001b[0m, \u001b[38;5;34m50\u001b[0m)             │              \u001b[38;5;34m0\u001b[0m │ embedding_47[\u001b[38;5;34m0\u001b[0m][\u001b[38;5;34m0\u001b[0m]     │\n",
              "├───────────────────────────┼────────────────────────┼────────────────┼────────────────────────┤\n",
              "│ concatenate_21            │ (\u001b[38;5;45mNone\u001b[0m, \u001b[38;5;34m100\u001b[0m)            │              \u001b[38;5;34m0\u001b[0m │ flatten_46[\u001b[38;5;34m0\u001b[0m][\u001b[38;5;34m0\u001b[0m],      │\n",
              "│ (\u001b[38;5;33mConcatenate\u001b[0m)             │                        │                │ flatten_47[\u001b[38;5;34m0\u001b[0m][\u001b[38;5;34m0\u001b[0m]       │\n",
              "├───────────────────────────┼────────────────────────┼────────────────┼────────────────────────┤\n",
              "│ dense_31 (\u001b[38;5;33mDense\u001b[0m)          │ (\u001b[38;5;45mNone\u001b[0m, \u001b[38;5;34m32\u001b[0m)             │          \u001b[38;5;34m3,232\u001b[0m │ concatenate_21[\u001b[38;5;34m0\u001b[0m][\u001b[38;5;34m0\u001b[0m]   │\n",
              "├───────────────────────────┼────────────────────────┼────────────────┼────────────────────────┤\n",
              "│ embedding_44 (\u001b[38;5;33mEmbedding\u001b[0m)  │ (\u001b[38;5;45mNone\u001b[0m, \u001b[38;5;34m1\u001b[0m, \u001b[38;5;34m50\u001b[0m)          │        \u001b[38;5;34m485,800\u001b[0m │ input_layer_22[\u001b[38;5;34m0\u001b[0m][\u001b[38;5;34m0\u001b[0m]   │\n",
              "├───────────────────────────┼────────────────────────┼────────────────┼────────────────────────┤\n",
              "│ embedding_45 (\u001b[38;5;33mEmbedding\u001b[0m)  │ (\u001b[38;5;45mNone\u001b[0m, \u001b[38;5;34m1\u001b[0m, \u001b[38;5;34m50\u001b[0m)          │      \u001b[38;5;34m8,773,800\u001b[0m │ input_layer_23[\u001b[38;5;34m0\u001b[0m][\u001b[38;5;34m0\u001b[0m]   │\n",
              "├───────────────────────────┼────────────────────────┼────────────────┼────────────────────────┤\n",
              "│ dropout_9 (\u001b[38;5;33mDropout\u001b[0m)       │ (\u001b[38;5;45mNone\u001b[0m, \u001b[38;5;34m32\u001b[0m)             │              \u001b[38;5;34m0\u001b[0m │ dense_31[\u001b[38;5;34m0\u001b[0m][\u001b[38;5;34m0\u001b[0m]         │\n",
              "├───────────────────────────┼────────────────────────┼────────────────┼────────────────────────┤\n",
              "│ flatten_44 (\u001b[38;5;33mFlatten\u001b[0m)      │ (\u001b[38;5;45mNone\u001b[0m, \u001b[38;5;34m50\u001b[0m)             │              \u001b[38;5;34m0\u001b[0m │ embedding_44[\u001b[38;5;34m0\u001b[0m][\u001b[38;5;34m0\u001b[0m]     │\n",
              "├───────────────────────────┼────────────────────────┼────────────────┼────────────────────────┤\n",
              "│ flatten_45 (\u001b[38;5;33mFlatten\u001b[0m)      │ (\u001b[38;5;45mNone\u001b[0m, \u001b[38;5;34m50\u001b[0m)             │              \u001b[38;5;34m0\u001b[0m │ embedding_45[\u001b[38;5;34m0\u001b[0m][\u001b[38;5;34m0\u001b[0m]     │\n",
              "├───────────────────────────┼────────────────────────┼────────────────┼────────────────────────┤\n",
              "│ dense_32 (\u001b[38;5;33mDense\u001b[0m)          │ (\u001b[38;5;45mNone\u001b[0m, \u001b[38;5;34m16\u001b[0m)             │            \u001b[38;5;34m528\u001b[0m │ dropout_9[\u001b[38;5;34m0\u001b[0m][\u001b[38;5;34m0\u001b[0m]        │\n",
              "├───────────────────────────┼────────────────────────┼────────────────┼────────────────────────┤\n",
              "│ multiply_11 (\u001b[38;5;33mMultiply\u001b[0m)    │ (\u001b[38;5;45mNone\u001b[0m, \u001b[38;5;34m50\u001b[0m)             │              \u001b[38;5;34m0\u001b[0m │ flatten_44[\u001b[38;5;34m0\u001b[0m][\u001b[38;5;34m0\u001b[0m],      │\n",
              "│                           │                        │                │ flatten_45[\u001b[38;5;34m0\u001b[0m][\u001b[38;5;34m0\u001b[0m]       │\n",
              "├───────────────────────────┼────────────────────────┼────────────────┼────────────────────────┤\n",
              "│ dropout_10 (\u001b[38;5;33mDropout\u001b[0m)      │ (\u001b[38;5;45mNone\u001b[0m, \u001b[38;5;34m16\u001b[0m)             │              \u001b[38;5;34m0\u001b[0m │ dense_32[\u001b[38;5;34m0\u001b[0m][\u001b[38;5;34m0\u001b[0m]         │\n",
              "├───────────────────────────┼────────────────────────┼────────────────┼────────────────────────┤\n",
              "│ concatenate_22            │ (\u001b[38;5;45mNone\u001b[0m, \u001b[38;5;34m66\u001b[0m)             │              \u001b[38;5;34m0\u001b[0m │ multiply_11[\u001b[38;5;34m0\u001b[0m][\u001b[38;5;34m0\u001b[0m],     │\n",
              "│ (\u001b[38;5;33mConcatenate\u001b[0m)             │                        │                │ dropout_10[\u001b[38;5;34m0\u001b[0m][\u001b[38;5;34m0\u001b[0m]       │\n",
              "├───────────────────────────┼────────────────────────┼────────────────┼────────────────────────┤\n",
              "│ dense_33 (\u001b[38;5;33mDense\u001b[0m)          │ (\u001b[38;5;45mNone\u001b[0m, \u001b[38;5;34m1\u001b[0m)              │             \u001b[38;5;34m67\u001b[0m │ concatenate_22[\u001b[38;5;34m0\u001b[0m][\u001b[38;5;34m0\u001b[0m]   │\n",
              "└───────────────────────────┴────────────────────────┴────────────────┴────────────────────────┘\n"
            ],
            "text/html": [
              "<pre style=\"white-space:pre;overflow-x:auto;line-height:normal;font-family:Menlo,'DejaVu Sans Mono',consolas,'Courier New',monospace\">┏━━━━━━━━━━━━━━━━━━━━━━━━━━━┳━━━━━━━━━━━━━━━━━━━━━━━━┳━━━━━━━━━━━━━━━━┳━━━━━━━━━━━━━━━━━━━━━━━━┓\n",
              "┃<span style=\"font-weight: bold\"> Layer (type)              </span>┃<span style=\"font-weight: bold\"> Output Shape           </span>┃<span style=\"font-weight: bold\">        Param # </span>┃<span style=\"font-weight: bold\"> Connected to           </span>┃\n",
              "┡━━━━━━━━━━━━━━━━━━━━━━━━━━━╇━━━━━━━━━━━━━━━━━━━━━━━━╇━━━━━━━━━━━━━━━━╇━━━━━━━━━━━━━━━━━━━━━━━━┩\n",
              "│ input_layer_22            │ (<span style=\"color: #00d7ff; text-decoration-color: #00d7ff\">None</span>, <span style=\"color: #00af00; text-decoration-color: #00af00\">1</span>)              │              <span style=\"color: #00af00; text-decoration-color: #00af00\">0</span> │ -                      │\n",
              "│ (<span style=\"color: #0087ff; text-decoration-color: #0087ff\">InputLayer</span>)              │                        │                │                        │\n",
              "├───────────────────────────┼────────────────────────┼────────────────┼────────────────────────┤\n",
              "│ input_layer_23            │ (<span style=\"color: #00d7ff; text-decoration-color: #00d7ff\">None</span>, <span style=\"color: #00af00; text-decoration-color: #00af00\">1</span>)              │              <span style=\"color: #00af00; text-decoration-color: #00af00\">0</span> │ -                      │\n",
              "│ (<span style=\"color: #0087ff; text-decoration-color: #0087ff\">InputLayer</span>)              │                        │                │                        │\n",
              "├───────────────────────────┼────────────────────────┼────────────────┼────────────────────────┤\n",
              "│ embedding_46 (<span style=\"color: #0087ff; text-decoration-color: #0087ff\">Embedding</span>)  │ (<span style=\"color: #00d7ff; text-decoration-color: #00d7ff\">None</span>, <span style=\"color: #00af00; text-decoration-color: #00af00\">1</span>, <span style=\"color: #00af00; text-decoration-color: #00af00\">50</span>)          │        <span style=\"color: #00af00; text-decoration-color: #00af00\">485,800</span> │ input_layer_22[<span style=\"color: #00af00; text-decoration-color: #00af00\">0</span>][<span style=\"color: #00af00; text-decoration-color: #00af00\">0</span>]   │\n",
              "├───────────────────────────┼────────────────────────┼────────────────┼────────────────────────┤\n",
              "│ embedding_47 (<span style=\"color: #0087ff; text-decoration-color: #0087ff\">Embedding</span>)  │ (<span style=\"color: #00d7ff; text-decoration-color: #00d7ff\">None</span>, <span style=\"color: #00af00; text-decoration-color: #00af00\">1</span>, <span style=\"color: #00af00; text-decoration-color: #00af00\">50</span>)          │      <span style=\"color: #00af00; text-decoration-color: #00af00\">8,773,800</span> │ input_layer_23[<span style=\"color: #00af00; text-decoration-color: #00af00\">0</span>][<span style=\"color: #00af00; text-decoration-color: #00af00\">0</span>]   │\n",
              "├───────────────────────────┼────────────────────────┼────────────────┼────────────────────────┤\n",
              "│ flatten_46 (<span style=\"color: #0087ff; text-decoration-color: #0087ff\">Flatten</span>)      │ (<span style=\"color: #00d7ff; text-decoration-color: #00d7ff\">None</span>, <span style=\"color: #00af00; text-decoration-color: #00af00\">50</span>)             │              <span style=\"color: #00af00; text-decoration-color: #00af00\">0</span> │ embedding_46[<span style=\"color: #00af00; text-decoration-color: #00af00\">0</span>][<span style=\"color: #00af00; text-decoration-color: #00af00\">0</span>]     │\n",
              "├───────────────────────────┼────────────────────────┼────────────────┼────────────────────────┤\n",
              "│ flatten_47 (<span style=\"color: #0087ff; text-decoration-color: #0087ff\">Flatten</span>)      │ (<span style=\"color: #00d7ff; text-decoration-color: #00d7ff\">None</span>, <span style=\"color: #00af00; text-decoration-color: #00af00\">50</span>)             │              <span style=\"color: #00af00; text-decoration-color: #00af00\">0</span> │ embedding_47[<span style=\"color: #00af00; text-decoration-color: #00af00\">0</span>][<span style=\"color: #00af00; text-decoration-color: #00af00\">0</span>]     │\n",
              "├───────────────────────────┼────────────────────────┼────────────────┼────────────────────────┤\n",
              "│ concatenate_21            │ (<span style=\"color: #00d7ff; text-decoration-color: #00d7ff\">None</span>, <span style=\"color: #00af00; text-decoration-color: #00af00\">100</span>)            │              <span style=\"color: #00af00; text-decoration-color: #00af00\">0</span> │ flatten_46[<span style=\"color: #00af00; text-decoration-color: #00af00\">0</span>][<span style=\"color: #00af00; text-decoration-color: #00af00\">0</span>],      │\n",
              "│ (<span style=\"color: #0087ff; text-decoration-color: #0087ff\">Concatenate</span>)             │                        │                │ flatten_47[<span style=\"color: #00af00; text-decoration-color: #00af00\">0</span>][<span style=\"color: #00af00; text-decoration-color: #00af00\">0</span>]       │\n",
              "├───────────────────────────┼────────────────────────┼────────────────┼────────────────────────┤\n",
              "│ dense_31 (<span style=\"color: #0087ff; text-decoration-color: #0087ff\">Dense</span>)          │ (<span style=\"color: #00d7ff; text-decoration-color: #00d7ff\">None</span>, <span style=\"color: #00af00; text-decoration-color: #00af00\">32</span>)             │          <span style=\"color: #00af00; text-decoration-color: #00af00\">3,232</span> │ concatenate_21[<span style=\"color: #00af00; text-decoration-color: #00af00\">0</span>][<span style=\"color: #00af00; text-decoration-color: #00af00\">0</span>]   │\n",
              "├───────────────────────────┼────────────────────────┼────────────────┼────────────────────────┤\n",
              "│ embedding_44 (<span style=\"color: #0087ff; text-decoration-color: #0087ff\">Embedding</span>)  │ (<span style=\"color: #00d7ff; text-decoration-color: #00d7ff\">None</span>, <span style=\"color: #00af00; text-decoration-color: #00af00\">1</span>, <span style=\"color: #00af00; text-decoration-color: #00af00\">50</span>)          │        <span style=\"color: #00af00; text-decoration-color: #00af00\">485,800</span> │ input_layer_22[<span style=\"color: #00af00; text-decoration-color: #00af00\">0</span>][<span style=\"color: #00af00; text-decoration-color: #00af00\">0</span>]   │\n",
              "├───────────────────────────┼────────────────────────┼────────────────┼────────────────────────┤\n",
              "│ embedding_45 (<span style=\"color: #0087ff; text-decoration-color: #0087ff\">Embedding</span>)  │ (<span style=\"color: #00d7ff; text-decoration-color: #00d7ff\">None</span>, <span style=\"color: #00af00; text-decoration-color: #00af00\">1</span>, <span style=\"color: #00af00; text-decoration-color: #00af00\">50</span>)          │      <span style=\"color: #00af00; text-decoration-color: #00af00\">8,773,800</span> │ input_layer_23[<span style=\"color: #00af00; text-decoration-color: #00af00\">0</span>][<span style=\"color: #00af00; text-decoration-color: #00af00\">0</span>]   │\n",
              "├───────────────────────────┼────────────────────────┼────────────────┼────────────────────────┤\n",
              "│ dropout_9 (<span style=\"color: #0087ff; text-decoration-color: #0087ff\">Dropout</span>)       │ (<span style=\"color: #00d7ff; text-decoration-color: #00d7ff\">None</span>, <span style=\"color: #00af00; text-decoration-color: #00af00\">32</span>)             │              <span style=\"color: #00af00; text-decoration-color: #00af00\">0</span> │ dense_31[<span style=\"color: #00af00; text-decoration-color: #00af00\">0</span>][<span style=\"color: #00af00; text-decoration-color: #00af00\">0</span>]         │\n",
              "├───────────────────────────┼────────────────────────┼────────────────┼────────────────────────┤\n",
              "│ flatten_44 (<span style=\"color: #0087ff; text-decoration-color: #0087ff\">Flatten</span>)      │ (<span style=\"color: #00d7ff; text-decoration-color: #00d7ff\">None</span>, <span style=\"color: #00af00; text-decoration-color: #00af00\">50</span>)             │              <span style=\"color: #00af00; text-decoration-color: #00af00\">0</span> │ embedding_44[<span style=\"color: #00af00; text-decoration-color: #00af00\">0</span>][<span style=\"color: #00af00; text-decoration-color: #00af00\">0</span>]     │\n",
              "├───────────────────────────┼────────────────────────┼────────────────┼────────────────────────┤\n",
              "│ flatten_45 (<span style=\"color: #0087ff; text-decoration-color: #0087ff\">Flatten</span>)      │ (<span style=\"color: #00d7ff; text-decoration-color: #00d7ff\">None</span>, <span style=\"color: #00af00; text-decoration-color: #00af00\">50</span>)             │              <span style=\"color: #00af00; text-decoration-color: #00af00\">0</span> │ embedding_45[<span style=\"color: #00af00; text-decoration-color: #00af00\">0</span>][<span style=\"color: #00af00; text-decoration-color: #00af00\">0</span>]     │\n",
              "├───────────────────────────┼────────────────────────┼────────────────┼────────────────────────┤\n",
              "│ dense_32 (<span style=\"color: #0087ff; text-decoration-color: #0087ff\">Dense</span>)          │ (<span style=\"color: #00d7ff; text-decoration-color: #00d7ff\">None</span>, <span style=\"color: #00af00; text-decoration-color: #00af00\">16</span>)             │            <span style=\"color: #00af00; text-decoration-color: #00af00\">528</span> │ dropout_9[<span style=\"color: #00af00; text-decoration-color: #00af00\">0</span>][<span style=\"color: #00af00; text-decoration-color: #00af00\">0</span>]        │\n",
              "├───────────────────────────┼────────────────────────┼────────────────┼────────────────────────┤\n",
              "│ multiply_11 (<span style=\"color: #0087ff; text-decoration-color: #0087ff\">Multiply</span>)    │ (<span style=\"color: #00d7ff; text-decoration-color: #00d7ff\">None</span>, <span style=\"color: #00af00; text-decoration-color: #00af00\">50</span>)             │              <span style=\"color: #00af00; text-decoration-color: #00af00\">0</span> │ flatten_44[<span style=\"color: #00af00; text-decoration-color: #00af00\">0</span>][<span style=\"color: #00af00; text-decoration-color: #00af00\">0</span>],      │\n",
              "│                           │                        │                │ flatten_45[<span style=\"color: #00af00; text-decoration-color: #00af00\">0</span>][<span style=\"color: #00af00; text-decoration-color: #00af00\">0</span>]       │\n",
              "├───────────────────────────┼────────────────────────┼────────────────┼────────────────────────┤\n",
              "│ dropout_10 (<span style=\"color: #0087ff; text-decoration-color: #0087ff\">Dropout</span>)      │ (<span style=\"color: #00d7ff; text-decoration-color: #00d7ff\">None</span>, <span style=\"color: #00af00; text-decoration-color: #00af00\">16</span>)             │              <span style=\"color: #00af00; text-decoration-color: #00af00\">0</span> │ dense_32[<span style=\"color: #00af00; text-decoration-color: #00af00\">0</span>][<span style=\"color: #00af00; text-decoration-color: #00af00\">0</span>]         │\n",
              "├───────────────────────────┼────────────────────────┼────────────────┼────────────────────────┤\n",
              "│ concatenate_22            │ (<span style=\"color: #00d7ff; text-decoration-color: #00d7ff\">None</span>, <span style=\"color: #00af00; text-decoration-color: #00af00\">66</span>)             │              <span style=\"color: #00af00; text-decoration-color: #00af00\">0</span> │ multiply_11[<span style=\"color: #00af00; text-decoration-color: #00af00\">0</span>][<span style=\"color: #00af00; text-decoration-color: #00af00\">0</span>],     │\n",
              "│ (<span style=\"color: #0087ff; text-decoration-color: #0087ff\">Concatenate</span>)             │                        │                │ dropout_10[<span style=\"color: #00af00; text-decoration-color: #00af00\">0</span>][<span style=\"color: #00af00; text-decoration-color: #00af00\">0</span>]       │\n",
              "├───────────────────────────┼────────────────────────┼────────────────┼────────────────────────┤\n",
              "│ dense_33 (<span style=\"color: #0087ff; text-decoration-color: #0087ff\">Dense</span>)          │ (<span style=\"color: #00d7ff; text-decoration-color: #00d7ff\">None</span>, <span style=\"color: #00af00; text-decoration-color: #00af00\">1</span>)              │             <span style=\"color: #00af00; text-decoration-color: #00af00\">67</span> │ concatenate_22[<span style=\"color: #00af00; text-decoration-color: #00af00\">0</span>][<span style=\"color: #00af00; text-decoration-color: #00af00\">0</span>]   │\n",
              "└───────────────────────────┴────────────────────────┴────────────────┴────────────────────────┘\n",
              "</pre>\n"
            ]
          },
          "metadata": {}
        },
        {
          "output_type": "display_data",
          "data": {
            "text/plain": [
              "\u001b[1m Total params: \u001b[0m\u001b[38;5;34m18,523,027\u001b[0m (70.66 MB)\n"
            ],
            "text/html": [
              "<pre style=\"white-space:pre;overflow-x:auto;line-height:normal;font-family:Menlo,'DejaVu Sans Mono',consolas,'Courier New',monospace\"><span style=\"font-weight: bold\"> Total params: </span><span style=\"color: #00af00; text-decoration-color: #00af00\">18,523,027</span> (70.66 MB)\n",
              "</pre>\n"
            ]
          },
          "metadata": {}
        },
        {
          "output_type": "display_data",
          "data": {
            "text/plain": [
              "\u001b[1m Trainable params: \u001b[0m\u001b[38;5;34m18,523,027\u001b[0m (70.66 MB)\n"
            ],
            "text/html": [
              "<pre style=\"white-space:pre;overflow-x:auto;line-height:normal;font-family:Menlo,'DejaVu Sans Mono',consolas,'Courier New',monospace\"><span style=\"font-weight: bold\"> Trainable params: </span><span style=\"color: #00af00; text-decoration-color: #00af00\">18,523,027</span> (70.66 MB)\n",
              "</pre>\n"
            ]
          },
          "metadata": {}
        },
        {
          "output_type": "display_data",
          "data": {
            "text/plain": [
              "\u001b[1m Non-trainable params: \u001b[0m\u001b[38;5;34m0\u001b[0m (0.00 B)\n"
            ],
            "text/html": [
              "<pre style=\"white-space:pre;overflow-x:auto;line-height:normal;font-family:Menlo,'DejaVu Sans Mono',consolas,'Courier New',monospace\"><span style=\"font-weight: bold\"> Non-trainable params: </span><span style=\"color: #00af00; text-decoration-color: #00af00\">0</span> (0.00 B)\n",
              "</pre>\n"
            ]
          },
          "metadata": {}
        },
        {
          "output_type": "stream",
          "name": "stdout",
          "text": [
            "Epoch 1/10\n"
          ]
        },
        {
          "output_type": "stream",
          "name": "stderr",
          "text": [
            "Exception ignored in: <function _xla_gc_callback at 0x7c141af7c430>\n",
            "Traceback (most recent call last):\n",
            "  File \"/usr/local/lib/python3.10/dist-packages/jax/_src/lib/__init__.py\", line 98, in _xla_gc_callback\n",
            "    def _xla_gc_callback(*args):\n",
            "KeyboardInterrupt: \n"
          ]
        },
        {
          "output_type": "stream",
          "name": "stdout",
          "text": [
            "\u001b[1m313/313\u001b[0m \u001b[32m━━━━━━━━━━━━━━━━━━━━\u001b[0m\u001b[37m\u001b[0m \u001b[1m122s\u001b[0m 311ms/step - accuracy: 0.8082 - loss: 0.5781 - val_accuracy: 0.9242 - val_loss: 0.2544\n",
            "Epoch 2/10\n",
            "\u001b[1m313/313\u001b[0m \u001b[32m━━━━━━━━━━━━━━━━━━━━\u001b[0m\u001b[37m\u001b[0m \u001b[1m133s\u001b[0m 282ms/step - accuracy: 0.9267 - loss: 0.2283 - val_accuracy: 0.9226 - val_loss: 0.2467\n",
            "Epoch 3/10\n",
            "\u001b[1m313/313\u001b[0m \u001b[32m━━━━━━━━━━━━━━━━━━━━\u001b[0m\u001b[37m\u001b[0m \u001b[1m90s\u001b[0m 288ms/step - accuracy: 0.9355 - loss: 0.1927 - val_accuracy: 0.9074 - val_loss: 0.2847\n",
            "Epoch 4/10\n",
            "\u001b[1m313/313\u001b[0m \u001b[32m━━━━━━━━━━━━━━━━━━━━\u001b[0m\u001b[37m\u001b[0m \u001b[1m140s\u001b[0m 281ms/step - accuracy: 0.9692 - loss: 0.1194 - val_accuracy: 0.8892 - val_loss: 0.3401\n",
            "Epoch 5/10\n",
            "\u001b[1m313/313\u001b[0m \u001b[32m━━━━━━━━━━━━━━━━━━━━\u001b[0m\u001b[37m\u001b[0m \u001b[1m169s\u001b[0m 366ms/step - accuracy: 0.9924 - loss: 0.0672 - val_accuracy: 0.8932 - val_loss: 0.3660\n",
            "\u001b[1m157/157\u001b[0m \u001b[32m━━━━━━━━━━━━━━━━━━━━\u001b[0m\u001b[37m\u001b[0m \u001b[1m0s\u001b[0m 2ms/step - accuracy: 0.9207 - loss: 0.2539\n",
            "Test Accuracy: 0.9226\n"
          ]
        }
      ]
    },
    {
      "cell_type": "code",
      "source": [
        "model.save(\"ncf_model.h5\")"
      ],
      "metadata": {
        "colab": {
          "base_uri": "https://localhost:8080/"
        },
        "id": "0jcSsAVWFzVh",
        "outputId": "b73fcea9-171f-4c1a-c504-c10ca30d0089"
      },
      "execution_count": 28,
      "outputs": [
        {
          "output_type": "stream",
          "name": "stderr",
          "text": [
            "WARNING:absl:You are saving your model as an HDF5 file via `model.save()` or `keras.saving.save_model(model)`. This file format is considered legacy. We recommend using instead the native Keras format, e.g. `model.save('my_model.keras')` or `keras.saving.save_model(model, 'my_model.keras')`. \n"
          ]
        }
      ]
    },
    {
      "cell_type": "code",
      "source": [],
      "metadata": {
        "id": "BnEGa7_7F89U"
      },
      "execution_count": null,
      "outputs": []
    }
  ]
}